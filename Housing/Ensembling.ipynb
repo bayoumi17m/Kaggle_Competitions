{
 "cells": [
  {
   "cell_type": "code",
   "execution_count": 55,
   "metadata": {
    "collapsed": true
   },
   "outputs": [],
   "source": [
    "import numpy as np \n",
    "import pandas as pd\n",
    "import seaborn as sns\n",
    "from mpl_toolkits.mplot3d import Axes3D\n",
    "import matplotlib.pyplot as plt\n",
    "from pylab import *\n",
    "from sklearn.model_selection import train_test_split\n",
    "from sklearn.neighbors import KNeighborsClassifier\n",
    "import itertools\n",
    "from sklearn.metrics import confusion_matrix, r2_score\n",
    "from sklearn.metrics import recall_score, precision_score\n",
    "from sklearn.metrics import precision_recall_fscore_support\n",
    "from sklearn.linear_model import LinearRegression\n",
    "from sklearn.metrics import mean_squared_error\n",
    "from sklearn.ensemble import BaggingRegressor, GradientBoostingRegressor, AdaBoostRegressor,ExtraTreesRegressor, RandomForestRegressor\n",
    "from sklearn.model_selection import cross_val_score, KFold\n",
    "import warnings\n",
    "warnings.filterwarnings('ignore')\n",
    "%matplotlib inline\n",
    "\n",
    "path_to_train_data = \"./train.csv\""
   ]
  },
  {
   "cell_type": "code",
   "execution_count": 2,
   "metadata": {},
   "outputs": [
    {
     "name": "stdout",
     "output_type": "stream",
     "text": [
      "Number of houses: 1460\n",
      "Number of features: 79\n"
     ]
    }
   ],
   "source": [
    "df = pd.read_csv(path_to_train_data)\n",
    "\n",
    "def cleanup():\n",
    "    df.LotFrontage.fillna(df.LotFrontage.median(), inplace=True)\n",
    "    df.Alley.fillna(\"None\",inplace=True)\n",
    "    df.MasVnrType.fillna(\"None\",inplace=True)\n",
    "    df.MasVnrArea.fillna(0.0, inplace=True)\n",
    "    df.BsmtQual.fillna(\"None\",inplace=True)\n",
    "    df.BsmtCond.fillna(\"None\",inplace=True)\n",
    "    df.BsmtExposure.fillna(\"None\",inplace=True)\n",
    "    df.BsmtFinType1.fillna(\"None\",inplace=True)\n",
    "    df.BsmtFinType2.fillna(\"None\",inplace=True)\n",
    "    df.Electrical.fillna(\"SBrkr\",inplace=True)\n",
    "    df.FireplaceQu.fillna(\"None\",inplace=True)\n",
    "    df.GarageType.fillna(\"None\",inplace=True)\n",
    "    df.GarageYrBlt.fillna(\"None\",inplace=True)\n",
    "    df.GarageFinish.fillna(\"None\",inplace=True)\n",
    "    df.GarageQual.fillna(\"None\",inplace=True)\n",
    "    df.GarageCond.fillna(\"None\",inplace=True)\n",
    "    df.PoolQC.fillna(\"None\",inplace=True)\n",
    "    df.Fence.fillna(\"None\",inplace=True)\n",
    "    df.MiscFeature.fillna(\"None\",inplace=True)\n",
    "    quality_dictionary = {'None': 0, 'Po': 1, 'Fa': 2, 'TA': 3, 'Gd': 4, 'Ex': 5}\n",
    "    df['ExterQual']   = df['ExterQual'].map(quality_dictionary).astype(int)\n",
    "    df['ExterCond']   = df['ExterCond'].map(quality_dictionary).astype(int)\n",
    "    df['BsmtQual']    = df['BsmtQual'].map(quality_dictionary).astype(int)\n",
    "    df['BsmtCond']    = df['BsmtCond'].map(quality_dictionary).astype(int)\n",
    "    df['HeatingQC']   = df['HeatingQC'].map(quality_dictionary).astype(int)\n",
    "    df['KitchenQual'] = df['KitchenQual'].map(quality_dictionary).astype(int)\n",
    "    df['FireplaceQu'] = df['FireplaceQu'].map(quality_dictionary).astype(int)\n",
    "    df['GarageQual']  = df['GarageQual'].map(quality_dictionary).astype(int)\n",
    "    df['GarageCond']  = df['GarageCond'].map(quality_dictionary).astype(int)\n",
    "    df['PoolQC']      = df['PoolQC'].map(quality_dictionary).astype(int)\n",
    "\n",
    "    #saving memory\n",
    "    del quality_dictionary\n",
    "\n",
    "    df['BsmtExposure'] = df['BsmtExposure'].map({'None': 0, 'No': 1, 'Mn': 2, 'Av': 3, 'Gd': 4}).astype(int)\n",
    "\n",
    "    bsmtdict = {'None': 0, 'Unf': 1, 'LwQ': 2, 'Rec': 3, 'BLQ': 4, 'ALQ': 5, 'GLQ': 6}\n",
    "    df['BsmtFinType1'] = df['BsmtFinType1'].map(bsmtdict).astype(int)\n",
    "    df['BsmtFinType2'] = df['BsmtFinType2'].map(bsmtdict).astype(int)\n",
    "\n",
    "    df['Functional'] = df['Functional'].map({'None': 0, 'Sal': 1, 'Sev': 2, 'Maj2': 3, 'Maj1': 4, \n",
    "                                             'Mod': 5, 'Min2': 6, 'Min1': 7, 'Typ': 8}).astype(int)\n",
    "\n",
    "    df['GarageFinish'] = df['GarageFinish'].map({'None': 0, 'Unf': 1, 'RFn': 2, 'Fin': 3}).astype(int)\n",
    "    df['Fence'] = df['Fence'].map({'None': 0, 'MnWw': 1, 'GdWo': 2, 'MnPrv': 3, 'GdPrv': 4}).astype(int)\n",
    "\n",
    "    del bsmtdict\n",
    "\n",
    "cleanup()\n",
    "print('Number of houses:', format(df.shape[0]))\n",
    "print ('Number of features:', format(df.shape[1]-2))\n",
    "\n"
   ]
  },
  {
   "cell_type": "code",
   "execution_count": 3,
   "metadata": {},
   "outputs": [
    {
     "data": {
      "text/html": [
       "<div>\n",
       "<style>\n",
       "    .dataframe thead tr:only-child th {\n",
       "        text-align: right;\n",
       "    }\n",
       "\n",
       "    .dataframe thead th {\n",
       "        text-align: left;\n",
       "    }\n",
       "\n",
       "    .dataframe tbody tr th {\n",
       "        vertical-align: top;\n",
       "    }\n",
       "</style>\n",
       "<table border=\"1\" class=\"dataframe\">\n",
       "  <thead>\n",
       "    <tr style=\"text-align: right;\">\n",
       "      <th></th>\n",
       "      <th>Id</th>\n",
       "      <th>MSSubClass</th>\n",
       "      <th>MSZoning</th>\n",
       "      <th>LotFrontage</th>\n",
       "      <th>LotArea</th>\n",
       "      <th>Street</th>\n",
       "      <th>Alley</th>\n",
       "      <th>LotShape</th>\n",
       "      <th>LandContour</th>\n",
       "      <th>Utilities</th>\n",
       "      <th>...</th>\n",
       "      <th>PoolArea</th>\n",
       "      <th>PoolQC</th>\n",
       "      <th>Fence</th>\n",
       "      <th>MiscFeature</th>\n",
       "      <th>MiscVal</th>\n",
       "      <th>MoSold</th>\n",
       "      <th>YrSold</th>\n",
       "      <th>SaleType</th>\n",
       "      <th>SaleCondition</th>\n",
       "      <th>SalePrice</th>\n",
       "    </tr>\n",
       "  </thead>\n",
       "  <tbody>\n",
       "    <tr>\n",
       "      <th>0</th>\n",
       "      <td>1</td>\n",
       "      <td>60</td>\n",
       "      <td>RL</td>\n",
       "      <td>65.0</td>\n",
       "      <td>8450</td>\n",
       "      <td>Pave</td>\n",
       "      <td>None</td>\n",
       "      <td>Reg</td>\n",
       "      <td>Lvl</td>\n",
       "      <td>AllPub</td>\n",
       "      <td>...</td>\n",
       "      <td>0</td>\n",
       "      <td>0</td>\n",
       "      <td>0</td>\n",
       "      <td>None</td>\n",
       "      <td>0</td>\n",
       "      <td>2</td>\n",
       "      <td>2008</td>\n",
       "      <td>WD</td>\n",
       "      <td>Normal</td>\n",
       "      <td>208500</td>\n",
       "    </tr>\n",
       "    <tr>\n",
       "      <th>1</th>\n",
       "      <td>2</td>\n",
       "      <td>20</td>\n",
       "      <td>RL</td>\n",
       "      <td>80.0</td>\n",
       "      <td>9600</td>\n",
       "      <td>Pave</td>\n",
       "      <td>None</td>\n",
       "      <td>Reg</td>\n",
       "      <td>Lvl</td>\n",
       "      <td>AllPub</td>\n",
       "      <td>...</td>\n",
       "      <td>0</td>\n",
       "      <td>0</td>\n",
       "      <td>0</td>\n",
       "      <td>None</td>\n",
       "      <td>0</td>\n",
       "      <td>5</td>\n",
       "      <td>2007</td>\n",
       "      <td>WD</td>\n",
       "      <td>Normal</td>\n",
       "      <td>181500</td>\n",
       "    </tr>\n",
       "    <tr>\n",
       "      <th>2</th>\n",
       "      <td>3</td>\n",
       "      <td>60</td>\n",
       "      <td>RL</td>\n",
       "      <td>68.0</td>\n",
       "      <td>11250</td>\n",
       "      <td>Pave</td>\n",
       "      <td>None</td>\n",
       "      <td>IR1</td>\n",
       "      <td>Lvl</td>\n",
       "      <td>AllPub</td>\n",
       "      <td>...</td>\n",
       "      <td>0</td>\n",
       "      <td>0</td>\n",
       "      <td>0</td>\n",
       "      <td>None</td>\n",
       "      <td>0</td>\n",
       "      <td>9</td>\n",
       "      <td>2008</td>\n",
       "      <td>WD</td>\n",
       "      <td>Normal</td>\n",
       "      <td>223500</td>\n",
       "    </tr>\n",
       "    <tr>\n",
       "      <th>3</th>\n",
       "      <td>4</td>\n",
       "      <td>70</td>\n",
       "      <td>RL</td>\n",
       "      <td>60.0</td>\n",
       "      <td>9550</td>\n",
       "      <td>Pave</td>\n",
       "      <td>None</td>\n",
       "      <td>IR1</td>\n",
       "      <td>Lvl</td>\n",
       "      <td>AllPub</td>\n",
       "      <td>...</td>\n",
       "      <td>0</td>\n",
       "      <td>0</td>\n",
       "      <td>0</td>\n",
       "      <td>None</td>\n",
       "      <td>0</td>\n",
       "      <td>2</td>\n",
       "      <td>2006</td>\n",
       "      <td>WD</td>\n",
       "      <td>Abnorml</td>\n",
       "      <td>140000</td>\n",
       "    </tr>\n",
       "    <tr>\n",
       "      <th>4</th>\n",
       "      <td>5</td>\n",
       "      <td>60</td>\n",
       "      <td>RL</td>\n",
       "      <td>84.0</td>\n",
       "      <td>14260</td>\n",
       "      <td>Pave</td>\n",
       "      <td>None</td>\n",
       "      <td>IR1</td>\n",
       "      <td>Lvl</td>\n",
       "      <td>AllPub</td>\n",
       "      <td>...</td>\n",
       "      <td>0</td>\n",
       "      <td>0</td>\n",
       "      <td>0</td>\n",
       "      <td>None</td>\n",
       "      <td>0</td>\n",
       "      <td>12</td>\n",
       "      <td>2008</td>\n",
       "      <td>WD</td>\n",
       "      <td>Normal</td>\n",
       "      <td>250000</td>\n",
       "    </tr>\n",
       "  </tbody>\n",
       "</table>\n",
       "<p>5 rows × 81 columns</p>\n",
       "</div>"
      ],
      "text/plain": [
       "   Id  MSSubClass MSZoning  LotFrontage  LotArea Street Alley LotShape  \\\n",
       "0   1          60       RL         65.0     8450   Pave  None      Reg   \n",
       "1   2          20       RL         80.0     9600   Pave  None      Reg   \n",
       "2   3          60       RL         68.0    11250   Pave  None      IR1   \n",
       "3   4          70       RL         60.0     9550   Pave  None      IR1   \n",
       "4   5          60       RL         84.0    14260   Pave  None      IR1   \n",
       "\n",
       "  LandContour Utilities    ...     PoolArea PoolQC Fence MiscFeature MiscVal  \\\n",
       "0         Lvl    AllPub    ...            0      0     0        None       0   \n",
       "1         Lvl    AllPub    ...            0      0     0        None       0   \n",
       "2         Lvl    AllPub    ...            0      0     0        None       0   \n",
       "3         Lvl    AllPub    ...            0      0     0        None       0   \n",
       "4         Lvl    AllPub    ...            0      0     0        None       0   \n",
       "\n",
       "  MoSold YrSold  SaleType  SaleCondition  SalePrice  \n",
       "0      2   2008        WD         Normal     208500  \n",
       "1      5   2007        WD         Normal     181500  \n",
       "2      9   2008        WD         Normal     223500  \n",
       "3      2   2006        WD        Abnorml     140000  \n",
       "4     12   2008        WD         Normal     250000  \n",
       "\n",
       "[5 rows x 81 columns]"
      ]
     },
     "execution_count": 3,
     "metadata": {},
     "output_type": "execute_result"
    }
   ],
   "source": [
    "df.head(5)"
   ]
  },
  {
   "cell_type": "code",
   "execution_count": 4,
   "metadata": {
    "collapsed": true
   },
   "outputs": [],
   "source": [
    "X = df[['OverallQual', 'GrLivArea', 'ExterQual', 'KitchenQual', 'GarageCars', 'GarageArea']]\n",
    "y = df['SalePrice']\n",
    "\n",
    "X_train, X_test, y_train, y_test = train_test_split(X, y, test_size=0.33, random_state=42)"
   ]
  },
  {
   "cell_type": "code",
   "execution_count": 5,
   "metadata": {
    "collapsed": true
   },
   "outputs": [],
   "source": [
    "n_folds=25"
   ]
  },
  {
   "cell_type": "markdown",
   "metadata": {},
   "source": [
    "## Linear Model"
   ]
  },
  {
   "cell_type": "code",
   "execution_count": 56,
   "metadata": {
    "collapsed": true
   },
   "outputs": [],
   "source": [
    "model = LinearRegression()\n",
    "model.fit(X=X_train, y=y_train)\n",
    "\n",
    "predictions = model.predict(X=X_test)"
   ]
  },
  {
   "cell_type": "code",
   "execution_count": 57,
   "metadata": {},
   "outputs": [
    {
     "data": {
      "text/plain": [
       "0.73534964404269643"
      ]
     },
     "execution_count": 57,
     "metadata": {},
     "output_type": "execute_result"
    }
   ],
   "source": [
    "this_scores = np.mean(cross_val_score(model, X_train, y_train, cv=n_folds))\n",
    "this_scores2 = np.mean(cross_val_score(model, X_train, y_train, cv=KFold(n_splits=5,random_state=42)))\n",
    "this_scores2"
   ]
  },
  {
   "cell_type": "code",
   "execution_count": 58,
   "metadata": {},
   "outputs": [
    {
     "data": {
      "text/plain": [
       "0.73309194944336331"
      ]
     },
     "execution_count": 58,
     "metadata": {},
     "output_type": "execute_result"
    }
   ],
   "source": [
    "this_scores"
   ]
  },
  {
   "cell_type": "code",
   "execution_count": 18,
   "metadata": {
    "collapsed": true
   },
   "outputs": [],
   "source": [
    "RMSE = np.sqrt(mean_squared_error(y_true = y_test, y_pred=predictions))\n",
    "baseline = np.zeros(482)+180921.195890\n",
    "\n",
    "RMSE_Baseline = np.sqrt(mean_squared_error(y_true = y_test, y_pred=baseline))"
   ]
  },
  {
   "cell_type": "code",
   "execution_count": 19,
   "metadata": {},
   "outputs": [
    {
     "name": "stdout",
     "output_type": "stream",
     "text": [
      "Relative Accuracy of our Model: 0.535326174237118\n"
     ]
    }
   ],
   "source": [
    "print(\"Relative Accuracy of our Model: {}\".format(1-(RMSE/RMSE_Baseline)))"
   ]
  },
  {
   "cell_type": "markdown",
   "metadata": {},
   "source": [
    "## Bagging"
   ]
  },
  {
   "cell_type": "code",
   "execution_count": 95,
   "metadata": {},
   "outputs": [
    {
     "data": {
      "text/plain": [
       "0.77328365183939307"
      ]
     },
     "execution_count": 95,
     "metadata": {},
     "output_type": "execute_result"
    }
   ],
   "source": [
    "n_folds = 25\n",
    "bags = BaggingRegressor(n_estimators=1000,random_state=42)\n",
    "this_scores = np.mean(cross_val_score(bags, X_train, y_train, cv=n_folds))\n",
    "this_scores2 = np.mean(cross_val_score(bags, X_train, y_train, cv=KFold(n_splits=5,random_state=42)))\n",
    "this_scores2"
   ]
  },
  {
   "cell_type": "code",
   "execution_count": 96,
   "metadata": {},
   "outputs": [
    {
     "data": {
      "text/plain": [
       "0.76714904279012752"
      ]
     },
     "execution_count": 96,
     "metadata": {},
     "output_type": "execute_result"
    }
   ],
   "source": [
    "this_scores"
   ]
  },
  {
   "cell_type": "markdown",
   "metadata": {},
   "source": [
    "## ExtraTrees"
   ]
  },
  {
   "cell_type": "code",
   "execution_count": 97,
   "metadata": {},
   "outputs": [
    {
     "data": {
      "text/plain": [
       "0.76661874697285004"
      ]
     },
     "execution_count": 97,
     "metadata": {},
     "output_type": "execute_result"
    }
   ],
   "source": [
    "n_folds = 25\n",
    "etree = ExtraTreesRegressor(n_estimators=1000,random_state=42)\n",
    "this_scores = np.mean(cross_val_score(etree, X_train, y_train, cv=n_folds))\n",
    "this_scores2 = np.mean(cross_val_score(etree, X_train, y_train, cv=KFold(n_splits=5,random_state=42)))\n",
    "this_scores2"
   ]
  },
  {
   "cell_type": "code",
   "execution_count": 98,
   "metadata": {},
   "outputs": [
    {
     "data": {
      "text/plain": [
       "0.75287272125813065"
      ]
     },
     "execution_count": 98,
     "metadata": {},
     "output_type": "execute_result"
    }
   ],
   "source": [
    "this_scores"
   ]
  },
  {
   "cell_type": "markdown",
   "metadata": {},
   "source": [
    "## GradientBoosting"
   ]
  },
  {
   "cell_type": "code",
   "execution_count": 99,
   "metadata": {},
   "outputs": [
    {
     "data": {
      "text/plain": [
       "0.74143594420045811"
      ]
     },
     "execution_count": 99,
     "metadata": {},
     "output_type": "execute_result"
    }
   ],
   "source": [
    "n_folds = 25\n",
    "xgbooster = GradientBoostingRegressor(n_estimators=1000,random_state=42)\n",
    "this_scores = np.mean(cross_val_score(xgbooster, X_train, y_train, cv=n_folds))\n",
    "this_scores2 = np.mean(cross_val_score(xgbooster, X_train, y_train, cv=KFold(n_splits=5,random_state=42)))\n",
    "this_scores2"
   ]
  },
  {
   "cell_type": "code",
   "execution_count": 100,
   "metadata": {},
   "outputs": [
    {
     "data": {
      "text/plain": [
       "0.73418670102185291"
      ]
     },
     "execution_count": 100,
     "metadata": {},
     "output_type": "execute_result"
    }
   ],
   "source": [
    "this_scores"
   ]
  },
  {
   "cell_type": "markdown",
   "metadata": {},
   "source": [
    "## RandomForest"
   ]
  },
  {
   "cell_type": "code",
   "execution_count": 101,
   "metadata": {},
   "outputs": [
    {
     "data": {
      "text/plain": [
       "0.76818044958969856"
      ]
     },
     "execution_count": 101,
     "metadata": {},
     "output_type": "execute_result"
    }
   ],
   "source": [
    "n_folds = 25\n",
    "randforest = RandomForestRegressor(n_estimators=100,random_state=42)\n",
    "this_scores = np.mean(cross_val_score(randforest, X_train, y_train, cv=n_folds))\n",
    "this_scores2 = np.mean(cross_val_score(randforest, X_train, y_train, cv=KFold(n_splits=5,random_state=42)))\n",
    "this_scores2"
   ]
  },
  {
   "cell_type": "code",
   "execution_count": 102,
   "metadata": {},
   "outputs": [
    {
     "data": {
      "text/plain": [
       "0.76378119704064029"
      ]
     },
     "execution_count": 102,
     "metadata": {},
     "output_type": "execute_result"
    }
   ],
   "source": [
    "this_scores"
   ]
  },
  {
   "cell_type": "markdown",
   "metadata": {},
   "source": [
    "## AdaBoost "
   ]
  },
  {
   "cell_type": "code",
   "execution_count": 103,
   "metadata": {},
   "outputs": [
    {
     "data": {
      "text/plain": [
       "0.69011628245890544"
      ]
     },
     "execution_count": 103,
     "metadata": {},
     "output_type": "execute_result"
    }
   ],
   "source": [
    "n_folds = 25\n",
    "aboost = AdaBoostRegressor(n_estimators=1000,random_state=42)\n",
    "this_scores = np.mean(cross_val_score(aboost, X_train, y_train, cv=n_folds))\n",
    "this_scores2 = np.mean(cross_val_score(aboost, X_train, y_train, cv=KFold(n_splits=5,random_state=42)))\n",
    "this_scores2"
   ]
  },
  {
   "cell_type": "code",
   "execution_count": 104,
   "metadata": {},
   "outputs": [
    {
     "data": {
      "text/plain": [
       "0.6752436062569942"
      ]
     },
     "execution_count": 104,
     "metadata": {},
     "output_type": "execute_result"
    }
   ],
   "source": [
    "this_scores"
   ]
  },
  {
   "cell_type": "markdown",
   "metadata": {},
   "source": [
    "## Cross Validation\n",
    "\n",
    "The two types of cross validation used were kfold and n_fold cross validation. The one that I will be speaking about is KFold cross validation.\n",
    "\n",
    "First, it matters less how data is divided because every sample will be used once for testing and k-1 times for training. Also, it allows for a variance reduction as k increases (less overfitting). However, it also causes higher bias (more underfitting). Another drawback is that the proportion of the train-test split is dependent on the number of iterations. And obviously, a clear disadvantage is that the train-test procedure has to be repeated k times.\n",
    "\n",
    "Finally note that the k-fold method is also non-exhaustive because although we run the train-test several times it does not explore all possible combinations."
   ]
  },
  {
   "cell_type": "markdown",
   "metadata": {},
   "source": [
    "# Stacking!"
   ]
  },
  {
   "cell_type": "code",
   "execution_count": 70,
   "metadata": {
    "collapsed": true
   },
   "outputs": [],
   "source": [
    "bags = bags.fit(X_train,y_train)\n",
    "etree = etree.fit(X_train,y_train)\n",
    "xgbooster = xgbooster.fit(X_train,y_train)\n",
    "randforest = randforest.fit(X_train,y_train)\n",
    "aboost = aboost.fit(X_train,y_train);"
   ]
  },
  {
   "cell_type": "code",
   "execution_count": 71,
   "metadata": {
    "collapsed": true
   },
   "outputs": [],
   "source": [
    "pred1 = bags.predict(X_test)"
   ]
  },
  {
   "cell_type": "code",
   "execution_count": 72,
   "metadata": {
    "collapsed": true
   },
   "outputs": [],
   "source": [
    "RMSE = np.sqrt(mean_squared_error(y_true = y_test, y_pred=pred1))\n",
    "baseline = np.zeros(482)+180921.195890\n",
    "\n",
    "RMSE_Baseline = np.sqrt(mean_squared_error(y_true = y_test, y_pred=baseline))"
   ]
  },
  {
   "cell_type": "code",
   "execution_count": 73,
   "metadata": {
    "scrolled": true
   },
   "outputs": [
    {
     "data": {
      "text/plain": [
       "0.77457719632136612"
      ]
     },
     "execution_count": 73,
     "metadata": {},
     "output_type": "execute_result"
    }
   ],
   "source": [
    "r2_score(y_pred=pred1,y_true=y_test)"
   ]
  },
  {
   "cell_type": "code",
   "execution_count": 74,
   "metadata": {},
   "outputs": [
    {
     "name": "stdout",
     "output_type": "stream",
     "text": [
      "Relative Accuracy of our Model: 0.5252149914146144\n"
     ]
    }
   ],
   "source": [
    "print(\"Relative Accuracy of our Model: {}\".format(1-(RMSE/RMSE_Baseline)))"
   ]
  },
  {
   "cell_type": "code",
   "execution_count": 75,
   "metadata": {
    "collapsed": true
   },
   "outputs": [],
   "source": [
    "pred2 = etree.predict(X_test)"
   ]
  },
  {
   "cell_type": "code",
   "execution_count": 76,
   "metadata": {
    "collapsed": true
   },
   "outputs": [],
   "source": [
    "RMSE = np.sqrt(mean_squared_error(y_true = y_test, y_pred=pred2))\n",
    "baseline = np.zeros(482)+180921.195890\n",
    "\n",
    "RMSE_Baseline = np.sqrt(mean_squared_error(y_true = y_test, y_pred=baseline))"
   ]
  },
  {
   "cell_type": "code",
   "execution_count": 77,
   "metadata": {},
   "outputs": [
    {
     "data": {
      "text/plain": [
       "0.7555320756751035"
      ]
     },
     "execution_count": 77,
     "metadata": {},
     "output_type": "execute_result"
    }
   ],
   "source": [
    "r2_score(y_pred=pred2,y_true=y_test)"
   ]
  },
  {
   "cell_type": "code",
   "execution_count": 78,
   "metadata": {},
   "outputs": [
    {
     "name": "stdout",
     "output_type": "stream",
     "text": [
      "Relative Accuracy of our Model: 0.5055652155134258\n"
     ]
    }
   ],
   "source": [
    "print(\"Relative Accuracy of our Model: {}\".format(1-(RMSE/RMSE_Baseline)))"
   ]
  },
  {
   "cell_type": "code",
   "execution_count": 79,
   "metadata": {
    "collapsed": true
   },
   "outputs": [],
   "source": [
    "pred3 = xgbooster.predict(X_test)"
   ]
  },
  {
   "cell_type": "code",
   "execution_count": 80,
   "metadata": {
    "collapsed": true
   },
   "outputs": [],
   "source": [
    "RMSE = np.sqrt(mean_squared_error(y_true = y_test, y_pred=pred3))\n",
    "baseline = np.zeros(482)+180921.195890\n",
    "\n",
    "RMSE_Baseline = np.sqrt(mean_squared_error(y_true = y_test, y_pred=baseline))"
   ]
  },
  {
   "cell_type": "code",
   "execution_count": 81,
   "metadata": {},
   "outputs": [
    {
     "data": {
      "text/plain": [
       "0.71670525699342158"
      ]
     },
     "execution_count": 81,
     "metadata": {},
     "output_type": "execute_result"
    }
   ],
   "source": [
    "r2_score(y_pred=pred3,y_true=y_test)"
   ]
  },
  {
   "cell_type": "code",
   "execution_count": 82,
   "metadata": {},
   "outputs": [
    {
     "name": "stdout",
     "output_type": "stream",
     "text": [
      "Relative Accuracy of our Model: 0.4677479634305085\n"
     ]
    }
   ],
   "source": [
    "print(\"Relative Accuracy of our Model: {}\".format(1-(RMSE/RMSE_Baseline)))"
   ]
  },
  {
   "cell_type": "code",
   "execution_count": 83,
   "metadata": {
    "collapsed": true
   },
   "outputs": [],
   "source": [
    "pred4 = randforest.predict(X_test)"
   ]
  },
  {
   "cell_type": "code",
   "execution_count": 84,
   "metadata": {
    "collapsed": true
   },
   "outputs": [],
   "source": [
    "RMSE = np.sqrt(mean_squared_error(y_true = y_test, y_pred=pred4))\n",
    "baseline = np.zeros(482)+180921.195890\n",
    "\n",
    "RMSE_Baseline = np.sqrt(mean_squared_error(y_true = y_test, y_pred=baseline))"
   ]
  },
  {
   "cell_type": "code",
   "execution_count": 85,
   "metadata": {},
   "outputs": [
    {
     "data": {
      "text/plain": [
       "0.76523089085999718"
      ]
     },
     "execution_count": 85,
     "metadata": {},
     "output_type": "execute_result"
    }
   ],
   "source": [
    "r2_score(y_pred=pred4,y_true=y_test)"
   ]
  },
  {
   "cell_type": "code",
   "execution_count": 86,
   "metadata": {},
   "outputs": [
    {
     "name": "stdout",
     "output_type": "stream",
     "text": [
      "Relative Accuracy of our Model: 0.5154723672015006\n"
     ]
    }
   ],
   "source": [
    "print(\"Relative Accuracy of our Model: {}\".format(1-(RMSE/RMSE_Baseline)))"
   ]
  },
  {
   "cell_type": "code",
   "execution_count": 87,
   "metadata": {
    "collapsed": true
   },
   "outputs": [],
   "source": [
    "pred5 = aboost.predict(X_test)"
   ]
  },
  {
   "cell_type": "code",
   "execution_count": 88,
   "metadata": {
    "collapsed": true
   },
   "outputs": [],
   "source": [
    "RMSE = np.sqrt(mean_squared_error(y_true = y_test, y_pred=pred5))\n",
    "baseline = np.zeros(482)+180921.195890\n",
    "\n",
    "RMSE_Baseline = np.sqrt(mean_squared_error(y_true = y_test, y_pred=baseline))"
   ]
  },
  {
   "cell_type": "code",
   "execution_count": 89,
   "metadata": {},
   "outputs": [
    {
     "data": {
      "text/plain": [
       "0.66313181156421397"
      ]
     },
     "execution_count": 89,
     "metadata": {},
     "output_type": "execute_result"
    }
   ],
   "source": [
    "r2_score(y_pred=pred5,y_true=y_test)"
   ]
  },
  {
   "cell_type": "code",
   "execution_count": 90,
   "metadata": {},
   "outputs": [
    {
     "name": "stdout",
     "output_type": "stream",
     "text": [
      "Relative Accuracy of our Model: 0.4195991034531167\n"
     ]
    }
   ],
   "source": [
    "print(\"Relative Accuracy of our Model: {}\".format(1-(RMSE/RMSE_Baseline)))"
   ]
  },
  {
   "cell_type": "markdown",
   "metadata": {},
   "source": [
    "## Stacked"
   ]
  },
  {
   "cell_type": "code",
   "execution_count": 91,
   "metadata": {
    "collapsed": true
   },
   "outputs": [],
   "source": [
    "Stacked = (pred1+pred2+pred3+pred4+pred5+predictions)/6"
   ]
  },
  {
   "cell_type": "code",
   "execution_count": 92,
   "metadata": {
    "collapsed": true
   },
   "outputs": [],
   "source": [
    "RMSE = np.sqrt(mean_squared_error(y_true = y_test, y_pred=Stacked))\n",
    "baseline = np.zeros(482)+180921.195890\n",
    "\n",
    "RMSE_Baseline = np.sqrt(mean_squared_error(y_true = y_test, y_pred=baseline))"
   ]
  },
  {
   "cell_type": "code",
   "execution_count": 93,
   "metadata": {},
   "outputs": [
    {
     "name": "stdout",
     "output_type": "stream",
     "text": [
      "Relative Accuracy of our Model: 52.15385868961666%\n"
     ]
    }
   ],
   "source": [
    "print(\"Relative Accuracy of our Model: {}%\".format(100*(1-(RMSE/RMSE_Baseline))))"
   ]
  },
  {
   "cell_type": "code",
   "execution_count": 94,
   "metadata": {},
   "outputs": [
    {
     "data": {
      "text/plain": [
       "0.77107264578720514"
      ]
     },
     "execution_count": 94,
     "metadata": {},
     "output_type": "execute_result"
    }
   ],
   "source": [
    "r2_score(y_pred=Stacked,y_true=y_test)"
   ]
  }
 ],
 "metadata": {
  "kernelspec": {
   "display_name": "Python 3",
   "language": "python",
   "name": "python3"
  },
  "language_info": {
   "codemirror_mode": {
    "name": "ipython",
    "version": 3
   },
   "file_extension": ".py",
   "mimetype": "text/x-python",
   "name": "python",
   "nbconvert_exporter": "python",
   "pygments_lexer": "ipython3",
   "version": "3.6.1"
  }
 },
 "nbformat": 4,
 "nbformat_minor": 2
}
