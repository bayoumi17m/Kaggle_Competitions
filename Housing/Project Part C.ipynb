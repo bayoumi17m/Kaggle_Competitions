{
 "cells": [
  {
   "cell_type": "code",
   "execution_count": 1,
   "metadata": {
    "collapsed": true
   },
   "outputs": [],
   "source": [
    "import numpy as np \n",
    "import pandas as pd\n",
    "import seaborn as sns\n",
    "from mpl_toolkits.mplot3d import Axes3D\n",
    "import matplotlib.pyplot as plt\n",
    "from pylab import *\n",
    "from sklearn.model_selection import train_test_split\n",
    "from sklearn.neighbors import KNeighborsClassifier\n",
    "import itertools\n",
    "from sklearn.metrics import confusion_matrix\n",
    "from sklearn.metrics import recall_score, precision_score\n",
    "from sklearn.metrics import precision_recall_fscore_support\n",
    "from sklearn.linear_model import LinearRegression\n",
    "from sklearn.metrics import mean_squared_error\n",
    "from sklearn.tree import DecisionTreeClassifier\n",
    "from sklearn.metrics import accuracy_score\n",
    "from sklearn.preprocessing import LabelEncoder, MinMaxScaler\n",
    "from sklearn.linear_model import LogisticRegression\n",
    "from sklearn.svm import SVC\n",
    "from sklearn.metrics import classification_report, confusion_matrix\n",
    "import warnings\n",
    "warnings.filterwarnings('ignore')\n",
    "%matplotlib inline\n",
    "\n",
    "path_to_train_data = \"./train.csv\""
   ]
  },
  {
   "cell_type": "code",
   "execution_count": 4,
   "metadata": {},
   "outputs": [
    {
     "name": "stdout",
     "output_type": "stream",
     "text": [
      "Number of houses: 1460\n",
      "Number of features: 79\n"
     ]
    }
   ],
   "source": [
    "df = pd.read_csv(path_to_train_data)\n",
    "\n",
    "print('Number of houses:', format(df.shape[0]))\n",
    "print ('Number of features:', format(df.shape[1]-2))\n",
    "\n"
   ]
  },
  {
   "cell_type": "code",
   "execution_count": 5,
   "metadata": {},
   "outputs": [
    {
     "name": "stdout",
     "output_type": "stream",
     "text": [
      "MSZoning\n",
      "Street\n",
      "Alley\n",
      "LotShape\n",
      "LandContour\n",
      "Utilities\n",
      "LotConfig\n",
      "LandSlope\n",
      "Neighborhood\n",
      "Condition1\n",
      "Condition2\n",
      "BldgType\n",
      "HouseStyle\n",
      "RoofStyle\n",
      "RoofMatl\n",
      "Exterior1st\n",
      "Exterior2nd\n",
      "MasVnrType\n",
      "ExterQual\n",
      "ExterCond\n",
      "Foundation\n",
      "BsmtQual\n",
      "BsmtCond\n",
      "BsmtExposure\n",
      "BsmtFinType1\n",
      "BsmtFinType2\n",
      "Heating\n",
      "HeatingQC\n",
      "CentralAir\n",
      "Electrical\n",
      "KitchenQual\n",
      "Functional\n",
      "FireplaceQu\n",
      "GarageType\n",
      "GarageFinish\n",
      "GarageQual\n",
      "GarageCond\n",
      "PavedDrive\n",
      "PoolQC\n",
      "Fence\n",
      "MiscFeature\n",
      "SaleType\n",
      "SaleCondition\n"
     ]
    }
   ],
   "source": [
    "for i in df.columns:\n",
    "    if df.dtypes[i] == int64:\n",
    "        pass\n",
    "    elif df.dtypes[i] == float64:\n",
    "        pass\n",
    "    else:\n",
    "        print(i)"
   ]
  },
  {
   "cell_type": "code",
   "execution_count": 6,
   "metadata": {
    "collapsed": true
   },
   "outputs": [],
   "source": [
    "df.LotFrontage.fillna(df.LotFrontage.median(), inplace=True)\n",
    "df.Alley.fillna(\"None\",inplace=True)"
   ]
  },
  {
   "cell_type": "code",
   "execution_count": 7,
   "metadata": {
    "collapsed": true
   },
   "outputs": [],
   "source": [
    "df.MasVnrType.fillna(\"None\",inplace=True)\n",
    "df.MasVnrArea.fillna(0.0, inplace=True)"
   ]
  },
  {
   "cell_type": "code",
   "execution_count": 8,
   "metadata": {
    "collapsed": true
   },
   "outputs": [],
   "source": [
    "df.BsmtQual.fillna(\"None\",inplace=True)\n",
    "df.BsmtCond.fillna(\"None\",inplace=True)\n",
    "df.BsmtExposure.fillna(\"None\",inplace=True)"
   ]
  },
  {
   "cell_type": "code",
   "execution_count": 9,
   "metadata": {
    "collapsed": true
   },
   "outputs": [],
   "source": [
    "df.BsmtFinType1.fillna(\"None\",inplace=True)\n",
    "df.BsmtFinType2.fillna(\"None\",inplace=True)"
   ]
  },
  {
   "cell_type": "code",
   "execution_count": 10,
   "metadata": {
    "collapsed": true
   },
   "outputs": [],
   "source": [
    "df.Electrical.fillna(\"SBrkr\",inplace=True)"
   ]
  },
  {
   "cell_type": "code",
   "execution_count": 11,
   "metadata": {
    "collapsed": true
   },
   "outputs": [],
   "source": [
    "df.FireplaceQu.fillna(\"None\",inplace=True)"
   ]
  },
  {
   "cell_type": "code",
   "execution_count": 12,
   "metadata": {
    "collapsed": true
   },
   "outputs": [],
   "source": [
    "df.GarageType.fillna(\"None\",inplace=True)\n",
    "df.GarageYrBlt.fillna(\"None\",inplace=True)\n",
    "df.GarageFinish.fillna(\"None\",inplace=True)\n",
    "df.GarageQual.fillna(\"None\",inplace=True)\n",
    "df.GarageCond.fillna(\"None\",inplace=True)"
   ]
  },
  {
   "cell_type": "code",
   "execution_count": 13,
   "metadata": {
    "collapsed": true
   },
   "outputs": [],
   "source": [
    "df.PoolQC.fillna(\"None\",inplace=True)"
   ]
  },
  {
   "cell_type": "code",
   "execution_count": 14,
   "metadata": {
    "collapsed": true
   },
   "outputs": [],
   "source": [
    "df.Fence.fillna(\"None\",inplace=True)"
   ]
  },
  {
   "cell_type": "code",
   "execution_count": 15,
   "metadata": {
    "collapsed": true
   },
   "outputs": [],
   "source": [
    "df.MiscFeature.fillna(\"None\",inplace=True)"
   ]
  },
  {
   "cell_type": "code",
   "execution_count": 16,
   "metadata": {},
   "outputs": [
    {
     "name": "stdout",
     "output_type": "stream",
     "text": [
      "Index([], dtype='object')\n"
     ]
    },
    {
     "data": {
      "text/plain": [
       "Series([], dtype: float64)"
      ]
     },
     "execution_count": 16,
     "metadata": {},
     "output_type": "execute_result"
    }
   ],
   "source": [
    "null_cols = df.columns[df.isnull().any()]\n",
    "print(null_cols)\n",
    "df[null_cols].isnull().sum()"
   ]
  },
  {
   "cell_type": "code",
   "execution_count": 17,
   "metadata": {
    "collapsed": true
   },
   "outputs": [],
   "source": [
    "quality_dictionary = {'None': 0, 'Po': 1, 'Fa': 2, 'TA': 3, 'Gd': 4, 'Ex': 5}\n",
    "df['ExterQual']   = df['ExterQual'].map(quality_dictionary).astype(int)\n",
    "df['ExterCond']   = df['ExterCond'].map(quality_dictionary).astype(int)\n",
    "df['BsmtQual']    = df['BsmtQual'].map(quality_dictionary).astype(int)\n",
    "df['BsmtCond']    = df['BsmtCond'].map(quality_dictionary).astype(int)\n",
    "df['HeatingQC']   = df['HeatingQC'].map(quality_dictionary).astype(int)\n",
    "df['KitchenQual'] = df['KitchenQual'].map(quality_dictionary).astype(int)\n",
    "df['FireplaceQu'] = df['FireplaceQu'].map(quality_dictionary).astype(int)\n",
    "df['GarageQual']  = df['GarageQual'].map(quality_dictionary).astype(int)\n",
    "df['GarageCond']  = df['GarageCond'].map(quality_dictionary).astype(int)\n",
    "df['PoolQC']      = df['PoolQC'].map(quality_dictionary).astype(int)\n",
    "\n",
    "#saving memory\n",
    "del quality_dictionary"
   ]
  },
  {
   "cell_type": "code",
   "execution_count": 18,
   "metadata": {
    "collapsed": true
   },
   "outputs": [],
   "source": [
    "df['BsmtExposure'] = df['BsmtExposure'].map({'None': 0, 'No': 1, 'Mn': 2, 'Av': 3, 'Gd': 4}).astype(int)\n",
    "\n",
    "bsmtdict = {'None': 0, 'Unf': 1, 'LwQ': 2, 'Rec': 3, 'BLQ': 4, 'ALQ': 5, 'GLQ': 6}\n",
    "df['BsmtFinType1'] = df['BsmtFinType1'].map(bsmtdict).astype(int)\n",
    "df['BsmtFinType2'] = df['BsmtFinType2'].map(bsmtdict).astype(int)\n",
    "\n",
    "df['Functional'] = df['Functional'].map({'None': 0, 'Sal': 1, 'Sev': 2, 'Maj2': 3, 'Maj1': 4, \n",
    "                                         'Mod': 5, 'Min2': 6, 'Min1': 7, 'Typ': 8}).astype(int)\n",
    "\n",
    "df['GarageFinish'] = df['GarageFinish'].map({'None': 0, 'Unf': 1, 'RFn': 2, 'Fin': 3}).astype(int)\n",
    "df['Fence'] = df['Fence'].map({'None': 0, 'MnWw': 1, 'GdWo': 2, 'MnPrv': 3, 'GdPrv': 4}).astype(int)\n",
    "\n",
    "del bsmtdict"
   ]
  },
  {
   "cell_type": "code",
   "execution_count": 19,
   "metadata": {
    "scrolled": false
   },
   "outputs": [
    {
     "name": "stdout",
     "output_type": "stream",
     "text": [
      "Top Absolute Correlations\n",
      "GarageQual    GarageCond      0.998768\n",
      "PoolArea      PoolQC          0.994259\n",
      "GarageCars    GarageArea      0.988244\n",
      "ExterQual     KitchenQual     0.970237\n",
      "Fireplaces    FireplaceQu     0.967941\n",
      "OverallQual   SalePrice       0.967327\n",
      "              ExterQual       0.964200\n",
      "BsmtFinType2  BsmtFinSF2      0.956578\n",
      "GrLivArea     TotRmsAbvGrd    0.947504\n",
      "OverallQual   KitchenQual     0.947185\n",
      "TotalBsmtSF   1stFlrSF        0.939843\n",
      "ExterQual     SalePrice       0.924657\n",
      "YearRemodAdd  KitchenQual     0.924206\n",
      "KitchenQual   SalePrice       0.915048\n",
      "GarageFinish  GarageCars      0.913889\n",
      "YearRemodAdd  ExterQual       0.912896\n",
      "YearBuilt     GarageFinish    0.909283\n",
      "YearRemodAdd  HeatingQC       0.908748\n",
      "YearBuilt     ExterQual       0.906710\n",
      "BsmtFinType1  BsmtFinSF1      0.904124\n",
      "dtype: float64\n"
     ]
    }
   ],
   "source": [
    "dfcorr = df.corr()\n",
    "dfcorr = dfcorr['SalePrice']\n",
    "\n",
    "def get_redundant_pairs(df):\n",
    "    '''Get diagonal and lower triangular pairs of correlation matrix'''\n",
    "    pairs_to_drop = set()\n",
    "    cols = df.columns\n",
    "    for i in range(0, df.shape[1]):\n",
    "        for j in range(0, i+1):\n",
    "            pairs_to_drop.add((cols[i], cols[j]))\n",
    "    return pairs_to_drop\n",
    "\n",
    "def get_top_abs_correlations(df, n=5):\n",
    "    au_corr = df.corr().abs().unstack()\n",
    "    labels_to_drop = get_redundant_pairs(df)\n",
    "    au_corr = au_corr.drop(labels=labels_to_drop).sort_values(ascending=False)\n",
    "    return au_corr[0:n]\n",
    "\n",
    "print(\"Top Absolute Correlations\")\n",
    "print(get_top_abs_correlations(df.corr(), 20))\n",
    "\n",
    "#print(dfcorr)\n",
    "#df.corr()"
   ]
  },
  {
   "cell_type": "markdown",
   "metadata": {},
   "source": [
    "# Decision Tree Model"
   ]
  },
  {
   "cell_type": "markdown",
   "metadata": {},
   "source": [
    "Feature Engineering and Baseline"
   ]
  },
  {
   "cell_type": "code",
   "execution_count": 20,
   "metadata": {},
   "outputs": [
    {
     "name": "stdout",
     "output_type": "stream",
     "text": [
      "Neighborhood:    ['CollgCr' 'Veenker' 'Crawfor' 'NoRidge' 'Mitchel' 'Somerst' 'NWAmes'\n",
      " 'OldTown' 'BrkSide' 'Sawyer' 'NridgHt' 'NAmes' 'SawyerW' 'IDOTRR'\n",
      " 'MeadowV' 'Edwards' 'Timber' 'Gilbert' 'StoneBr' 'ClearCr' 'NPkVill'\n",
      " 'Blmngtn' 'BrDale' 'SWISU' 'Blueste']\n",
      "Number of Neighborhoods:    25\n"
     ]
    }
   ],
   "source": [
    "print ('Neighborhood:    {0}'.format(df['Neighborhood'].unique()))\n",
    "print('Number of Neighborhoods:    {0}'.format(len(df['Neighborhood'].unique())))"
   ]
  },
  {
   "cell_type": "code",
   "execution_count": 21,
   "metadata": {
    "scrolled": false
   },
   "outputs": [
    {
     "data": {
      "text/plain": [
       "NAmes      225\n",
       "CollgCr    150\n",
       "OldTown    113\n",
       "Edwards    100\n",
       "Somerst     86\n",
       "Gilbert     79\n",
       "NridgHt     77\n",
       "Sawyer      74\n",
       "NWAmes      73\n",
       "SawyerW     59\n",
       "BrkSide     58\n",
       "Crawfor     51\n",
       "Mitchel     49\n",
       "NoRidge     41\n",
       "Timber      38\n",
       "IDOTRR      37\n",
       "ClearCr     28\n",
       "StoneBr     25\n",
       "SWISU       25\n",
       "Blmngtn     17\n",
       "MeadowV     17\n",
       "BrDale      16\n",
       "Veenker     11\n",
       "NPkVill      9\n",
       "Blueste      2\n",
       "Name: Neighborhood, dtype: int64"
      ]
     },
     "execution_count": 21,
     "metadata": {},
     "output_type": "execute_result"
    }
   ],
   "source": [
    "df.groupby('Neighborhood').count();\n",
    "df['Neighborhood'].value_counts()"
   ]
  },
  {
   "cell_type": "code",
   "execution_count": 22,
   "metadata": {},
   "outputs": [
    {
     "data": {
      "text/html": [
       "<div>\n",
       "<style>\n",
       "    .dataframe thead tr:only-child th {\n",
       "        text-align: right;\n",
       "    }\n",
       "\n",
       "    .dataframe thead th {\n",
       "        text-align: left;\n",
       "    }\n",
       "\n",
       "    .dataframe tbody tr th {\n",
       "        vertical-align: top;\n",
       "    }\n",
       "</style>\n",
       "<table border=\"1\" class=\"dataframe\">\n",
       "  <thead>\n",
       "    <tr style=\"text-align: right;\">\n",
       "      <th>MasVnrArea</th>\n",
       "      <th>0.0</th>\n",
       "      <th>1.0</th>\n",
       "      <th>11.0</th>\n",
       "      <th>14.0</th>\n",
       "      <th>16.0</th>\n",
       "      <th>18.0</th>\n",
       "      <th>22.0</th>\n",
       "      <th>24.0</th>\n",
       "      <th>27.0</th>\n",
       "      <th>28.0</th>\n",
       "      <th>...</th>\n",
       "      <th>921.0</th>\n",
       "      <th>922.0</th>\n",
       "      <th>975.0</th>\n",
       "      <th>1031.0</th>\n",
       "      <th>1047.0</th>\n",
       "      <th>1115.0</th>\n",
       "      <th>1129.0</th>\n",
       "      <th>1170.0</th>\n",
       "      <th>1378.0</th>\n",
       "      <th>1600.0</th>\n",
       "    </tr>\n",
       "  </thead>\n",
       "  <tbody>\n",
       "    <tr>\n",
       "      <th>CollgCr</th>\n",
       "      <td>1</td>\n",
       "      <td>0</td>\n",
       "      <td>1</td>\n",
       "      <td>1</td>\n",
       "      <td>5</td>\n",
       "      <td>2</td>\n",
       "      <td>0</td>\n",
       "      <td>0</td>\n",
       "      <td>0</td>\n",
       "      <td>0</td>\n",
       "      <td>...</td>\n",
       "      <td>0</td>\n",
       "      <td>0</td>\n",
       "      <td>0</td>\n",
       "      <td>0</td>\n",
       "      <td>0</td>\n",
       "      <td>0</td>\n",
       "      <td>0</td>\n",
       "      <td>0</td>\n",
       "      <td>0</td>\n",
       "      <td>0</td>\n",
       "    </tr>\n",
       "    <tr>\n",
       "      <th>Veenker</th>\n",
       "      <td>2</td>\n",
       "      <td>0</td>\n",
       "      <td>0</td>\n",
       "      <td>0</td>\n",
       "      <td>0</td>\n",
       "      <td>0</td>\n",
       "      <td>0</td>\n",
       "      <td>0</td>\n",
       "      <td>0</td>\n",
       "      <td>0</td>\n",
       "      <td>...</td>\n",
       "      <td>0</td>\n",
       "      <td>0</td>\n",
       "      <td>0</td>\n",
       "      <td>0</td>\n",
       "      <td>0</td>\n",
       "      <td>0</td>\n",
       "      <td>0</td>\n",
       "      <td>0</td>\n",
       "      <td>0</td>\n",
       "      <td>0</td>\n",
       "    </tr>\n",
       "    <tr>\n",
       "      <th>Crawfor</th>\n",
       "      <td>0</td>\n",
       "      <td>0</td>\n",
       "      <td>0</td>\n",
       "      <td>0</td>\n",
       "      <td>0</td>\n",
       "      <td>0</td>\n",
       "      <td>0</td>\n",
       "      <td>0</td>\n",
       "      <td>0</td>\n",
       "      <td>0</td>\n",
       "      <td>...</td>\n",
       "      <td>0</td>\n",
       "      <td>0</td>\n",
       "      <td>0</td>\n",
       "      <td>0</td>\n",
       "      <td>0</td>\n",
       "      <td>0</td>\n",
       "      <td>0</td>\n",
       "      <td>0</td>\n",
       "      <td>0</td>\n",
       "      <td>0</td>\n",
       "    </tr>\n",
       "    <tr>\n",
       "      <th>NoRidge</th>\n",
       "      <td>55</td>\n",
       "      <td>0</td>\n",
       "      <td>0</td>\n",
       "      <td>0</td>\n",
       "      <td>0</td>\n",
       "      <td>0</td>\n",
       "      <td>0</td>\n",
       "      <td>0</td>\n",
       "      <td>0</td>\n",
       "      <td>0</td>\n",
       "      <td>...</td>\n",
       "      <td>0</td>\n",
       "      <td>0</td>\n",
       "      <td>0</td>\n",
       "      <td>0</td>\n",
       "      <td>0</td>\n",
       "      <td>0</td>\n",
       "      <td>0</td>\n",
       "      <td>0</td>\n",
       "      <td>0</td>\n",
       "      <td>0</td>\n",
       "    </tr>\n",
       "    <tr>\n",
       "      <th>Mitchel</th>\n",
       "      <td>20</td>\n",
       "      <td>0</td>\n",
       "      <td>0</td>\n",
       "      <td>0</td>\n",
       "      <td>0</td>\n",
       "      <td>0</td>\n",
       "      <td>0</td>\n",
       "      <td>0</td>\n",
       "      <td>0</td>\n",
       "      <td>0</td>\n",
       "      <td>...</td>\n",
       "      <td>0</td>\n",
       "      <td>0</td>\n",
       "      <td>0</td>\n",
       "      <td>0</td>\n",
       "      <td>0</td>\n",
       "      <td>0</td>\n",
       "      <td>0</td>\n",
       "      <td>0</td>\n",
       "      <td>0</td>\n",
       "      <td>0</td>\n",
       "    </tr>\n",
       "    <tr>\n",
       "      <th>Somerst</th>\n",
       "      <td>75</td>\n",
       "      <td>0</td>\n",
       "      <td>0</td>\n",
       "      <td>0</td>\n",
       "      <td>0</td>\n",
       "      <td>0</td>\n",
       "      <td>0</td>\n",
       "      <td>1</td>\n",
       "      <td>0</td>\n",
       "      <td>0</td>\n",
       "      <td>...</td>\n",
       "      <td>0</td>\n",
       "      <td>0</td>\n",
       "      <td>0</td>\n",
       "      <td>0</td>\n",
       "      <td>0</td>\n",
       "      <td>0</td>\n",
       "      <td>0</td>\n",
       "      <td>0</td>\n",
       "      <td>0</td>\n",
       "      <td>0</td>\n",
       "    </tr>\n",
       "    <tr>\n",
       "      <th>NWAmes</th>\n",
       "      <td>37</td>\n",
       "      <td>0</td>\n",
       "      <td>0</td>\n",
       "      <td>0</td>\n",
       "      <td>0</td>\n",
       "      <td>0</td>\n",
       "      <td>0</td>\n",
       "      <td>0</td>\n",
       "      <td>0</td>\n",
       "      <td>0</td>\n",
       "      <td>...</td>\n",
       "      <td>0</td>\n",
       "      <td>0</td>\n",
       "      <td>0</td>\n",
       "      <td>0</td>\n",
       "      <td>0</td>\n",
       "      <td>0</td>\n",
       "      <td>0</td>\n",
       "      <td>0</td>\n",
       "      <td>0</td>\n",
       "      <td>0</td>\n",
       "    </tr>\n",
       "    <tr>\n",
       "      <th>OldTown</th>\n",
       "      <td>75</td>\n",
       "      <td>0</td>\n",
       "      <td>0</td>\n",
       "      <td>0</td>\n",
       "      <td>0</td>\n",
       "      <td>0</td>\n",
       "      <td>0</td>\n",
       "      <td>0</td>\n",
       "      <td>0</td>\n",
       "      <td>0</td>\n",
       "      <td>...</td>\n",
       "      <td>0</td>\n",
       "      <td>0</td>\n",
       "      <td>0</td>\n",
       "      <td>0</td>\n",
       "      <td>0</td>\n",
       "      <td>0</td>\n",
       "      <td>0</td>\n",
       "      <td>0</td>\n",
       "      <td>0</td>\n",
       "      <td>0</td>\n",
       "    </tr>\n",
       "    <tr>\n",
       "      <th>BrkSide</th>\n",
       "      <td>58</td>\n",
       "      <td>0</td>\n",
       "      <td>0</td>\n",
       "      <td>0</td>\n",
       "      <td>1</td>\n",
       "      <td>0</td>\n",
       "      <td>1</td>\n",
       "      <td>0</td>\n",
       "      <td>1</td>\n",
       "      <td>0</td>\n",
       "      <td>...</td>\n",
       "      <td>0</td>\n",
       "      <td>0</td>\n",
       "      <td>0</td>\n",
       "      <td>0</td>\n",
       "      <td>0</td>\n",
       "      <td>0</td>\n",
       "      <td>0</td>\n",
       "      <td>0</td>\n",
       "      <td>0</td>\n",
       "      <td>0</td>\n",
       "    </tr>\n",
       "    <tr>\n",
       "      <th>Sawyer</th>\n",
       "      <td>36</td>\n",
       "      <td>0</td>\n",
       "      <td>0</td>\n",
       "      <td>0</td>\n",
       "      <td>0</td>\n",
       "      <td>0</td>\n",
       "      <td>0</td>\n",
       "      <td>0</td>\n",
       "      <td>0</td>\n",
       "      <td>0</td>\n",
       "      <td>...</td>\n",
       "      <td>0</td>\n",
       "      <td>0</td>\n",
       "      <td>0</td>\n",
       "      <td>0</td>\n",
       "      <td>0</td>\n",
       "      <td>0</td>\n",
       "      <td>0</td>\n",
       "      <td>0</td>\n",
       "      <td>0</td>\n",
       "      <td>0</td>\n",
       "    </tr>\n",
       "    <tr>\n",
       "      <th>NridgHt</th>\n",
       "      <td>16</td>\n",
       "      <td>0</td>\n",
       "      <td>0</td>\n",
       "      <td>0</td>\n",
       "      <td>0</td>\n",
       "      <td>0</td>\n",
       "      <td>0</td>\n",
       "      <td>0</td>\n",
       "      <td>0</td>\n",
       "      <td>0</td>\n",
       "      <td>...</td>\n",
       "      <td>0</td>\n",
       "      <td>0</td>\n",
       "      <td>0</td>\n",
       "      <td>0</td>\n",
       "      <td>0</td>\n",
       "      <td>0</td>\n",
       "      <td>0</td>\n",
       "      <td>0</td>\n",
       "      <td>0</td>\n",
       "      <td>0</td>\n",
       "    </tr>\n",
       "    <tr>\n",
       "      <th>NAmes</th>\n",
       "      <td>34</td>\n",
       "      <td>0</td>\n",
       "      <td>0</td>\n",
       "      <td>0</td>\n",
       "      <td>0</td>\n",
       "      <td>0</td>\n",
       "      <td>0</td>\n",
       "      <td>0</td>\n",
       "      <td>0</td>\n",
       "      <td>0</td>\n",
       "      <td>...</td>\n",
       "      <td>0</td>\n",
       "      <td>0</td>\n",
       "      <td>0</td>\n",
       "      <td>0</td>\n",
       "      <td>0</td>\n",
       "      <td>0</td>\n",
       "      <td>0</td>\n",
       "      <td>0</td>\n",
       "      <td>0</td>\n",
       "      <td>0</td>\n",
       "    </tr>\n",
       "    <tr>\n",
       "      <th>SawyerW</th>\n",
       "      <td>122</td>\n",
       "      <td>1</td>\n",
       "      <td>0</td>\n",
       "      <td>0</td>\n",
       "      <td>0</td>\n",
       "      <td>0</td>\n",
       "      <td>0</td>\n",
       "      <td>0</td>\n",
       "      <td>0</td>\n",
       "      <td>0</td>\n",
       "      <td>...</td>\n",
       "      <td>0</td>\n",
       "      <td>0</td>\n",
       "      <td>0</td>\n",
       "      <td>0</td>\n",
       "      <td>1</td>\n",
       "      <td>1</td>\n",
       "      <td>0</td>\n",
       "      <td>0</td>\n",
       "      <td>0</td>\n",
       "      <td>0</td>\n",
       "    </tr>\n",
       "    <tr>\n",
       "      <th>IDOTRR</th>\n",
       "      <td>9</td>\n",
       "      <td>0</td>\n",
       "      <td>0</td>\n",
       "      <td>0</td>\n",
       "      <td>0</td>\n",
       "      <td>0</td>\n",
       "      <td>0</td>\n",
       "      <td>0</td>\n",
       "      <td>0</td>\n",
       "      <td>0</td>\n",
       "      <td>...</td>\n",
       "      <td>0</td>\n",
       "      <td>0</td>\n",
       "      <td>0</td>\n",
       "      <td>0</td>\n",
       "      <td>0</td>\n",
       "      <td>0</td>\n",
       "      <td>0</td>\n",
       "      <td>0</td>\n",
       "      <td>0</td>\n",
       "      <td>0</td>\n",
       "    </tr>\n",
       "    <tr>\n",
       "      <th>MeadowV</th>\n",
       "      <td>19</td>\n",
       "      <td>0</td>\n",
       "      <td>0</td>\n",
       "      <td>0</td>\n",
       "      <td>0</td>\n",
       "      <td>0</td>\n",
       "      <td>0</td>\n",
       "      <td>0</td>\n",
       "      <td>0</td>\n",
       "      <td>1</td>\n",
       "      <td>...</td>\n",
       "      <td>0</td>\n",
       "      <td>0</td>\n",
       "      <td>0</td>\n",
       "      <td>0</td>\n",
       "      <td>0</td>\n",
       "      <td>0</td>\n",
       "      <td>0</td>\n",
       "      <td>0</td>\n",
       "      <td>0</td>\n",
       "      <td>0</td>\n",
       "    </tr>\n",
       "    <tr>\n",
       "      <th>Edwards</th>\n",
       "      <td>8</td>\n",
       "      <td>0</td>\n",
       "      <td>0</td>\n",
       "      <td>0</td>\n",
       "      <td>0</td>\n",
       "      <td>0</td>\n",
       "      <td>0</td>\n",
       "      <td>0</td>\n",
       "      <td>0</td>\n",
       "      <td>0</td>\n",
       "      <td>...</td>\n",
       "      <td>1</td>\n",
       "      <td>0</td>\n",
       "      <td>1</td>\n",
       "      <td>0</td>\n",
       "      <td>0</td>\n",
       "      <td>0</td>\n",
       "      <td>0</td>\n",
       "      <td>1</td>\n",
       "      <td>1</td>\n",
       "      <td>0</td>\n",
       "    </tr>\n",
       "    <tr>\n",
       "      <th>Timber</th>\n",
       "      <td>2</td>\n",
       "      <td>0</td>\n",
       "      <td>0</td>\n",
       "      <td>0</td>\n",
       "      <td>0</td>\n",
       "      <td>0</td>\n",
       "      <td>0</td>\n",
       "      <td>0</td>\n",
       "      <td>0</td>\n",
       "      <td>0</td>\n",
       "      <td>...</td>\n",
       "      <td>0</td>\n",
       "      <td>1</td>\n",
       "      <td>0</td>\n",
       "      <td>0</td>\n",
       "      <td>0</td>\n",
       "      <td>0</td>\n",
       "      <td>0</td>\n",
       "      <td>0</td>\n",
       "      <td>0</td>\n",
       "      <td>0</td>\n",
       "    </tr>\n",
       "    <tr>\n",
       "      <th>Gilbert</th>\n",
       "      <td>108</td>\n",
       "      <td>0</td>\n",
       "      <td>0</td>\n",
       "      <td>0</td>\n",
       "      <td>0</td>\n",
       "      <td>0</td>\n",
       "      <td>0</td>\n",
       "      <td>0</td>\n",
       "      <td>0</td>\n",
       "      <td>0</td>\n",
       "      <td>...</td>\n",
       "      <td>0</td>\n",
       "      <td>0</td>\n",
       "      <td>0</td>\n",
       "      <td>0</td>\n",
       "      <td>0</td>\n",
       "      <td>0</td>\n",
       "      <td>0</td>\n",
       "      <td>0</td>\n",
       "      <td>0</td>\n",
       "      <td>0</td>\n",
       "    </tr>\n",
       "    <tr>\n",
       "      <th>StoneBr</th>\n",
       "      <td>24</td>\n",
       "      <td>0</td>\n",
       "      <td>0</td>\n",
       "      <td>0</td>\n",
       "      <td>0</td>\n",
       "      <td>0</td>\n",
       "      <td>0</td>\n",
       "      <td>0</td>\n",
       "      <td>0</td>\n",
       "      <td>0</td>\n",
       "      <td>...</td>\n",
       "      <td>0</td>\n",
       "      <td>0</td>\n",
       "      <td>0</td>\n",
       "      <td>0</td>\n",
       "      <td>0</td>\n",
       "      <td>0</td>\n",
       "      <td>0</td>\n",
       "      <td>0</td>\n",
       "      <td>0</td>\n",
       "      <td>0</td>\n",
       "    </tr>\n",
       "    <tr>\n",
       "      <th>ClearCr</th>\n",
       "      <td>51</td>\n",
       "      <td>1</td>\n",
       "      <td>0</td>\n",
       "      <td>0</td>\n",
       "      <td>0</td>\n",
       "      <td>0</td>\n",
       "      <td>0</td>\n",
       "      <td>0</td>\n",
       "      <td>0</td>\n",
       "      <td>0</td>\n",
       "      <td>...</td>\n",
       "      <td>0</td>\n",
       "      <td>0</td>\n",
       "      <td>0</td>\n",
       "      <td>0</td>\n",
       "      <td>0</td>\n",
       "      <td>0</td>\n",
       "      <td>0</td>\n",
       "      <td>0</td>\n",
       "      <td>0</td>\n",
       "      <td>0</td>\n",
       "    </tr>\n",
       "    <tr>\n",
       "      <th>NPkVill</th>\n",
       "      <td>37</td>\n",
       "      <td>0</td>\n",
       "      <td>0</td>\n",
       "      <td>0</td>\n",
       "      <td>0</td>\n",
       "      <td>0</td>\n",
       "      <td>0</td>\n",
       "      <td>0</td>\n",
       "      <td>0</td>\n",
       "      <td>0</td>\n",
       "      <td>...</td>\n",
       "      <td>0</td>\n",
       "      <td>0</td>\n",
       "      <td>0</td>\n",
       "      <td>0</td>\n",
       "      <td>0</td>\n",
       "      <td>0</td>\n",
       "      <td>0</td>\n",
       "      <td>0</td>\n",
       "      <td>0</td>\n",
       "      <td>0</td>\n",
       "    </tr>\n",
       "    <tr>\n",
       "      <th>Blmngtn</th>\n",
       "      <td>44</td>\n",
       "      <td>0</td>\n",
       "      <td>0</td>\n",
       "      <td>0</td>\n",
       "      <td>0</td>\n",
       "      <td>0</td>\n",
       "      <td>0</td>\n",
       "      <td>0</td>\n",
       "      <td>0</td>\n",
       "      <td>0</td>\n",
       "      <td>...</td>\n",
       "      <td>0</td>\n",
       "      <td>0</td>\n",
       "      <td>0</td>\n",
       "      <td>0</td>\n",
       "      <td>0</td>\n",
       "      <td>0</td>\n",
       "      <td>1</td>\n",
       "      <td>0</td>\n",
       "      <td>0</td>\n",
       "      <td>1</td>\n",
       "    </tr>\n",
       "    <tr>\n",
       "      <th>BrDale</th>\n",
       "      <td>14</td>\n",
       "      <td>0</td>\n",
       "      <td>0</td>\n",
       "      <td>0</td>\n",
       "      <td>1</td>\n",
       "      <td>0</td>\n",
       "      <td>0</td>\n",
       "      <td>0</td>\n",
       "      <td>0</td>\n",
       "      <td>0</td>\n",
       "      <td>...</td>\n",
       "      <td>0</td>\n",
       "      <td>0</td>\n",
       "      <td>0</td>\n",
       "      <td>1</td>\n",
       "      <td>0</td>\n",
       "      <td>0</td>\n",
       "      <td>0</td>\n",
       "      <td>0</td>\n",
       "      <td>0</td>\n",
       "      <td>0</td>\n",
       "    </tr>\n",
       "    <tr>\n",
       "      <th>SWISU</th>\n",
       "      <td>12</td>\n",
       "      <td>0</td>\n",
       "      <td>0</td>\n",
       "      <td>0</td>\n",
       "      <td>0</td>\n",
       "      <td>0</td>\n",
       "      <td>0</td>\n",
       "      <td>0</td>\n",
       "      <td>0</td>\n",
       "      <td>0</td>\n",
       "      <td>...</td>\n",
       "      <td>0</td>\n",
       "      <td>0</td>\n",
       "      <td>0</td>\n",
       "      <td>0</td>\n",
       "      <td>0</td>\n",
       "      <td>0</td>\n",
       "      <td>0</td>\n",
       "      <td>0</td>\n",
       "      <td>0</td>\n",
       "      <td>0</td>\n",
       "    </tr>\n",
       "    <tr>\n",
       "      <th>Blueste</th>\n",
       "      <td>10</td>\n",
       "      <td>0</td>\n",
       "      <td>0</td>\n",
       "      <td>0</td>\n",
       "      <td>0</td>\n",
       "      <td>0</td>\n",
       "      <td>0</td>\n",
       "      <td>0</td>\n",
       "      <td>0</td>\n",
       "      <td>0</td>\n",
       "      <td>...</td>\n",
       "      <td>0</td>\n",
       "      <td>0</td>\n",
       "      <td>0</td>\n",
       "      <td>0</td>\n",
       "      <td>0</td>\n",
       "      <td>0</td>\n",
       "      <td>0</td>\n",
       "      <td>0</td>\n",
       "      <td>0</td>\n",
       "      <td>0</td>\n",
       "    </tr>\n",
       "  </tbody>\n",
       "</table>\n",
       "<p>25 rows × 327 columns</p>\n",
       "</div>"
      ],
      "text/plain": [
       "MasVnrArea  0.0     1.0     11.0    14.0    16.0    18.0    22.0    24.0    \\\n",
       "CollgCr          1       0       1       1       5       2       0       0   \n",
       "Veenker          2       0       0       0       0       0       0       0   \n",
       "Crawfor          0       0       0       0       0       0       0       0   \n",
       "NoRidge         55       0       0       0       0       0       0       0   \n",
       "Mitchel         20       0       0       0       0       0       0       0   \n",
       "Somerst         75       0       0       0       0       0       0       1   \n",
       "NWAmes          37       0       0       0       0       0       0       0   \n",
       "OldTown         75       0       0       0       0       0       0       0   \n",
       "BrkSide         58       0       0       0       1       0       1       0   \n",
       "Sawyer          36       0       0       0       0       0       0       0   \n",
       "NridgHt         16       0       0       0       0       0       0       0   \n",
       "NAmes           34       0       0       0       0       0       0       0   \n",
       "SawyerW        122       1       0       0       0       0       0       0   \n",
       "IDOTRR           9       0       0       0       0       0       0       0   \n",
       "MeadowV         19       0       0       0       0       0       0       0   \n",
       "Edwards          8       0       0       0       0       0       0       0   \n",
       "Timber           2       0       0       0       0       0       0       0   \n",
       "Gilbert        108       0       0       0       0       0       0       0   \n",
       "StoneBr         24       0       0       0       0       0       0       0   \n",
       "ClearCr         51       1       0       0       0       0       0       0   \n",
       "NPkVill         37       0       0       0       0       0       0       0   \n",
       "Blmngtn         44       0       0       0       0       0       0       0   \n",
       "BrDale          14       0       0       0       1       0       0       0   \n",
       "SWISU           12       0       0       0       0       0       0       0   \n",
       "Blueste         10       0       0       0       0       0       0       0   \n",
       "\n",
       "MasVnrArea  27.0    28.0     ...    921.0   922.0   975.0   1031.0  1047.0  \\\n",
       "CollgCr          0       0   ...         0       0       0       0       0   \n",
       "Veenker          0       0   ...         0       0       0       0       0   \n",
       "Crawfor          0       0   ...         0       0       0       0       0   \n",
       "NoRidge          0       0   ...         0       0       0       0       0   \n",
       "Mitchel          0       0   ...         0       0       0       0       0   \n",
       "Somerst          0       0   ...         0       0       0       0       0   \n",
       "NWAmes           0       0   ...         0       0       0       0       0   \n",
       "OldTown          0       0   ...         0       0       0       0       0   \n",
       "BrkSide          1       0   ...         0       0       0       0       0   \n",
       "Sawyer           0       0   ...         0       0       0       0       0   \n",
       "NridgHt          0       0   ...         0       0       0       0       0   \n",
       "NAmes            0       0   ...         0       0       0       0       0   \n",
       "SawyerW          0       0   ...         0       0       0       0       1   \n",
       "IDOTRR           0       0   ...         0       0       0       0       0   \n",
       "MeadowV          0       1   ...         0       0       0       0       0   \n",
       "Edwards          0       0   ...         1       0       1       0       0   \n",
       "Timber           0       0   ...         0       1       0       0       0   \n",
       "Gilbert          0       0   ...         0       0       0       0       0   \n",
       "StoneBr          0       0   ...         0       0       0       0       0   \n",
       "ClearCr          0       0   ...         0       0       0       0       0   \n",
       "NPkVill          0       0   ...         0       0       0       0       0   \n",
       "Blmngtn          0       0   ...         0       0       0       0       0   \n",
       "BrDale           0       0   ...         0       0       0       1       0   \n",
       "SWISU            0       0   ...         0       0       0       0       0   \n",
       "Blueste          0       0   ...         0       0       0       0       0   \n",
       "\n",
       "MasVnrArea  1115.0  1129.0  1170.0  1378.0  1600.0  \n",
       "CollgCr          0       0       0       0       0  \n",
       "Veenker          0       0       0       0       0  \n",
       "Crawfor          0       0       0       0       0  \n",
       "NoRidge          0       0       0       0       0  \n",
       "Mitchel          0       0       0       0       0  \n",
       "Somerst          0       0       0       0       0  \n",
       "NWAmes           0       0       0       0       0  \n",
       "OldTown          0       0       0       0       0  \n",
       "BrkSide          0       0       0       0       0  \n",
       "Sawyer           0       0       0       0       0  \n",
       "NridgHt          0       0       0       0       0  \n",
       "NAmes            0       0       0       0       0  \n",
       "SawyerW          1       0       0       0       0  \n",
       "IDOTRR           0       0       0       0       0  \n",
       "MeadowV          0       0       0       0       0  \n",
       "Edwards          0       0       1       1       0  \n",
       "Timber           0       0       0       0       0  \n",
       "Gilbert          0       0       0       0       0  \n",
       "StoneBr          0       0       0       0       0  \n",
       "ClearCr          0       0       0       0       0  \n",
       "NPkVill          0       0       0       0       0  \n",
       "Blmngtn          0       1       0       0       1  \n",
       "BrDale           0       0       0       0       0  \n",
       "SWISU            0       0       0       0       0  \n",
       "Blueste          0       0       0       0       0  \n",
       "\n",
       "[25 rows x 327 columns]"
      ]
     },
     "execution_count": 22,
     "metadata": {},
     "output_type": "execute_result"
    }
   ],
   "source": [
    "colso2 = pd.crosstab(index=df[\"Neighborhood\"], \n",
    "                           columns=df['MasVnrArea'])\n",
    "colso2.index= ['CollgCr','Veenker','Crawfor', 'NoRidge', 'Mitchel', 'Somerst', \n",
    "               'NWAmes','OldTown', 'BrkSide', 'Sawyer', 'NridgHt', 'NAmes', 'SawyerW', 'IDOTRR',\n",
    "               'MeadowV', 'Edwards', 'Timber', 'Gilbert', 'StoneBr', 'ClearCr', 'NPkVill',\n",
    "               'Blmngtn', 'BrDale', 'SWISU', 'Blueste']\n",
    "\n",
    "colso2"
   ]
  },
  {
   "cell_type": "markdown",
   "metadata": {},
   "source": [
    "Building the Variables and Training the Model"
   ]
  },
  {
   "cell_type": "code",
   "execution_count": 23,
   "metadata": {
    "collapsed": true
   },
   "outputs": [],
   "source": [
    "df2 = df.select_dtypes(include=['float64'])"
   ]
  },
  {
   "cell_type": "code",
   "execution_count": 24,
   "metadata": {
    "collapsed": true
   },
   "outputs": [],
   "source": [
    "df_sex = pd.get_dummies(df['Neighborhood'])"
   ]
  },
  {
   "cell_type": "code",
   "execution_count": 25,
   "metadata": {
    "collapsed": true,
    "scrolled": true
   },
   "outputs": [],
   "source": [
    "df2 = pd.concat([df2, df_sex], axis=1)"
   ]
  },
  {
   "cell_type": "code",
   "execution_count": 26,
   "metadata": {
    "collapsed": true
   },
   "outputs": [],
   "source": [
    "df2;"
   ]
  },
  {
   "cell_type": "code",
   "execution_count": 27,
   "metadata": {},
   "outputs": [
    {
     "name": "stdout",
     "output_type": "stream",
     "text": [
      "Top Absolute Correlations\n",
      "MasVnrArea   NridgHt       0.509055\n",
      "             NoRidge       0.504374\n",
      "LotFrontage  BrDale        0.397918\n",
      "             MeadowV       0.343165\n",
      "             MasVnrArea    0.342901\n",
      "             NoRidge       0.264936\n",
      "             NridgHt       0.255192\n",
      "MasVnrArea   OldTown       0.245603\n",
      "LotFrontage  NPkVill       0.209757\n",
      "             NAmes         0.202739\n",
      "MasVnrArea   BrkSide       0.200142\n",
      "LotFrontage  BrkSide       0.197008\n",
      "             Blmngtn       0.183339\n",
      "             OldTown       0.174249\n",
      "MasVnrArea   NWAmes        0.173188\n",
      "CollgCr      NAmes         0.165788\n",
      "LotFrontage  Blueste       0.162201\n",
      "MasVnrArea   BrDale        0.155218\n",
      "NAmes        OldTown       0.150621\n",
      "MasVnrArea   IDOTRR        0.150315\n",
      "             MeadowV       0.141637\n",
      "             SWISU         0.140267\n",
      "LotFrontage  NWAmes        0.136275\n",
      "MasVnrArea   Sawyer        0.132716\n",
      "Edwards      NAmes         0.131450\n",
      "MasVnrArea   Edwards       0.131425\n",
      "             Gilbert       0.130771\n",
      "LotFrontage  SWISU         0.127970\n",
      "NAmes        Somerst       0.120301\n",
      "MasVnrArea   NPkVill       0.115325\n",
      "             Somerst       0.112163\n",
      "CollgCr      OldTown       0.108348\n",
      "LotFrontage  IDOTRR        0.107028\n",
      "NridgHt      OldTown       0.105766\n",
      "LotFrontage  Timber        0.105094\n",
      "             Gilbert       0.103161\n",
      "Gilbert      NAmes         0.102922\n",
      "NAmes        Sawyer        0.102631\n",
      "BrkSide      NAmes         0.102031\n",
      "CollgCr      Edwards       0.098148\n",
      "NAmes        NWAmes        0.092929\n",
      "MasVnrArea   Blmngtn       0.090370\n",
      "CollgCr      Somerst       0.089301\n",
      "NAmes        SawyerW       0.089181\n",
      "LotFrontage  Somerst       0.087311\n",
      "MasVnrArea   Timber        0.086693\n",
      "             Veenker       0.085937\n",
      "NoRidge      OldTown       0.083806\n",
      "BrkSide      NridgHt       0.082985\n",
      "NAmes        NridgHt       0.082671\n",
      "dtype: float64\n"
     ]
    }
   ],
   "source": [
    "print(\"Top Absolute Correlations\")\n",
    "print(get_top_abs_correlations(df2.corr(), 50))"
   ]
  },
  {
   "cell_type": "code",
   "execution_count": 28,
   "metadata": {
    "collapsed": true
   },
   "outputs": [],
   "source": [
    "# target is stored in y\n",
    "Y = df['Neighborhood']\n",
    "\n",
    "# X contains all other features, which we will use to predict target\n",
    "X = df2"
   ]
  },
  {
   "cell_type": "markdown",
   "metadata": {},
   "source": [
    "## Split 1"
   ]
  },
  {
   "cell_type": "code",
   "execution_count": null,
   "metadata": {
    "collapsed": true
   },
   "outputs": [],
   "source": [
    "# train/test split\n",
    "X_train, X_test, Y_train, Y_test = train_test_split(X, Y, test_size=0.3,random_state=618)\n",
    "\n",
    "# build model and fit on train set\n",
    "dTree = DecisionTreeClassifier(max_leaf_nodes=25)\n",
    "dTree.fit(X_train, Y_train);"
   ]
  },
  {
   "cell_type": "code",
   "execution_count": null,
   "metadata": {
    "collapsed": true
   },
   "outputs": [],
   "source": [
    "dTree_pred = dTree.predict(X_test)\n",
    "dTree_pred;"
   ]
  },
  {
   "cell_type": "code",
   "execution_count": null,
   "metadata": {
    "collapsed": true
   },
   "outputs": [],
   "source": [
    "score = accuracy_score(y_true = Y_test, y_pred = dTree_pred)\n",
    "score"
   ]
  },
  {
   "cell_type": "code",
   "execution_count": null,
   "metadata": {
    "collapsed": true
   },
   "outputs": [],
   "source": [
    "baslline = np.full((438,1),'NAmes')"
   ]
  },
  {
   "cell_type": "code",
   "execution_count": null,
   "metadata": {
    "collapsed": true
   },
   "outputs": [],
   "source": [
    "base = accuracy_score(y_true = Y_test, y_pred = baslline)\n",
    "base"
   ]
  },
  {
   "cell_type": "code",
   "execution_count": null,
   "metadata": {
    "collapsed": true
   },
   "outputs": [],
   "source": [
    "(score/base)-1"
   ]
  },
  {
   "cell_type": "markdown",
   "metadata": {},
   "source": [
    "## Split 2"
   ]
  },
  {
   "cell_type": "code",
   "execution_count": null,
   "metadata": {
    "collapsed": true
   },
   "outputs": [],
   "source": [
    "# train/test split\n",
    "X_train, X_test, Y_train, Y_test = train_test_split(X, Y, test_size=0.3,random_state=658)\n",
    "\n",
    "# build model and fit on train set\n",
    "dTree = DecisionTreeClassifier(max_leaf_nodes=25)\n",
    "dTree.fit(X_train, Y_train);"
   ]
  },
  {
   "cell_type": "code",
   "execution_count": null,
   "metadata": {
    "collapsed": true
   },
   "outputs": [],
   "source": [
    "dTree_pred = dTree.predict(X_test)\n",
    "dTree_pred;"
   ]
  },
  {
   "cell_type": "code",
   "execution_count": null,
   "metadata": {
    "collapsed": true
   },
   "outputs": [],
   "source": [
    "score = accuracy_score(y_true = Y_test, y_pred = dTree_pred)\n",
    "score"
   ]
  },
  {
   "cell_type": "code",
   "execution_count": null,
   "metadata": {
    "collapsed": true
   },
   "outputs": [],
   "source": [
    "baslline = np.full((438,1),'NAmes')"
   ]
  },
  {
   "cell_type": "code",
   "execution_count": null,
   "metadata": {
    "collapsed": true
   },
   "outputs": [],
   "source": [
    "base = accuracy_score(y_true = Y_test, y_pred = baslline)\n",
    "base"
   ]
  },
  {
   "cell_type": "code",
   "execution_count": null,
   "metadata": {
    "collapsed": true
   },
   "outputs": [],
   "source": [
    "(score/base)-1"
   ]
  },
  {
   "cell_type": "markdown",
   "metadata": {},
   "source": [
    "## Split 3"
   ]
  },
  {
   "cell_type": "code",
   "execution_count": null,
   "metadata": {
    "collapsed": true
   },
   "outputs": [],
   "source": [
    "# train/test split\n",
    "X_train, X_test, Y_train, Y_test = train_test_split(X, Y, test_size=0.3,random_state=398)\n",
    "\n",
    "# build model and fit on train set\n",
    "dTree = DecisionTreeClassifier(max_leaf_nodes=25)\n",
    "dTree.fit(X_train, Y_train);"
   ]
  },
  {
   "cell_type": "code",
   "execution_count": null,
   "metadata": {
    "collapsed": true
   },
   "outputs": [],
   "source": [
    "dTree_pred = dTree.predict(X_test)\n",
    "dTree_pred;"
   ]
  },
  {
   "cell_type": "code",
   "execution_count": null,
   "metadata": {
    "collapsed": true
   },
   "outputs": [],
   "source": [
    "score = accuracy_score(y_true = Y_test, y_pred = dTree_pred)\n",
    "score"
   ]
  },
  {
   "cell_type": "code",
   "execution_count": null,
   "metadata": {
    "collapsed": true
   },
   "outputs": [],
   "source": [
    "baslline = np.full((438,1),'NAmes')"
   ]
  },
  {
   "cell_type": "code",
   "execution_count": null,
   "metadata": {
    "collapsed": true
   },
   "outputs": [],
   "source": [
    "base = accuracy_score(y_true = Y_test, y_pred = baslline)\n",
    "base"
   ]
  },
  {
   "cell_type": "code",
   "execution_count": null,
   "metadata": {
    "collapsed": true
   },
   "outputs": [],
   "source": [
    "(score/base)-1"
   ]
  },
  {
   "cell_type": "markdown",
   "metadata": {},
   "source": [
    "## Split 4"
   ]
  },
  {
   "cell_type": "code",
   "execution_count": null,
   "metadata": {
    "collapsed": true
   },
   "outputs": [],
   "source": [
    "# train/test split\n",
    "X_train, X_test, Y_train, Y_test = train_test_split(X, Y, test_size=0.3,random_state=661)\n",
    "\n",
    "# build model and fit on train set\n",
    "dTree = DecisionTreeClassifier(max_leaf_nodes=25)\n",
    "dTree.fit(X_train, Y_train);"
   ]
  },
  {
   "cell_type": "code",
   "execution_count": null,
   "metadata": {
    "collapsed": true
   },
   "outputs": [],
   "source": [
    "dTree_pred = dTree.predict(X_test)\n",
    "dTree_pred;"
   ]
  },
  {
   "cell_type": "code",
   "execution_count": null,
   "metadata": {
    "collapsed": true
   },
   "outputs": [],
   "source": [
    "score = accuracy_score(y_true = Y_test, y_pred = dTree_pred)\n",
    "score"
   ]
  },
  {
   "cell_type": "code",
   "execution_count": null,
   "metadata": {
    "collapsed": true
   },
   "outputs": [],
   "source": [
    "baslline = np.full((438,1),'NAmes')"
   ]
  },
  {
   "cell_type": "code",
   "execution_count": null,
   "metadata": {
    "collapsed": true
   },
   "outputs": [],
   "source": [
    "base = accuracy_score(y_true = Y_test, y_pred = baslline)\n",
    "base"
   ]
  },
  {
   "cell_type": "code",
   "execution_count": null,
   "metadata": {
    "collapsed": true
   },
   "outputs": [],
   "source": [
    "(score/base)-1"
   ]
  },
  {
   "cell_type": "markdown",
   "metadata": {},
   "source": [
    "## Split 5"
   ]
  },
  {
   "cell_type": "code",
   "execution_count": null,
   "metadata": {
    "collapsed": true
   },
   "outputs": [],
   "source": [
    "# train/test split\n",
    "X_train, X_test, Y_train, Y_test = train_test_split(X, Y, test_size=0.3,random_state=9)\n",
    "\n",
    "# build model and fit on train set\n",
    "dTree = DecisionTreeClassifier(max_leaf_nodes=25)\n",
    "dTree.fit(X_train, Y_train);"
   ]
  },
  {
   "cell_type": "code",
   "execution_count": null,
   "metadata": {
    "collapsed": true
   },
   "outputs": [],
   "source": [
    "dTree_pred = dTree.predict(X_test)\n",
    "dTree_pred;"
   ]
  },
  {
   "cell_type": "code",
   "execution_count": null,
   "metadata": {
    "collapsed": true
   },
   "outputs": [],
   "source": [
    "score = accuracy_score(y_true = Y_test, y_pred = dTree_pred)\n",
    "score"
   ]
  },
  {
   "cell_type": "code",
   "execution_count": null,
   "metadata": {
    "collapsed": true
   },
   "outputs": [],
   "source": [
    "baslline = np.full((438,1),'NAmes')"
   ]
  },
  {
   "cell_type": "code",
   "execution_count": null,
   "metadata": {
    "collapsed": true
   },
   "outputs": [],
   "source": [
    "base = accuracy_score(y_true = Y_test, y_pred = baslline)\n",
    "base"
   ]
  },
  {
   "cell_type": "code",
   "execution_count": null,
   "metadata": {
    "collapsed": true
   },
   "outputs": [],
   "source": [
    "(score/base)-1"
   ]
  },
  {
   "cell_type": "markdown",
   "metadata": {},
   "source": [
    "## Hyperparameter Tuning through For-Loop"
   ]
  },
  {
   "cell_type": "code",
   "execution_count": null,
   "metadata": {
    "collapsed": true
   },
   "outputs": [],
   "source": [
    "accval = []\n",
    "for i in range(1000):\n",
    "    # train/test split\n",
    "    X_train, X_test, Y_train, Y_test = train_test_split(X, Y, test_size=0.3, random_state=i)\n",
    "\n",
    "    # build model and fit on train set\n",
    "    dTree = DecisionTreeClassifier(max_leaf_nodes=25)\n",
    "    dTree.fit(X_train, Y_train)\n",
    "    dTree_pred = dTree.predict(X_test)\n",
    "    a = accuracy_score(y_true = Y_test, y_pred = dTree_pred)\n",
    "    b = accuracy_score(y_true = Y_test, y_pred = baslline)\n",
    "    accval.append((a/b)-1)\n",
    "    \n",
    "print('Maximum Accuracy above Baseline: {:.2f}%'.format(100*max(accval)))\n",
    "print('Minimum Accuracy above Baseline: {:.2f}%'.format(100*min(accval)))"
   ]
  },
  {
   "cell_type": "code",
   "execution_count": null,
   "metadata": {
    "collapsed": true
   },
   "outputs": [],
   "source": [
    "accval.index(max(accval))\n",
    "sorted(range(len(accval)), key=lambda x: accval[x])[-5:]"
   ]
  },
  {
   "cell_type": "code",
   "execution_count": null,
   "metadata": {
    "collapsed": true,
    "scrolled": true
   },
   "outputs": [],
   "source": [
    "accval = []\n",
    "for i in range(999):\n",
    "    # train/test split\n",
    "    X_train, X_test, Y_train, Y_test = train_test_split(X, Y, test_size=0.3, random_state=9)\n",
    "\n",
    "    # build model and fit on train set\n",
    "    dTree = DecisionTreeClassifier(max_leaf_nodes=i+2)\n",
    "    dTree.fit(X_train, Y_train)\n",
    "    dTree_pred = dTree.predict(X_test)\n",
    "    a = accuracy_score(y_true = Y_test, y_pred = dTree_pred)\n",
    "    b = accuracy_score(y_true = Y_test, y_pred = baslline)\n",
    "    accval.append((a/b)-1)\n",
    "    \n",
    "print('Maximum Accuracy above Baseline: {:.2f}%'.format(100*max(accval)))\n",
    "print('Minimum Accuracy above Baseline: {:.2f}%'.format(100*min(accval)))\n",
    "#Print which i Value actually gives the best model based on the data"
   ]
  },
  {
   "cell_type": "code",
   "execution_count": null,
   "metadata": {
    "collapsed": true
   },
   "outputs": [],
   "source": [
    "accval.index(max(accval))"
   ]
  },
  {
   "cell_type": "code",
   "execution_count": null,
   "metadata": {
    "collapsed": true
   },
   "outputs": [],
   "source": []
  },
  {
   "cell_type": "markdown",
   "metadata": {},
   "source": [
    "# Logistic Regression"
   ]
  },
  {
   "cell_type": "code",
   "execution_count": null,
   "metadata": {
    "collapsed": true
   },
   "outputs": [],
   "source": [
    "df = pd.read_csv(path_to_train_data)\n",
    "\n",
    "def cleanup():\n",
    "    df.LotFrontage.fillna(df.LotFrontage.median(), inplace=True)\n",
    "    df.Alley.fillna(\"None\",inplace=True)\n",
    "    df.MasVnrType.fillna(\"None\",inplace=True)\n",
    "    df.MasVnrArea.fillna(0.0, inplace=True)\n",
    "    df.BsmtQual.fillna(\"None\",inplace=True)\n",
    "    df.BsmtCond.fillna(\"None\",inplace=True)\n",
    "    df.BsmtExposure.fillna(\"None\",inplace=True)\n",
    "    df.BsmtFinType1.fillna(\"None\",inplace=True)\n",
    "    df.BsmtFinType2.fillna(\"None\",inplace=True)\n",
    "    df.Electrical.fillna(\"SBrkr\",inplace=True)\n",
    "    df.FireplaceQu.fillna(\"None\",inplace=True)\n",
    "    df.GarageType.fillna(\"None\",inplace=True)\n",
    "    df.GarageYrBlt.fillna(\"None\",inplace=True)\n",
    "    df.GarageFinish.fillna(\"None\",inplace=True)\n",
    "    df.GarageQual.fillna(\"None\",inplace=True)\n",
    "    df.GarageCond.fillna(\"None\",inplace=True)\n",
    "    df.PoolQC.fillna(\"None\",inplace=True)\n",
    "    df.Fence.fillna(\"None\",inplace=True)\n",
    "    df.MiscFeature.fillna(\"None\",inplace=True)\n",
    "    quality_dictionary = {'None': 0, 'Po': 1, 'Fa': 2, 'TA': 3, 'Gd': 4, 'Ex': 5}\n",
    "    df['ExterQual']   = df['ExterQual'].map(quality_dictionary).astype(int)\n",
    "    df['ExterCond']   = df['ExterCond'].map(quality_dictionary).astype(int)\n",
    "    df['BsmtQual']    = df['BsmtQual'].map(quality_dictionary).astype(int)\n",
    "    df['BsmtCond']    = df['BsmtCond'].map(quality_dictionary).astype(int)\n",
    "    df['HeatingQC']   = df['HeatingQC'].map(quality_dictionary).astype(int)\n",
    "    df['KitchenQual'] = df['KitchenQual'].map(quality_dictionary).astype(int)\n",
    "    df['FireplaceQu'] = df['FireplaceQu'].map(quality_dictionary).astype(int)\n",
    "    df['GarageQual']  = df['GarageQual'].map(quality_dictionary).astype(int)\n",
    "    df['GarageCond']  = df['GarageCond'].map(quality_dictionary).astype(int)\n",
    "    df['PoolQC']      = df['PoolQC'].map(quality_dictionary).astype(int)\n",
    "\n",
    "    #saving memory\n",
    "    del quality_dictionary\n",
    "\n",
    "    df['BsmtExposure'] = df['BsmtExposure'].map({'None': 0, 'No': 1, 'Mn': 2, 'Av': 3, 'Gd': 4}).astype(int)\n",
    "\n",
    "    bsmtdict = {'None': 0, 'Unf': 1, 'LwQ': 2, 'Rec': 3, 'BLQ': 4, 'ALQ': 5, 'GLQ': 6}\n",
    "    df['BsmtFinType1'] = df['BsmtFinType1'].map(bsmtdict).astype(int)\n",
    "    df['BsmtFinType2'] = df['BsmtFinType2'].map(bsmtdict).astype(int)\n",
    "\n",
    "    df['Functional'] = df['Functional'].map({'None': 0, 'Sal': 1, 'Sev': 2, 'Maj2': 3, 'Maj1': 4, \n",
    "                                             'Mod': 5, 'Min2': 6, 'Min1': 7, 'Typ': 8}).astype(int)\n",
    "\n",
    "    df['GarageFinish'] = df['GarageFinish'].map({'None': 0, 'Unf': 1, 'RFn': 2, 'Fin': 3}).astype(int)\n",
    "    df['Fence'] = df['Fence'].map({'None': 0, 'MnWw': 1, 'GdWo': 2, 'MnPrv': 3, 'GdPrv': 4}).astype(int)\n",
    "\n",
    "    del bsmtdict\n",
    "\n",
    "cleanup()"
   ]
  },
  {
   "cell_type": "markdown",
   "metadata": {},
   "source": [
    "Feature Engineering and Baseline"
   ]
  },
  {
   "cell_type": "code",
   "execution_count": null,
   "metadata": {
    "collapsed": true
   },
   "outputs": [],
   "source": [
    "df3 = df.copy()\n",
    "df3['QualAbove5'] = df['OverallQual']\n",
    "\n",
    "for i in range(df3['QualAbove5'].count()):\n",
    "    #print(df['YearBuilt'][i],type(df['YearBuilt'][i]))\n",
    "    if df3['QualAbove5'][i] > 5:\n",
    "        df3['QualAbove5'][i] = 1\n",
    "    elif df3['QualAbove5'][i] <= 5:\n",
    "        df3['QualAbove5'][i] = 0\n",
    "\n",
    "df3.drop('OverallQual', axis=1, inplace=True)"
   ]
  },
  {
   "cell_type": "code",
   "execution_count": null,
   "metadata": {
    "collapsed": true
   },
   "outputs": [],
   "source": [
    "lyst=[]\n",
    "for i in range(df3.shape[0]):\n",
    "    if df3['QualAbove5'][i] == 1:\n",
    "        pass\n",
    "    if df3['QualAbove5'][i] == 0:\n",
    "        pass\n",
    "    else:\n",
    "        lyst.append(df3['QualAbove5'][i])\n",
    "lyst;"
   ]
  },
  {
   "cell_type": "code",
   "execution_count": null,
   "metadata": {
    "collapsed": true
   },
   "outputs": [],
   "source": [
    "df3.dropna(axis=0, how='any', thresh=None, subset=None, inplace=True)"
   ]
  },
  {
   "cell_type": "code",
   "execution_count": null,
   "metadata": {
    "collapsed": true
   },
   "outputs": [],
   "source": [
    "corrmat = df3.corr()\n",
    "indices = corrmat.loc['QualAbove5'].copy()\n",
    "a = pd.DataFrame(indices.sort_values(ascending=False))\n",
    "plt.figure(figsize=(1,10))\n",
    "sns.heatmap(a, annot=True)"
   ]
  },
  {
   "cell_type": "code",
   "execution_count": null,
   "metadata": {
    "collapsed": true
   },
   "outputs": [],
   "source": [
    "rowcol = []\n",
    "for x in range(len(indices)):\n",
    "    if indices[x] > 0.45:\n",
    "        rowcol.append(x)\n",
    "rowcol"
   ]
  },
  {
   "cell_type": "code",
   "execution_count": null,
   "metadata": {
    "collapsed": true
   },
   "outputs": [],
   "source": [
    "rowcol.sort()\n",
    "indices[rowcol].sort_values(ascending=False)"
   ]
  },
  {
   "cell_type": "code",
   "execution_count": null,
   "metadata": {
    "collapsed": true,
    "scrolled": false
   },
   "outputs": [],
   "source": [
    "df2 = df3.copy()\n",
    "df2.drop('GarageYrBlt', axis=1, inplace=True);"
   ]
  },
  {
   "cell_type": "code",
   "execution_count": null,
   "metadata": {
    "collapsed": true
   },
   "outputs": [],
   "source": [
    "enc = LabelEncoder()\n",
    "for i in df2.columns:\n",
    "    df2[i] = enc.fit_transform(df2[i])"
   ]
  },
  {
   "cell_type": "code",
   "execution_count": null,
   "metadata": {
    "collapsed": true
   },
   "outputs": [],
   "source": [
    "Y = df2['QualAbove5']\n",
    "\n",
    "# X contains all other features, which we will use to predict target\n",
    "X = df2[['SalePrice','ExterQual','BsmtQual', 'FullBath','YearBuilt','GarageFinish','GarageCars','KitchenQual']]"
   ]
  },
  {
   "cell_type": "code",
   "execution_count": null,
   "metadata": {
    "collapsed": true
   },
   "outputs": [],
   "source": [
    "Y.value_counts()"
   ]
  },
  {
   "cell_type": "markdown",
   "metadata": {},
   "source": [
    "## Split 1"
   ]
  },
  {
   "cell_type": "code",
   "execution_count": null,
   "metadata": {
    "collapsed": true
   },
   "outputs": [],
   "source": [
    "X_train, X_test, Y_train, Y_test = train_test_split(X, Y, test_size=0.25,random_state=107)"
   ]
  },
  {
   "cell_type": "code",
   "execution_count": null,
   "metadata": {
    "collapsed": true,
    "scrolled": false
   },
   "outputs": [],
   "source": [
    "Y_test.value_counts()"
   ]
  },
  {
   "cell_type": "code",
   "execution_count": null,
   "metadata": {
    "collapsed": true
   },
   "outputs": [],
   "source": [
    "base = np.full((Y_test.shape[0],1),1)"
   ]
  },
  {
   "cell_type": "code",
   "execution_count": null,
   "metadata": {
    "collapsed": true
   },
   "outputs": [],
   "source": [
    "X_train;"
   ]
  },
  {
   "cell_type": "code",
   "execution_count": null,
   "metadata": {
    "collapsed": true
   },
   "outputs": [],
   "source": [
    "# build model and fit on train set\n",
    "logit = LogisticRegression()\n",
    "logit.fit(X_train, Y_train)"
   ]
  },
  {
   "cell_type": "code",
   "execution_count": null,
   "metadata": {
    "collapsed": true
   },
   "outputs": [],
   "source": [
    "pred_logit = logit.predict(X_test)\n",
    "pred_logit"
   ]
  },
  {
   "cell_type": "code",
   "execution_count": null,
   "metadata": {
    "collapsed": true
   },
   "outputs": [],
   "source": [
    "# measure accuracy\n",
    "score = accuracy_score(y_true = Y_test, y_pred = pred_logit)\n",
    "score"
   ]
  },
  {
   "cell_type": "code",
   "execution_count": null,
   "metadata": {
    "collapsed": true,
    "scrolled": true
   },
   "outputs": [],
   "source": [
    "base2 = accuracy_score(y_true = Y_test, y_pred = base)\n",
    "base2"
   ]
  },
  {
   "cell_type": "code",
   "execution_count": null,
   "metadata": {
    "collapsed": true
   },
   "outputs": [],
   "source": [
    "(score-base2)/base2"
   ]
  },
  {
   "cell_type": "markdown",
   "metadata": {},
   "source": [
    "## Split 2"
   ]
  },
  {
   "cell_type": "code",
   "execution_count": null,
   "metadata": {
    "collapsed": true
   },
   "outputs": [],
   "source": [
    "X_train, X_test, Y_train, Y_test = train_test_split(X, Y, test_size=0.25,random_state=177)"
   ]
  },
  {
   "cell_type": "code",
   "execution_count": null,
   "metadata": {
    "collapsed": true,
    "scrolled": false
   },
   "outputs": [],
   "source": [
    "Y_test.value_counts()"
   ]
  },
  {
   "cell_type": "code",
   "execution_count": null,
   "metadata": {
    "collapsed": true
   },
   "outputs": [],
   "source": [
    "base = np.full((Y_test.shape[0],1),1)"
   ]
  },
  {
   "cell_type": "code",
   "execution_count": null,
   "metadata": {
    "collapsed": true
   },
   "outputs": [],
   "source": [
    "X_train;"
   ]
  },
  {
   "cell_type": "code",
   "execution_count": null,
   "metadata": {
    "collapsed": true
   },
   "outputs": [],
   "source": [
    "# build model and fit on train set\n",
    "logit = LogisticRegression()\n",
    "logit.fit(X_train, Y_train)"
   ]
  },
  {
   "cell_type": "code",
   "execution_count": null,
   "metadata": {
    "collapsed": true
   },
   "outputs": [],
   "source": [
    "pred_logit = logit.predict(X_test)\n",
    "pred_logit"
   ]
  },
  {
   "cell_type": "code",
   "execution_count": null,
   "metadata": {
    "collapsed": true
   },
   "outputs": [],
   "source": [
    "# measure accuracy\n",
    "score = accuracy_score(y_true = Y_test, y_pred = pred_logit)\n",
    "score"
   ]
  },
  {
   "cell_type": "code",
   "execution_count": null,
   "metadata": {
    "collapsed": true,
    "scrolled": true
   },
   "outputs": [],
   "source": [
    "base2 = accuracy_score(y_true = Y_test, y_pred = base)\n",
    "base2"
   ]
  },
  {
   "cell_type": "code",
   "execution_count": null,
   "metadata": {
    "collapsed": true
   },
   "outputs": [],
   "source": [
    "(score-base2)/base2"
   ]
  },
  {
   "cell_type": "markdown",
   "metadata": {},
   "source": [
    "## Split 3"
   ]
  },
  {
   "cell_type": "code",
   "execution_count": null,
   "metadata": {
    "collapsed": true
   },
   "outputs": [],
   "source": [
    "X_train, X_test, Y_train, Y_test = train_test_split(X, Y, test_size=0.25,random_state=804)"
   ]
  },
  {
   "cell_type": "code",
   "execution_count": null,
   "metadata": {
    "collapsed": true,
    "scrolled": false
   },
   "outputs": [],
   "source": [
    "Y_test.value_counts()"
   ]
  },
  {
   "cell_type": "code",
   "execution_count": null,
   "metadata": {
    "collapsed": true
   },
   "outputs": [],
   "source": [
    "base = np.full((Y_test.shape[0],1),1)"
   ]
  },
  {
   "cell_type": "code",
   "execution_count": null,
   "metadata": {
    "collapsed": true
   },
   "outputs": [],
   "source": [
    "X_train;"
   ]
  },
  {
   "cell_type": "code",
   "execution_count": null,
   "metadata": {
    "collapsed": true
   },
   "outputs": [],
   "source": [
    "# build model and fit on train set\n",
    "logit = LogisticRegression()\n",
    "logit.fit(X_train, Y_train)"
   ]
  },
  {
   "cell_type": "code",
   "execution_count": null,
   "metadata": {
    "collapsed": true
   },
   "outputs": [],
   "source": [
    "pred_logit = logit.predict(X_test)\n",
    "pred_logit"
   ]
  },
  {
   "cell_type": "code",
   "execution_count": null,
   "metadata": {
    "collapsed": true
   },
   "outputs": [],
   "source": [
    "# measure accuracy\n",
    "score = accuracy_score(y_true = Y_test, y_pred = pred_logit)\n",
    "score"
   ]
  },
  {
   "cell_type": "code",
   "execution_count": null,
   "metadata": {
    "collapsed": true,
    "scrolled": true
   },
   "outputs": [],
   "source": [
    "base2 = accuracy_score(y_true = Y_test, y_pred = base)\n",
    "base2"
   ]
  },
  {
   "cell_type": "code",
   "execution_count": null,
   "metadata": {
    "collapsed": true
   },
   "outputs": [],
   "source": [
    "(score-base2)/base2"
   ]
  },
  {
   "cell_type": "markdown",
   "metadata": {},
   "source": [
    "## Split 4"
   ]
  },
  {
   "cell_type": "code",
   "execution_count": null,
   "metadata": {
    "collapsed": true
   },
   "outputs": [],
   "source": [
    "X_train, X_test, Y_train, Y_test = train_test_split(X, Y, test_size=0.25,random_state=195)"
   ]
  },
  {
   "cell_type": "code",
   "execution_count": null,
   "metadata": {
    "collapsed": true,
    "scrolled": false
   },
   "outputs": [],
   "source": [
    "Y_test.value_counts()"
   ]
  },
  {
   "cell_type": "code",
   "execution_count": null,
   "metadata": {
    "collapsed": true
   },
   "outputs": [],
   "source": [
    "base = np.full((Y_test.shape[0],1),1)"
   ]
  },
  {
   "cell_type": "code",
   "execution_count": null,
   "metadata": {
    "collapsed": true
   },
   "outputs": [],
   "source": [
    "X_train;"
   ]
  },
  {
   "cell_type": "code",
   "execution_count": null,
   "metadata": {
    "collapsed": true
   },
   "outputs": [],
   "source": [
    "# build model and fit on train set\n",
    "logit = LogisticRegression()\n",
    "logit.fit(X_train, Y_train)"
   ]
  },
  {
   "cell_type": "code",
   "execution_count": null,
   "metadata": {
    "collapsed": true
   },
   "outputs": [],
   "source": [
    "pred_logit = logit.predict(X_test)\n",
    "pred_logit"
   ]
  },
  {
   "cell_type": "code",
   "execution_count": null,
   "metadata": {
    "collapsed": true
   },
   "outputs": [],
   "source": [
    "# measure accuracy\n",
    "score = accuracy_score(y_true = Y_test, y_pred = pred_logit)\n",
    "score"
   ]
  },
  {
   "cell_type": "code",
   "execution_count": null,
   "metadata": {
    "collapsed": true,
    "scrolled": true
   },
   "outputs": [],
   "source": [
    "base2 = accuracy_score(y_true = Y_test, y_pred = base)\n",
    "base2"
   ]
  },
  {
   "cell_type": "code",
   "execution_count": null,
   "metadata": {
    "collapsed": true
   },
   "outputs": [],
   "source": [
    "(score-base2)/base2"
   ]
  },
  {
   "cell_type": "markdown",
   "metadata": {},
   "source": [
    "## Split 5"
   ]
  },
  {
   "cell_type": "code",
   "execution_count": null,
   "metadata": {
    "collapsed": true
   },
   "outputs": [],
   "source": [
    "X_train, X_test, Y_train, Y_test = train_test_split(X, Y, test_size=0.25,random_state=838)"
   ]
  },
  {
   "cell_type": "code",
   "execution_count": null,
   "metadata": {
    "collapsed": true,
    "scrolled": false
   },
   "outputs": [],
   "source": [
    "Y_test.value_counts()"
   ]
  },
  {
   "cell_type": "code",
   "execution_count": null,
   "metadata": {
    "collapsed": true
   },
   "outputs": [],
   "source": [
    "base = np.full((Y_test.shape[0],1),1)"
   ]
  },
  {
   "cell_type": "code",
   "execution_count": null,
   "metadata": {
    "collapsed": true
   },
   "outputs": [],
   "source": [
    "X_train;"
   ]
  },
  {
   "cell_type": "code",
   "execution_count": null,
   "metadata": {
    "collapsed": true
   },
   "outputs": [],
   "source": [
    "# build model and fit on train set\n",
    "logit = LogisticRegression()\n",
    "logit.fit(X_train, Y_train)"
   ]
  },
  {
   "cell_type": "code",
   "execution_count": null,
   "metadata": {
    "collapsed": true
   },
   "outputs": [],
   "source": [
    "pred_logit = logit.predict(X_test)\n",
    "pred_logit"
   ]
  },
  {
   "cell_type": "code",
   "execution_count": null,
   "metadata": {
    "collapsed": true
   },
   "outputs": [],
   "source": [
    "# measure accuracy\n",
    "score = accuracy_score(y_true = Y_test, y_pred = pred_logit)\n",
    "score"
   ]
  },
  {
   "cell_type": "code",
   "execution_count": null,
   "metadata": {
    "collapsed": true,
    "scrolled": true
   },
   "outputs": [],
   "source": [
    "base2 = accuracy_score(y_true = Y_test, y_pred = base)\n",
    "base2"
   ]
  },
  {
   "cell_type": "code",
   "execution_count": null,
   "metadata": {
    "collapsed": true
   },
   "outputs": [],
   "source": [
    "(score-base2)/base2"
   ]
  },
  {
   "cell_type": "markdown",
   "metadata": {},
   "source": [
    "## Tuning"
   ]
  },
  {
   "cell_type": "code",
   "execution_count": null,
   "metadata": {
    "collapsed": true
   },
   "outputs": [],
   "source": [
    "yag = []\n",
    "for i in range(1000):\n",
    "    X_train, X_test, Y_train, Y_test = train_test_split(X, Y, test_size=0.3,random_state=i)\n",
    "    base = np.full((Y_test.shape[0],1),1)\n",
    "    logit = LogisticRegression()\n",
    "    logit.fit(X_train, Y_train)\n",
    "    pred_logit = logit.predict(X_test)\n",
    "    score = accuracy_score(y_true = Y_test, y_pred = pred_logit)\n",
    "    base2 = accuracy_score(y_true = Y_test, y_pred = base)\n",
    "    yag.append((score-base2)/base2)"
   ]
  },
  {
   "cell_type": "code",
   "execution_count": null,
   "metadata": {
    "collapsed": true
   },
   "outputs": [],
   "source": [
    "print('The Best Accuracy is: {}%'.format(max(yag)*100))\n",
    "print('The Worst Accuracy is: {}%'.format(min(yag)*100))"
   ]
  },
  {
   "cell_type": "code",
   "execution_count": null,
   "metadata": {
    "collapsed": true
   },
   "outputs": [],
   "source": [
    "sorted(range(len(yag)), key=lambda x: yag[x])[-5:]"
   ]
  },
  {
   "cell_type": "markdown",
   "metadata": {},
   "source": [
    "Building the Variables and Model"
   ]
  },
  {
   "cell_type": "markdown",
   "metadata": {},
   "source": [
    "# Support Vector Machine (SVM)"
   ]
  },
  {
   "cell_type": "code",
   "execution_count": 2,
   "metadata": {
    "collapsed": true
   },
   "outputs": [],
   "source": [
    "df = pd.read_csv(path_to_train_data)\n",
    "\n",
    "def cleanup():\n",
    "    df.LotFrontage.fillna(df.LotFrontage.median(), inplace=True)\n",
    "    df.Alley.fillna(\"None\",inplace=True)\n",
    "    df.MasVnrType.fillna(\"None\",inplace=True)\n",
    "    df.MasVnrArea.fillna(0.0, inplace=True)\n",
    "    df.BsmtQual.fillna(\"None\",inplace=True)\n",
    "    df.BsmtCond.fillna(\"None\",inplace=True)\n",
    "    df.BsmtExposure.fillna(\"None\",inplace=True)\n",
    "    df.BsmtFinType1.fillna(\"None\",inplace=True)\n",
    "    df.BsmtFinType2.fillna(\"None\",inplace=True)\n",
    "    df.Electrical.fillna(\"SBrkr\",inplace=True)\n",
    "    df.FireplaceQu.fillna(\"None\",inplace=True)\n",
    "    df.GarageType.fillna(\"None\",inplace=True)\n",
    "    df.GarageYrBlt.fillna(\"None\",inplace=True)\n",
    "    df.GarageFinish.fillna(\"None\",inplace=True)\n",
    "    df.GarageQual.fillna(\"None\",inplace=True)\n",
    "    df.GarageCond.fillna(\"None\",inplace=True)\n",
    "    df.PoolQC.fillna(\"None\",inplace=True)\n",
    "    df.Fence.fillna(\"None\",inplace=True)\n",
    "    df.MiscFeature.fillna(\"None\",inplace=True)\n",
    "    quality_dictionary = {'None': 0, 'Po': 1, 'Fa': 2, 'TA': 3, 'Gd': 4, 'Ex': 5}\n",
    "    df['ExterQual']   = df['ExterQual'].map(quality_dictionary).astype(int)\n",
    "    df['ExterCond']   = df['ExterCond'].map(quality_dictionary).astype(int)\n",
    "    df['BsmtQual']    = df['BsmtQual'].map(quality_dictionary).astype(int)\n",
    "    df['BsmtCond']    = df['BsmtCond'].map(quality_dictionary).astype(int)\n",
    "    df['HeatingQC']   = df['HeatingQC'].map(quality_dictionary).astype(int)\n",
    "    df['KitchenQual'] = df['KitchenQual'].map(quality_dictionary).astype(int)\n",
    "    df['FireplaceQu'] = df['FireplaceQu'].map(quality_dictionary).astype(int)\n",
    "    df['GarageQual']  = df['GarageQual'].map(quality_dictionary).astype(int)\n",
    "    df['GarageCond']  = df['GarageCond'].map(quality_dictionary).astype(int)\n",
    "    df['PoolQC']      = df['PoolQC'].map(quality_dictionary).astype(int)\n",
    "\n",
    "    #saving memory\n",
    "    del quality_dictionary\n",
    "\n",
    "    df['BsmtExposure'] = df['BsmtExposure'].map({'None': 0, 'No': 1, 'Mn': 2, 'Av': 3, 'Gd': 4}).astype(int)\n",
    "\n",
    "    bsmtdict = {'None': 0, 'Unf': 1, 'LwQ': 2, 'Rec': 3, 'BLQ': 4, 'ALQ': 5, 'GLQ': 6}\n",
    "    df['BsmtFinType1'] = df['BsmtFinType1'].map(bsmtdict).astype(int)\n",
    "    df['BsmtFinType2'] = df['BsmtFinType2'].map(bsmtdict).astype(int)\n",
    "\n",
    "    df['Functional'] = df['Functional'].map({'None': 0, 'Sal': 1, 'Sev': 2, 'Maj2': 3, 'Maj1': 4, \n",
    "                                             'Mod': 5, 'Min2': 6, 'Min1': 7, 'Typ': 8}).astype(int)\n",
    "\n",
    "    df['GarageFinish'] = df['GarageFinish'].map({'None': 0, 'Unf': 1, 'RFn': 2, 'Fin': 3}).astype(int)\n",
    "    df['Fence'] = df['Fence'].map({'None': 0, 'MnWw': 1, 'GdWo': 2, 'MnPrv': 3, 'GdPrv': 4}).astype(int)\n",
    "\n",
    "    del bsmtdict\n",
    "\n",
    "cleanup()"
   ]
  },
  {
   "cell_type": "markdown",
   "metadata": {},
   "source": [
    "Feature Engineering and Baseline"
   ]
  },
  {
   "cell_type": "code",
   "execution_count": null,
   "metadata": {
    "collapsed": true
   },
   "outputs": [],
   "source": []
  },
  {
   "cell_type": "markdown",
   "metadata": {},
   "source": [
    "Building the Variables and Model"
   ]
  },
  {
   "cell_type": "code",
   "execution_count": 3,
   "metadata": {
    "scrolled": true
   },
   "outputs": [
    {
     "data": {
      "text/plain": [
       "1Story    726\n",
       "2Story    445\n",
       "1.5Fin    154\n",
       "SLvl       65\n",
       "SFoyer     37\n",
       "1.5Unf     14\n",
       "2.5Unf     11\n",
       "2.5Fin      8\n",
       "Name: HouseStyle, dtype: int64"
      ]
     },
     "execution_count": 3,
     "metadata": {},
     "output_type": "execute_result"
    }
   ],
   "source": [
    "df['HouseStyle'].value_counts()"
   ]
  },
  {
   "cell_type": "code",
   "execution_count": 4,
   "metadata": {
    "collapsed": true
   },
   "outputs": [],
   "source": [
    "svm = SVC(kernel='linear', C=2, gamma=0.000001)"
   ]
  },
  {
   "cell_type": "code",
   "execution_count": 5,
   "metadata": {
    "collapsed": true
   },
   "outputs": [],
   "source": [
    "df2 = df.select_dtypes(include=['float64','int64'])"
   ]
  },
  {
   "cell_type": "code",
   "execution_count": 6,
   "metadata": {},
   "outputs": [
    {
     "data": {
      "text/plain": [
       "Index(['Id', 'MSSubClass', 'LotFrontage', 'LotArea', 'OverallQual',\n",
       "       'OverallCond', 'YearBuilt', 'YearRemodAdd', 'MasVnrArea', 'ExterQual',\n",
       "       'ExterCond', 'BsmtQual', 'BsmtCond', 'BsmtExposure', 'BsmtFinType1',\n",
       "       'BsmtFinSF1', 'BsmtFinType2', 'BsmtFinSF2', 'BsmtUnfSF', 'TotalBsmtSF',\n",
       "       'HeatingQC', '1stFlrSF', '2ndFlrSF', 'LowQualFinSF', 'GrLivArea',\n",
       "       'BsmtFullBath', 'BsmtHalfBath', 'FullBath', 'HalfBath', 'BedroomAbvGr',\n",
       "       'KitchenAbvGr', 'KitchenQual', 'TotRmsAbvGrd', 'Functional',\n",
       "       'Fireplaces', 'FireplaceQu', 'GarageFinish', 'GarageCars', 'GarageArea',\n",
       "       'GarageQual', 'GarageCond', 'WoodDeckSF', 'OpenPorchSF',\n",
       "       'EnclosedPorch', '3SsnPorch', 'ScreenPorch', 'PoolArea', 'PoolQC',\n",
       "       'Fence', 'MiscVal', 'MoSold', 'YrSold', 'SalePrice'],\n",
       "      dtype='object')"
      ]
     },
     "execution_count": 6,
     "metadata": {},
     "output_type": "execute_result"
    }
   ],
   "source": [
    "df2.columns"
   ]
  },
  {
   "cell_type": "code",
   "execution_count": 7,
   "metadata": {
    "collapsed": true
   },
   "outputs": [],
   "source": [
    "# Create x, where x the 'scores' column's values as floats\n",
    "x = df[df2.columns].values.astype(int64)\n",
    "\n",
    "# Create a minimum and maximum processor object\n",
    "min_max_scaler = MinMaxScaler()\n",
    "\n",
    "# Create an object to transform the data to fit minmax processor\n",
    "x_scaled = min_max_scaler.fit_transform(x)\n",
    "\n",
    "# Run the normalizer on the dataframe\n",
    "df_normalized = pd.DataFrame(x_scaled)"
   ]
  },
  {
   "cell_type": "code",
   "execution_count": 8,
   "metadata": {
    "collapsed": true
   },
   "outputs": [],
   "source": [
    "df_sex = pd.get_dummies(df['HouseStyle'])\n",
    "df_new = pd.concat([df2, df_sex], axis=1)\n",
    "df_new;"
   ]
  },
  {
   "cell_type": "code",
   "execution_count": 9,
   "metadata": {
    "collapsed": true
   },
   "outputs": [],
   "source": [
    "df_new.corr();"
   ]
  },
  {
   "cell_type": "code",
   "execution_count": null,
   "metadata": {
    "collapsed": true
   },
   "outputs": [],
   "source": [
    "corrmat = df_new.corr()\n",
    "indices = corrmat.loc['1Story'].copy()\n",
    "a = pd.DataFrame(indices.sort_values(ascending=False))\n",
    "plt.figure(figsize=(1,10))\n",
    "sns.heatmap(a, annot=True)"
   ]
  },
  {
   "cell_type": "code",
   "execution_count": null,
   "metadata": {
    "collapsed": true
   },
   "outputs": [],
   "source": [
    "corrmat = df_new.corr()\n",
    "indices = corrmat.loc['2Story'].copy()\n",
    "a = pd.DataFrame(indices.sort_values(ascending=False))\n",
    "plt.figure(figsize=(1,10))\n",
    "sns.heatmap(a, annot=True)"
   ]
  },
  {
   "cell_type": "code",
   "execution_count": 10,
   "metadata": {
    "collapsed": true
   },
   "outputs": [],
   "source": [
    "Y = df['HouseStyle']\n",
    "\n",
    "# X contains all other features, which we will use to predict target\n",
    "X = df_new[['2ndFlrSF', '1stFlrSF', 'HalfBath','LowQualFinSF','BsmtExposure']]#df2.drop(['HouseStyle'], axis=1)"
   ]
  },
  {
   "cell_type": "markdown",
   "metadata": {},
   "source": [
    "## Split1"
   ]
  },
  {
   "cell_type": "code",
   "execution_count": 15,
   "metadata": {
    "collapsed": true
   },
   "outputs": [],
   "source": [
    "X_train, X_test, y_train, y_test = train_test_split(X, Y, test_size=0.3, random_state=30)"
   ]
  },
  {
   "cell_type": "code",
   "execution_count": 16,
   "metadata": {
    "scrolled": false
   },
   "outputs": [
    {
     "data": {
      "text/plain": [
       "SVC(C=2, cache_size=200, class_weight=None, coef0=0.0,\n",
       "  decision_function_shape=None, degree=3, gamma=1e-06, kernel='linear',\n",
       "  max_iter=-1, probability=False, random_state=None, shrinking=True,\n",
       "  tol=0.001, verbose=False)"
      ]
     },
     "execution_count": 16,
     "metadata": {},
     "output_type": "execute_result"
    }
   ],
   "source": [
    "svm.fit(X_train, y_train)"
   ]
  },
  {
   "cell_type": "code",
   "execution_count": 17,
   "metadata": {
    "collapsed": true
   },
   "outputs": [],
   "source": [
    "predictions = svm.predict(X_test)"
   ]
  },
  {
   "cell_type": "code",
   "execution_count": 18,
   "metadata": {
    "scrolled": true
   },
   "outputs": [
    {
     "name": "stdout",
     "output_type": "stream",
     "text": [
      "[[ 32   0   1   0   0  13   0   0]\n",
      " [  0   0   4   0   0   0   0   0]\n",
      " [  0   0 215   0   0   0   0   0]\n",
      " [  0   0   0   0   0   0   0   0]\n",
      " [  0   0   0   0   0   3   0   0]\n",
      " [  7   0   0   2   0 138   0   0]\n",
      " [  0   0  10   0   0   0   0   0]\n",
      " [  0   0  11   0   0   2   0   0]]\n"
     ]
    }
   ],
   "source": [
    "print(confusion_matrix(y_test, predictions))"
   ]
  },
  {
   "cell_type": "code",
   "execution_count": 19,
   "metadata": {},
   "outputs": [
    {
     "name": "stdout",
     "output_type": "stream",
     "text": [
      "             precision    recall  f1-score   support\n",
      "\n",
      "     1.5Fin       0.82      0.70      0.75        46\n",
      "     1.5Unf       0.00      0.00      0.00         4\n",
      "     1Story       0.89      1.00      0.94       215\n",
      "     2.5Fin       0.00      0.00      0.00         0\n",
      "     2.5Unf       0.00      0.00      0.00         3\n",
      "     2Story       0.88      0.94      0.91       147\n",
      "     SFoyer       0.00      0.00      0.00        10\n",
      "       SLvl       0.00      0.00      0.00        13\n",
      "\n",
      "avg / total       0.82      0.88      0.85       438\n",
      "\n"
     ]
    }
   ],
   "source": [
    "print(classification_report(y_test, predictions))"
   ]
  },
  {
   "cell_type": "code",
   "execution_count": 20,
   "metadata": {},
   "outputs": [
    {
     "data": {
      "text/plain": [
       "0.87899543378995437"
      ]
     },
     "execution_count": 20,
     "metadata": {},
     "output_type": "execute_result"
    }
   ],
   "source": [
    "svm.score(X_test,y_test)"
   ]
  },
  {
   "cell_type": "code",
   "execution_count": 21,
   "metadata": {
    "collapsed": true
   },
   "outputs": [],
   "source": [
    "base = np.full((438,1),'1Story')\n",
    "base = accuracy_score(y_true = y_test, y_pred = base)"
   ]
  },
  {
   "cell_type": "code",
   "execution_count": 22,
   "metadata": {
    "collapsed": true
   },
   "outputs": [],
   "source": [
    "score = accuracy_score(y_true = y_test, y_pred = predictions)"
   ]
  },
  {
   "cell_type": "code",
   "execution_count": 23,
   "metadata": {},
   "outputs": [
    {
     "name": "stdout",
     "output_type": "stream",
     "text": [
      "0.490867579909\n",
      "0.87899543379\n",
      "0.790697674419\n"
     ]
    }
   ],
   "source": [
    "print(base)\n",
    "print(score)\n",
    "print((score/base)-1)"
   ]
  },
  {
   "cell_type": "markdown",
   "metadata": {},
   "source": [
    "## Split 2"
   ]
  },
  {
   "cell_type": "code",
   "execution_count": 24,
   "metadata": {
    "collapsed": true
   },
   "outputs": [],
   "source": [
    "X_train, X_test, y_train, y_test = train_test_split(X, Y, test_size=0.3, random_state=39)"
   ]
  },
  {
   "cell_type": "code",
   "execution_count": 25,
   "metadata": {
    "scrolled": false
   },
   "outputs": [
    {
     "data": {
      "text/plain": [
       "SVC(C=2, cache_size=200, class_weight=None, coef0=0.0,\n",
       "  decision_function_shape=None, degree=3, gamma=1e-06, kernel='linear',\n",
       "  max_iter=-1, probability=False, random_state=None, shrinking=True,\n",
       "  tol=0.001, verbose=False)"
      ]
     },
     "execution_count": 25,
     "metadata": {},
     "output_type": "execute_result"
    }
   ],
   "source": [
    "svm.fit(X_train, y_train)"
   ]
  },
  {
   "cell_type": "code",
   "execution_count": 26,
   "metadata": {
    "collapsed": true
   },
   "outputs": [],
   "source": [
    "predictions = svm.predict(X_test)"
   ]
  },
  {
   "cell_type": "code",
   "execution_count": 27,
   "metadata": {
    "scrolled": true
   },
   "outputs": [
    {
     "name": "stdout",
     "output_type": "stream",
     "text": [
      "[[ 34   0   1   0   0   9   0   0]\n",
      " [  0   0   4   0   0   0   0   0]\n",
      " [  0   0 221   0   0   0   0   0]\n",
      " [  0   0   0   2   0   0   0   0]\n",
      " [  1   0   0   0   0   1   0   0]\n",
      " [  9   0   0   1   0 128   0   0]\n",
      " [  0   0   8   0   0   0   0   0]\n",
      " [  1   0  13   0   0   5   0   0]]\n"
     ]
    }
   ],
   "source": [
    "print(confusion_matrix(y_test, predictions))"
   ]
  },
  {
   "cell_type": "code",
   "execution_count": 28,
   "metadata": {},
   "outputs": [
    {
     "name": "stdout",
     "output_type": "stream",
     "text": [
      "             precision    recall  f1-score   support\n",
      "\n",
      "     1.5Fin       0.76      0.77      0.76        44\n",
      "     1.5Unf       0.00      0.00      0.00         4\n",
      "     1Story       0.89      1.00      0.94       221\n",
      "     2.5Fin       0.67      1.00      0.80         2\n",
      "     2.5Unf       0.00      0.00      0.00         2\n",
      "     2Story       0.90      0.93      0.91       138\n",
      "     SFoyer       0.00      0.00      0.00         8\n",
      "       SLvl       0.00      0.00      0.00        19\n",
      "\n",
      "avg / total       0.81      0.88      0.84       438\n",
      "\n"
     ]
    }
   ],
   "source": [
    "print(classification_report(y_test, predictions))"
   ]
  },
  {
   "cell_type": "code",
   "execution_count": 29,
   "metadata": {},
   "outputs": [
    {
     "data": {
      "text/plain": [
       "0.87899543378995437"
      ]
     },
     "execution_count": 29,
     "metadata": {},
     "output_type": "execute_result"
    }
   ],
   "source": [
    "svm.score(X_test,y_test)"
   ]
  },
  {
   "cell_type": "code",
   "execution_count": 30,
   "metadata": {
    "collapsed": true
   },
   "outputs": [],
   "source": [
    "base = np.full((438,1),'1Story')\n",
    "base = accuracy_score(y_true = y_test, y_pred = base)"
   ]
  },
  {
   "cell_type": "code",
   "execution_count": 31,
   "metadata": {
    "collapsed": true
   },
   "outputs": [],
   "source": [
    "score = accuracy_score(y_true = y_test, y_pred = predictions)"
   ]
  },
  {
   "cell_type": "code",
   "execution_count": 32,
   "metadata": {},
   "outputs": [
    {
     "name": "stdout",
     "output_type": "stream",
     "text": [
      "0.504566210046\n",
      "0.87899543379\n",
      "0.742081447964\n"
     ]
    }
   ],
   "source": [
    "print(base)\n",
    "print(score)\n",
    "print((score/base)-1)"
   ]
  },
  {
   "cell_type": "markdown",
   "metadata": {
    "collapsed": true
   },
   "source": [
    "## Split 3"
   ]
  },
  {
   "cell_type": "code",
   "execution_count": 33,
   "metadata": {
    "collapsed": true
   },
   "outputs": [],
   "source": [
    "X_train, X_test, y_train, y_test = train_test_split(X, Y, test_size=0.3, random_state=6)"
   ]
  },
  {
   "cell_type": "code",
   "execution_count": 34,
   "metadata": {
    "scrolled": false
   },
   "outputs": [
    {
     "data": {
      "text/plain": [
       "SVC(C=2, cache_size=200, class_weight=None, coef0=0.0,\n",
       "  decision_function_shape=None, degree=3, gamma=1e-06, kernel='linear',\n",
       "  max_iter=-1, probability=False, random_state=None, shrinking=True,\n",
       "  tol=0.001, verbose=False)"
      ]
     },
     "execution_count": 34,
     "metadata": {},
     "output_type": "execute_result"
    }
   ],
   "source": [
    "svm.fit(X_train, y_train)"
   ]
  },
  {
   "cell_type": "code",
   "execution_count": 35,
   "metadata": {
    "collapsed": true
   },
   "outputs": [],
   "source": [
    "predictions = svm.predict(X_test)"
   ]
  },
  {
   "cell_type": "code",
   "execution_count": 36,
   "metadata": {
    "scrolled": true
   },
   "outputs": [
    {
     "name": "stdout",
     "output_type": "stream",
     "text": [
      "[[ 42   0   0   0   0   9   0   0]\n",
      " [  0   0   3   0   0   0   0   0]\n",
      " [  0   0 217   0   0   0   0   0]\n",
      " [  0   0   0   1   0   2   0   0]\n",
      " [  0   0   0   0   0   5   0   0]\n",
      " [  7   0   0   0   0 127   0   0]\n",
      " [  0   0   9   0   0   0   0   0]\n",
      " [  0   0  12   0   0   4   0   0]]\n"
     ]
    }
   ],
   "source": [
    "print(confusion_matrix(y_test, predictions))"
   ]
  },
  {
   "cell_type": "code",
   "execution_count": 37,
   "metadata": {},
   "outputs": [
    {
     "name": "stdout",
     "output_type": "stream",
     "text": [
      "             precision    recall  f1-score   support\n",
      "\n",
      "     1.5Fin       0.86      0.82      0.84        51\n",
      "     1.5Unf       0.00      0.00      0.00         3\n",
      "     1Story       0.90      1.00      0.95       217\n",
      "     2.5Fin       1.00      0.33      0.50         3\n",
      "     2.5Unf       0.00      0.00      0.00         5\n",
      "     2Story       0.86      0.95      0.90       134\n",
      "     SFoyer       0.00      0.00      0.00         9\n",
      "       SLvl       0.00      0.00      0.00        16\n",
      "\n",
      "avg / total       0.82      0.88      0.85       438\n",
      "\n"
     ]
    }
   ],
   "source": [
    "print(classification_report(y_test, predictions))"
   ]
  },
  {
   "cell_type": "code",
   "execution_count": 38,
   "metadata": {},
   "outputs": [
    {
     "data": {
      "text/plain": [
       "0.88356164383561642"
      ]
     },
     "execution_count": 38,
     "metadata": {},
     "output_type": "execute_result"
    }
   ],
   "source": [
    "svm.score(X_test,y_test)"
   ]
  },
  {
   "cell_type": "code",
   "execution_count": 39,
   "metadata": {
    "collapsed": true
   },
   "outputs": [],
   "source": [
    "base = np.full((438,1),'1Story')\n",
    "base = accuracy_score(y_true = y_test, y_pred = base)"
   ]
  },
  {
   "cell_type": "code",
   "execution_count": 40,
   "metadata": {
    "collapsed": true
   },
   "outputs": [],
   "source": [
    "score = accuracy_score(y_true = y_test, y_pred = predictions)"
   ]
  },
  {
   "cell_type": "code",
   "execution_count": 41,
   "metadata": {},
   "outputs": [
    {
     "name": "stdout",
     "output_type": "stream",
     "text": [
      "0.495433789954\n",
      "0.883561643836\n",
      "0.783410138249\n"
     ]
    }
   ],
   "source": [
    "print(base)\n",
    "print(score)\n",
    "print((score/base)-1)"
   ]
  },
  {
   "cell_type": "markdown",
   "metadata": {
    "collapsed": true
   },
   "source": [
    "## Split 4"
   ]
  },
  {
   "cell_type": "code",
   "execution_count": 42,
   "metadata": {
    "collapsed": true
   },
   "outputs": [],
   "source": [
    "X_train, X_test, y_train, y_test = train_test_split(X, Y, test_size=0.3, random_state=17)"
   ]
  },
  {
   "cell_type": "code",
   "execution_count": 43,
   "metadata": {
    "scrolled": false
   },
   "outputs": [
    {
     "data": {
      "text/plain": [
       "SVC(C=2, cache_size=200, class_weight=None, coef0=0.0,\n",
       "  decision_function_shape=None, degree=3, gamma=1e-06, kernel='linear',\n",
       "  max_iter=-1, probability=False, random_state=None, shrinking=True,\n",
       "  tol=0.001, verbose=False)"
      ]
     },
     "execution_count": 43,
     "metadata": {},
     "output_type": "execute_result"
    }
   ],
   "source": [
    "svm.fit(X_train, y_train)"
   ]
  },
  {
   "cell_type": "code",
   "execution_count": 44,
   "metadata": {
    "collapsed": true
   },
   "outputs": [],
   "source": [
    "predictions = svm.predict(X_test)"
   ]
  },
  {
   "cell_type": "code",
   "execution_count": 45,
   "metadata": {
    "scrolled": true
   },
   "outputs": [
    {
     "name": "stdout",
     "output_type": "stream",
     "text": [
      "[[ 27   0   1   1   0  11   0   0]\n",
      " [  0   0   5   0   0   0   0   0]\n",
      " [  0   0 230   0   0   0   0   0]\n",
      " [  0   0   0   3   0   0   0   0]\n",
      " [  1   0   0   0   0   0   0   0]\n",
      " [  8   0   0   0   0 127   0   0]\n",
      " [  0   0  10   0   0   0   0   0]\n",
      " [  1   0  10   0   0   3   0   0]]\n"
     ]
    }
   ],
   "source": [
    "print(confusion_matrix(y_test, predictions))"
   ]
  },
  {
   "cell_type": "code",
   "execution_count": 46,
   "metadata": {},
   "outputs": [
    {
     "name": "stdout",
     "output_type": "stream",
     "text": [
      "             precision    recall  f1-score   support\n",
      "\n",
      "     1.5Fin       0.73      0.68      0.70        40\n",
      "     1.5Unf       0.00      0.00      0.00         5\n",
      "     1Story       0.90      1.00      0.95       230\n",
      "     2.5Fin       0.75      1.00      0.86         3\n",
      "     2.5Unf       0.00      0.00      0.00         1\n",
      "     2Story       0.90      0.94      0.92       135\n",
      "     SFoyer       0.00      0.00      0.00        10\n",
      "       SLvl       0.00      0.00      0.00        14\n",
      "\n",
      "avg / total       0.82      0.88      0.85       438\n",
      "\n"
     ]
    }
   ],
   "source": [
    "print(classification_report(y_test, predictions))"
   ]
  },
  {
   "cell_type": "code",
   "execution_count": 47,
   "metadata": {},
   "outputs": [
    {
     "data": {
      "text/plain": [
       "0.88356164383561642"
      ]
     },
     "execution_count": 47,
     "metadata": {},
     "output_type": "execute_result"
    }
   ],
   "source": [
    "svm.score(X_test,y_test)"
   ]
  },
  {
   "cell_type": "code",
   "execution_count": 48,
   "metadata": {
    "collapsed": true
   },
   "outputs": [],
   "source": [
    "base = np.full((438,1),'1Story')\n",
    "base = accuracy_score(y_true = y_test, y_pred = base)"
   ]
  },
  {
   "cell_type": "code",
   "execution_count": 49,
   "metadata": {
    "collapsed": true
   },
   "outputs": [],
   "source": [
    "score = accuracy_score(y_true = y_test, y_pred = predictions)"
   ]
  },
  {
   "cell_type": "code",
   "execution_count": 50,
   "metadata": {},
   "outputs": [
    {
     "name": "stdout",
     "output_type": "stream",
     "text": [
      "0.525114155251\n",
      "0.883561643836\n",
      "0.682608695652\n"
     ]
    }
   ],
   "source": [
    "print(base)\n",
    "print(score)\n",
    "print((score/base)-1)"
   ]
  },
  {
   "cell_type": "markdown",
   "metadata": {
    "collapsed": true
   },
   "source": [
    "## Split 5"
   ]
  },
  {
   "cell_type": "code",
   "execution_count": 51,
   "metadata": {
    "collapsed": true
   },
   "outputs": [],
   "source": [
    "X_train, X_test, y_train, y_test = train_test_split(X, Y, test_size=0.3, random_state=32)"
   ]
  },
  {
   "cell_type": "code",
   "execution_count": 52,
   "metadata": {
    "scrolled": false
   },
   "outputs": [
    {
     "data": {
      "text/plain": [
       "SVC(C=2, cache_size=200, class_weight=None, coef0=0.0,\n",
       "  decision_function_shape=None, degree=3, gamma=1e-06, kernel='linear',\n",
       "  max_iter=-1, probability=False, random_state=None, shrinking=True,\n",
       "  tol=0.001, verbose=False)"
      ]
     },
     "execution_count": 52,
     "metadata": {},
     "output_type": "execute_result"
    }
   ],
   "source": [
    "svm.fit(X_train, y_train)"
   ]
  },
  {
   "cell_type": "code",
   "execution_count": 53,
   "metadata": {
    "collapsed": true
   },
   "outputs": [],
   "source": [
    "predictions = svm.predict(X_test)"
   ]
  },
  {
   "cell_type": "code",
   "execution_count": 54,
   "metadata": {
    "scrolled": true
   },
   "outputs": [
    {
     "name": "stdout",
     "output_type": "stream",
     "text": [
      "[[ 26   0   0   0   0  21   0   0]\n",
      " [  0   0   2   0   0   0   0   0]\n",
      " [  0   0 224   0   0   0   0   0]\n",
      " [  0   0   0   1   0   0   0   0]\n",
      " [  0   0   0   0   0   2   0   0]\n",
      " [  4   0   0   0   0 137   0   0]\n",
      " [  0   0   8   0   0   0   0   0]\n",
      " [  1   0   9   0   0   3   0   0]]\n"
     ]
    }
   ],
   "source": [
    "print(confusion_matrix(y_test, predictions))"
   ]
  },
  {
   "cell_type": "code",
   "execution_count": 55,
   "metadata": {},
   "outputs": [
    {
     "name": "stdout",
     "output_type": "stream",
     "text": [
      "             precision    recall  f1-score   support\n",
      "\n",
      "     1.5Fin       0.84      0.55      0.67        47\n",
      "     1.5Unf       0.00      0.00      0.00         2\n",
      "     1Story       0.92      1.00      0.96       224\n",
      "     2.5Fin       1.00      1.00      1.00         1\n",
      "     2.5Unf       0.00      0.00      0.00         2\n",
      "     2Story       0.84      0.97      0.90       141\n",
      "     SFoyer       0.00      0.00      0.00         8\n",
      "       SLvl       0.00      0.00      0.00        13\n",
      "\n",
      "avg / total       0.83      0.89      0.85       438\n",
      "\n"
     ]
    }
   ],
   "source": [
    "print(classification_report(y_test, predictions))"
   ]
  },
  {
   "cell_type": "code",
   "execution_count": 56,
   "metadata": {},
   "outputs": [
    {
     "data": {
      "text/plain": [
       "0.88584474885844744"
      ]
     },
     "execution_count": 56,
     "metadata": {},
     "output_type": "execute_result"
    }
   ],
   "source": [
    "svm.score(X_test,y_test)"
   ]
  },
  {
   "cell_type": "code",
   "execution_count": 57,
   "metadata": {
    "collapsed": true
   },
   "outputs": [],
   "source": [
    "base = np.full((438,1),'1Story')\n",
    "base = accuracy_score(y_true = y_test, y_pred = base)"
   ]
  },
  {
   "cell_type": "code",
   "execution_count": 58,
   "metadata": {
    "collapsed": true
   },
   "outputs": [],
   "source": [
    "score = accuracy_score(y_true = y_test, y_pred = predictions)"
   ]
  },
  {
   "cell_type": "code",
   "execution_count": 59,
   "metadata": {},
   "outputs": [
    {
     "name": "stdout",
     "output_type": "stream",
     "text": [
      "0.511415525114\n",
      "0.885844748858\n",
      "0.732142857143\n"
     ]
    }
   ],
   "source": [
    "print(base)\n",
    "print(score)\n",
    "print((score/base)-1)"
   ]
  },
  {
   "cell_type": "markdown",
   "metadata": {},
   "source": [
    "# Paragraphs\n",
    "\n",
    "## Logistic Regression\n",
    "For our logistic regression, we first filled in all our categorical values in the dataset with numerical equivalents.  Then we created a copy of the original data set, and added a new feature called QualAbove5.  This became a feature that took all values in OverallQual that were greater than 5 and assigned a value of 1, and took all values less than or equal to 5 and assigned a value of 0.  Next, a correlation heatmap was created between QualAbove5 and the other features, and the correlations above 0.45 were used as parameters for the test. This resulted in 8 features, as well as QualAbove5, which was removed due to redundancy.  We then created a split of 0.75 and 0.25, and ran the prediction to find the accuracy score based on a random seed, as well as the baseline.  The accuracy score minus the baseline divided by the baseline shows what percentage more accurate we were over the baseline.\n",
    "\n",
    "\n",
    "## DecisionTrees\n",
    "For decision tree, we first created a count of how many of each neighborhood appears in the dataset.  Then the top correlations between the neighborhoods and other features in the float64 datatype were charted. The counts for amount of neighborhood values for each MasVnrArea value was graphed in a chart, as it was the highest correlation.  Finally, the decision trees were created with the Y set being neighborhoods, and the X set being all values with the float64 datatype, with a split of 0.7 and 0.3.\n",
    "\n",
    "\n",
    "## SVM\n",
    "For the SVM test, the count of each HouseStyle in the data set is printed.  Then, a copy of the dataset is created with only the features with int64 and float64 values. Dummy variables were generated in a new dataframe to determine the correlation per housestyle with different features. Then a correlation map was generated using the dataframe which allowed us to choose the features ('2ndFlrSF', '1stFlrSF', 'HalfBath','LowQualFinSF','BsmtExposure') that best correlated under a normalization. The test split was generated with 0.3 in the test set and 0.7 in the training set with a C parameter of 2 and gamma value of 0.000001. "
   ]
  },
  {
   "cell_type": "markdown",
   "metadata": {},
   "source": [
    "## Tuning"
   ]
  },
  {
   "cell_type": "code",
   "execution_count": null,
   "metadata": {
    "collapsed": true
   },
   "outputs": [],
   "source": [
    "def float_range(start,stop,step):\n",
    "    x = start\n",
    "    my_list = []\n",
    "    if step > 0:\n",
    "        while x < stop:\n",
    "            my_list.append(x)\n",
    "            x += step\n",
    "    else: # should really be if step < 0 with an extra check for step == 0 \n",
    "        while x > stop:\n",
    "            my_list.append(x)\n",
    "            x += step\n",
    "    return my_list "
   ]
  },
  {
   "cell_type": "code",
   "execution_count": null,
   "metadata": {
    "collapsed": true
   },
   "outputs": [],
   "source": []
  }
 ],
 "metadata": {
  "kernelspec": {
   "display_name": "Python 3",
   "language": "python",
   "name": "python3"
  },
  "language_info": {
   "codemirror_mode": {
    "name": "ipython",
    "version": 3
   },
   "file_extension": ".py",
   "mimetype": "text/x-python",
   "name": "python",
   "nbconvert_exporter": "python",
   "pygments_lexer": "ipython3",
   "version": "3.6.1"
  }
 },
 "nbformat": 4,
 "nbformat_minor": 2
}
