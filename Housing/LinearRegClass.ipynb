{
 "cells": [
  {
   "cell_type": "markdown",
   "metadata": {},
   "source": [
    "<p style=\"font-family: Times New Roman; font-size:3.75em;color:black; font-style:bold\"><br>\n",
    "Project B, Linear Regression and Classification </p><br>\n",
    "\n",
    "By: Peter Oh (jo299), Magd Bayoumi (mb2363), Eric Ma (exm4)"
   ]
  },
  {
   "cell_type": "markdown",
   "metadata": {},
   "source": [
    "# Importing necessary modules"
   ]
  },
  {
   "cell_type": "code",
   "execution_count": 1,
   "metadata": {
    "collapsed": true
   },
   "outputs": [],
   "source": [
    "import numpy as np \n",
    "import pandas as pd\n",
    "import seaborn as sns\n",
    "from mpl_toolkits.mplot3d import Axes3D\n",
    "import matplotlib.pyplot as plt\n",
    "from pylab import *\n",
    "from sklearn.model_selection import train_test_split\n",
    "from sklearn.neighbors import KNeighborsClassifier\n",
    "import itertools\n",
    "from sklearn.metrics import confusion_matrix\n",
    "from sklearn.metrics import recall_score, precision_score\n",
    "from sklearn.metrics import precision_recall_fscore_support\n",
    "from sklearn.linear_model import LinearRegression\n",
    "from sklearn.metrics import mean_squared_error\n",
    "import warnings\n",
    "warnings.filterwarnings('ignore')\n",
    "%matplotlib inline\n",
    "\n",
    "path_to_train_data = \"./train.csv\""
   ]
  },
  {
   "cell_type": "code",
   "execution_count": 2,
   "metadata": {},
   "outputs": [
    {
     "name": "stdout",
     "output_type": "stream",
     "text": [
      "Number of houses: 1460\n",
      "Number of features: 79\n"
     ]
    }
   ],
   "source": [
    "df = pd.read_csv(path_to_train_data)\n",
    "\n",
    "print('Number of houses:', format(df.shape[0]))\n",
    "print ('Number of features:', format(df.shape[1]-2))\n"
   ]
  },
  {
   "cell_type": "markdown",
   "metadata": {},
   "source": [
    "# Filling in NA Values"
   ]
  },
  {
   "cell_type": "code",
   "execution_count": 3,
   "metadata": {
    "collapsed": true
   },
   "outputs": [],
   "source": [
    "df.LotFrontage.fillna(df.LotFrontage.median(), inplace=True)\n",
    "df.Alley.fillna(\"None\",inplace=True)"
   ]
  },
  {
   "cell_type": "code",
   "execution_count": 4,
   "metadata": {
    "collapsed": true
   },
   "outputs": [],
   "source": [
    "df.MasVnrType.fillna(\"None\",inplace=True)\n",
    "df.MasVnrArea.fillna(0.0, inplace=True)"
   ]
  },
  {
   "cell_type": "code",
   "execution_count": 5,
   "metadata": {
    "collapsed": true
   },
   "outputs": [],
   "source": [
    "df.BsmtQual.fillna(\"None\",inplace=True)\n",
    "df.BsmtCond.fillna(\"None\",inplace=True)\n",
    "df.BsmtExposure.fillna(\"None\",inplace=True)"
   ]
  },
  {
   "cell_type": "code",
   "execution_count": 6,
   "metadata": {
    "collapsed": true
   },
   "outputs": [],
   "source": [
    "df.BsmtFinType1.fillna(\"None\",inplace=True)\n",
    "df.BsmtFinType2.fillna(\"None\",inplace=True)"
   ]
  },
  {
   "cell_type": "code",
   "execution_count": 7,
   "metadata": {
    "collapsed": true
   },
   "outputs": [],
   "source": [
    "df.Electrical.fillna(\"SBrkr\",inplace=True)"
   ]
  },
  {
   "cell_type": "code",
   "execution_count": 8,
   "metadata": {
    "collapsed": true
   },
   "outputs": [],
   "source": [
    "df.FireplaceQu.fillna(\"None\",inplace=True)"
   ]
  },
  {
   "cell_type": "code",
   "execution_count": 9,
   "metadata": {
    "collapsed": true
   },
   "outputs": [],
   "source": [
    "df.GarageType.fillna(\"None\",inplace=True)\n",
    "df.GarageYrBlt.fillna(\"None\",inplace=True)\n",
    "df.GarageFinish.fillna(\"None\",inplace=True)\n",
    "df.GarageQual.fillna(\"None\",inplace=True)\n",
    "df.GarageCond.fillna(\"None\",inplace=True)"
   ]
  },
  {
   "cell_type": "code",
   "execution_count": 10,
   "metadata": {
    "collapsed": true
   },
   "outputs": [],
   "source": [
    "df.PoolQC.fillna(\"None\",inplace=True)"
   ]
  },
  {
   "cell_type": "code",
   "execution_count": 11,
   "metadata": {
    "collapsed": true
   },
   "outputs": [],
   "source": [
    "df.Fence.fillna(\"None\",inplace=True)"
   ]
  },
  {
   "cell_type": "code",
   "execution_count": 12,
   "metadata": {
    "collapsed": true
   },
   "outputs": [],
   "source": [
    "df.MiscFeature.fillna(\"None\",inplace=True)"
   ]
  },
  {
   "cell_type": "code",
   "execution_count": 13,
   "metadata": {},
   "outputs": [
    {
     "name": "stdout",
     "output_type": "stream",
     "text": [
      "Index([], dtype='object')\n"
     ]
    },
    {
     "data": {
      "text/plain": [
       "Series([], dtype: float64)"
      ]
     },
     "execution_count": 13,
     "metadata": {},
     "output_type": "execute_result"
    }
   ],
   "source": [
    "null_cols = df.columns[df.isnull().any()]\n",
    "print(null_cols)\n",
    "df[null_cols].isnull().sum()"
   ]
  },
  {
   "cell_type": "markdown",
   "metadata": {},
   "source": [
    "# Mapping Numerical Values to Categorical Values"
   ]
  },
  {
   "cell_type": "code",
   "execution_count": 14,
   "metadata": {},
   "outputs": [
    {
     "name": "stdout",
     "output_type": "stream",
     "text": [
      "ExterQual:    ['Gd' 'TA' 'Ex' 'Fa']\n",
      "ExterCond:    ['TA' 'Gd' 'Fa' 'Po' 'Ex']\n",
      "BsmtQual:     ['Gd' 'TA' 'Ex' 'None' 'Fa']\n",
      "BsmtCond:     ['TA' 'Gd' 'None' 'Fa' 'Po']\n",
      "HeatingQC:    ['Ex' 'Gd' 'TA' 'Fa' 'Po']\n",
      "KitchenQual:  ['Gd' 'TA' 'Ex' 'Fa']\n",
      "FireplaceQu:  ['None' 'TA' 'Gd' 'Fa' 'Ex' 'Po']\n",
      "GarageQual:   ['TA' 'Fa' 'Gd' 'None' 'Ex' 'Po']\n",
      "GarageCond:   ['TA' 'Fa' 'None' 'Gd' 'Po' 'Ex']\n",
      "PoolQC:       ['None' 'Ex' 'Fa' 'Gd']\n",
      "\n",
      "\n",
      "BsmtExposure: ['No' 'Gd' 'Mn' 'Av' 'None']\n",
      "BsmtFinType1: ['GLQ' 'ALQ' 'Unf' 'Rec' 'BLQ' 'None' 'LwQ']\n",
      "BsmtFinType2: ['Unf' 'BLQ' 'None' 'ALQ' 'Rec' 'LwQ' 'GLQ']\n",
      "Functional:   ['Typ' 'Min1' 'Maj1' 'Min2' 'Mod' 'Maj2' 'Sev']\n",
      "GarageFinish: ['RFn' 'Unf' 'Fin' 'None']\n",
      "Fence:        ['None' 'MnPrv' 'GdWo' 'GdPrv' 'MnWw']\n"
     ]
    }
   ],
   "source": [
    "print ('ExterQual:    {0}'.format(df['ExterQual'].unique()))\n",
    "print ('ExterCond:    {0}'.format(df['ExterCond'].unique()))\n",
    "print ('BsmtQual:     {0}'.format(df['BsmtQual'].unique()))\n",
    "print ('BsmtCond:     {0}'.format(df['BsmtCond'].unique()))\n",
    "print ('HeatingQC:    {0}'.format(df['HeatingQC'].unique()))\n",
    "print ('KitchenQual:  {0}'.format(df['KitchenQual'].unique()))\n",
    "print ('FireplaceQu:  {0}'.format(df['FireplaceQu'].unique()))\n",
    "print ('GarageQual:   {0}'.format(df['GarageQual'].unique()))\n",
    "print ('GarageCond:   {0}'.format(df['GarageCond'].unique()))\n",
    "print ('PoolQC:       {0}'.format(df['PoolQC'].unique()))\n",
    "print ('\\n')\n",
    "print ('BsmtExposure: {0}'.format(df['BsmtExposure'].unique()))\n",
    "print ('BsmtFinType1: {0}'.format(df['BsmtFinType1'].unique()))\n",
    "print ('BsmtFinType2: {0}'.format(df['BsmtFinType2'].unique()))\n",
    "print ('Functional:   {0}'.format(df['Functional'].unique()))\n",
    "print ('GarageFinish: {0}'.format(df['GarageFinish'].unique()))\n",
    "print ('Fence:        {0}'.format(df['Fence'].unique()))"
   ]
  },
  {
   "cell_type": "code",
   "execution_count": 15,
   "metadata": {
    "collapsed": true
   },
   "outputs": [],
   "source": [
    "quality_dictionary = {'None': 0, 'Po': 1, 'Fa': 2, 'TA': 3, 'Gd': 4, 'Ex': 5}\n",
    "df['ExterQual']   = df['ExterQual'].map(quality_dictionary).astype(int)\n",
    "df['ExterCond']   = df['ExterCond'].map(quality_dictionary).astype(int)\n",
    "df['BsmtQual']    = df['BsmtQual'].map(quality_dictionary).astype(int)\n",
    "df['BsmtCond']    = df['BsmtCond'].map(quality_dictionary).astype(int)\n",
    "df['HeatingQC']   = df['HeatingQC'].map(quality_dictionary).astype(int)\n",
    "df['KitchenQual'] = df['KitchenQual'].map(quality_dictionary).astype(int)\n",
    "df['FireplaceQu'] = df['FireplaceQu'].map(quality_dictionary).astype(int)\n",
    "df['GarageQual']  = df['GarageQual'].map(quality_dictionary).astype(int)\n",
    "df['GarageCond']  = df['GarageCond'].map(quality_dictionary).astype(int)\n",
    "df['PoolQC']      = df['PoolQC'].map(quality_dictionary).astype(int)\n",
    "\n",
    "#saving memory\n",
    "del quality_dictionary"
   ]
  },
  {
   "cell_type": "code",
   "execution_count": 16,
   "metadata": {
    "collapsed": true
   },
   "outputs": [],
   "source": [
    "df['BsmtExposure'] = df['BsmtExposure'].map({'None': 0, 'No': 1, 'Mn': 2, 'Av': 3, 'Gd': 4}).astype(int)\n",
    "\n",
    "bsmtdict = {'None': 0, 'Unf': 1, 'LwQ': 2, 'Rec': 3, 'BLQ': 4, 'ALQ': 5, 'GLQ': 6}\n",
    "df['BsmtFinType1'] = df['BsmtFinType1'].map(bsmtdict).astype(int)\n",
    "df['BsmtFinType2'] = df['BsmtFinType2'].map(bsmtdict).astype(int)\n",
    "\n",
    "df['Functional'] = df['Functional'].map({'None': 0, 'Sal': 1, 'Sev': 2, 'Maj2': 3, 'Maj1': 4, \n",
    "                                         'Mod': 5, 'Min2': 6, 'Min1': 7, 'Typ': 8}).astype(int)\n",
    "\n",
    "df['GarageFinish'] = df['GarageFinish'].map({'None': 0, 'Unf': 1, 'RFn': 2, 'Fin': 3}).astype(int)\n",
    "df['Fence'] = df['Fence'].map({'None': 0, 'MnWw': 1, 'GdWo': 2, 'MnPrv': 3, 'GdPrv': 4}).astype(int)\n",
    "\n",
    "del bsmtdict"
   ]
  },
  {
   "cell_type": "markdown",
   "metadata": {},
   "source": [
    "# Understanding Correlation between Features"
   ]
  },
  {
   "cell_type": "code",
   "execution_count": 17,
   "metadata": {},
   "outputs": [
    {
     "name": "stdout",
     "output_type": "stream",
     "text": [
      "Top Absolute Correlations\n",
      "GarageQual    GarageCond      0.998768\n",
      "PoolArea      PoolQC          0.994259\n",
      "GarageCars    GarageArea      0.988244\n",
      "ExterQual     KitchenQual     0.970237\n",
      "Fireplaces    FireplaceQu     0.967941\n",
      "OverallQual   SalePrice       0.967327\n",
      "              ExterQual       0.964200\n",
      "BsmtFinType2  BsmtFinSF2      0.956578\n",
      "GrLivArea     TotRmsAbvGrd    0.947504\n",
      "OverallQual   KitchenQual     0.947185\n",
      "TotalBsmtSF   1stFlrSF        0.939843\n",
      "ExterQual     SalePrice       0.924657\n",
      "YearRemodAdd  KitchenQual     0.924206\n",
      "KitchenQual   SalePrice       0.915048\n",
      "GarageFinish  GarageCars      0.913889\n",
      "YearRemodAdd  ExterQual       0.912896\n",
      "YearBuilt     GarageFinish    0.909283\n",
      "YearRemodAdd  HeatingQC       0.908748\n",
      "YearBuilt     ExterQual       0.906710\n",
      "BsmtFinType1  BsmtFinSF1      0.904124\n",
      "dtype: float64\n"
     ]
    },
    {
     "data": {
      "text/html": [
       "<div>\n",
       "<style>\n",
       "    .dataframe thead tr:only-child th {\n",
       "        text-align: right;\n",
       "    }\n",
       "\n",
       "    .dataframe thead th {\n",
       "        text-align: left;\n",
       "    }\n",
       "\n",
       "    .dataframe tbody tr th {\n",
       "        vertical-align: top;\n",
       "    }\n",
       "</style>\n",
       "<table border=\"1\" class=\"dataframe\">\n",
       "  <thead>\n",
       "    <tr style=\"text-align: right;\">\n",
       "      <th></th>\n",
       "      <th>Id</th>\n",
       "      <th>MSSubClass</th>\n",
       "      <th>LotFrontage</th>\n",
       "      <th>LotArea</th>\n",
       "      <th>OverallQual</th>\n",
       "      <th>OverallCond</th>\n",
       "      <th>YearBuilt</th>\n",
       "      <th>YearRemodAdd</th>\n",
       "      <th>MasVnrArea</th>\n",
       "      <th>ExterQual</th>\n",
       "      <th>...</th>\n",
       "      <th>EnclosedPorch</th>\n",
       "      <th>3SsnPorch</th>\n",
       "      <th>ScreenPorch</th>\n",
       "      <th>PoolArea</th>\n",
       "      <th>PoolQC</th>\n",
       "      <th>Fence</th>\n",
       "      <th>MiscVal</th>\n",
       "      <th>MoSold</th>\n",
       "      <th>YrSold</th>\n",
       "      <th>SalePrice</th>\n",
       "    </tr>\n",
       "  </thead>\n",
       "  <tbody>\n",
       "    <tr>\n",
       "      <th>Id</th>\n",
       "      <td>1.000000</td>\n",
       "      <td>0.011156</td>\n",
       "      <td>-0.009921</td>\n",
       "      <td>-0.033226</td>\n",
       "      <td>-0.028365</td>\n",
       "      <td>0.012609</td>\n",
       "      <td>-0.012713</td>\n",
       "      <td>-0.021998</td>\n",
       "      <td>-0.051071</td>\n",
       "      <td>0.005039</td>\n",
       "      <td>...</td>\n",
       "      <td>0.002889</td>\n",
       "      <td>-0.046635</td>\n",
       "      <td>0.001330</td>\n",
       "      <td>0.057044</td>\n",
       "      <td>0.047655</td>\n",
       "      <td>-0.006632</td>\n",
       "      <td>-0.006242</td>\n",
       "      <td>0.021172</td>\n",
       "      <td>0.000712</td>\n",
       "      <td>-0.021917</td>\n",
       "    </tr>\n",
       "    <tr>\n",
       "      <th>MSSubClass</th>\n",
       "      <td>0.011156</td>\n",
       "      <td>1.000000</td>\n",
       "      <td>-0.356718</td>\n",
       "      <td>-0.139781</td>\n",
       "      <td>0.032628</td>\n",
       "      <td>-0.059316</td>\n",
       "      <td>0.027850</td>\n",
       "      <td>0.040581</td>\n",
       "      <td>0.023573</td>\n",
       "      <td>0.016178</td>\n",
       "      <td>...</td>\n",
       "      <td>-0.012037</td>\n",
       "      <td>-0.043825</td>\n",
       "      <td>-0.026030</td>\n",
       "      <td>0.008283</td>\n",
       "      <td>0.014198</td>\n",
       "      <td>-0.084980</td>\n",
       "      <td>-0.007683</td>\n",
       "      <td>-0.013585</td>\n",
       "      <td>-0.021407</td>\n",
       "      <td>-0.084284</td>\n",
       "    </tr>\n",
       "    <tr>\n",
       "      <th>LotFrontage</th>\n",
       "      <td>-0.009921</td>\n",
       "      <td>-0.356718</td>\n",
       "      <td>1.000000</td>\n",
       "      <td>0.304522</td>\n",
       "      <td>0.234812</td>\n",
       "      <td>-0.053281</td>\n",
       "      <td>0.116685</td>\n",
       "      <td>0.083348</td>\n",
       "      <td>0.178469</td>\n",
       "      <td>0.165567</td>\n",
       "      <td>...</td>\n",
       "      <td>0.010287</td>\n",
       "      <td>0.061945</td>\n",
       "      <td>0.037655</td>\n",
       "      <td>0.180819</td>\n",
       "      <td>0.231562</td>\n",
       "      <td>0.030550</td>\n",
       "      <td>-0.000255</td>\n",
       "      <td>0.010451</td>\n",
       "      <td>0.006380</td>\n",
       "      <td>0.334771</td>\n",
       "    </tr>\n",
       "    <tr>\n",
       "      <th>LotArea</th>\n",
       "      <td>-0.033226</td>\n",
       "      <td>-0.139781</td>\n",
       "      <td>0.304522</td>\n",
       "      <td>1.000000</td>\n",
       "      <td>0.105806</td>\n",
       "      <td>-0.005636</td>\n",
       "      <td>0.014228</td>\n",
       "      <td>0.013788</td>\n",
       "      <td>0.103321</td>\n",
       "      <td>0.055570</td>\n",
       "      <td>...</td>\n",
       "      <td>-0.018340</td>\n",
       "      <td>0.020423</td>\n",
       "      <td>0.043160</td>\n",
       "      <td>0.077672</td>\n",
       "      <td>0.091727</td>\n",
       "      <td>-0.041423</td>\n",
       "      <td>0.038068</td>\n",
       "      <td>0.001205</td>\n",
       "      <td>-0.014261</td>\n",
       "      <td>0.263843</td>\n",
       "    </tr>\n",
       "    <tr>\n",
       "      <th>OverallQual</th>\n",
       "      <td>-0.028365</td>\n",
       "      <td>0.032628</td>\n",
       "      <td>0.234812</td>\n",
       "      <td>0.105806</td>\n",
       "      <td>1.000000</td>\n",
       "      <td>-0.091932</td>\n",
       "      <td>0.572323</td>\n",
       "      <td>0.550684</td>\n",
       "      <td>0.407252</td>\n",
       "      <td>0.726278</td>\n",
       "      <td>...</td>\n",
       "      <td>-0.113937</td>\n",
       "      <td>0.030371</td>\n",
       "      <td>0.064886</td>\n",
       "      <td>0.065166</td>\n",
       "      <td>0.083690</td>\n",
       "      <td>-0.152253</td>\n",
       "      <td>-0.031406</td>\n",
       "      <td>0.070815</td>\n",
       "      <td>-0.027347</td>\n",
       "      <td>0.790982</td>\n",
       "    </tr>\n",
       "    <tr>\n",
       "      <th>OverallCond</th>\n",
       "      <td>0.012609</td>\n",
       "      <td>-0.059316</td>\n",
       "      <td>-0.053281</td>\n",
       "      <td>-0.005636</td>\n",
       "      <td>-0.091932</td>\n",
       "      <td>1.000000</td>\n",
       "      <td>-0.375983</td>\n",
       "      <td>0.073741</td>\n",
       "      <td>-0.125694</td>\n",
       "      <td>-0.138942</td>\n",
       "      <td>...</td>\n",
       "      <td>0.070356</td>\n",
       "      <td>0.025504</td>\n",
       "      <td>0.054811</td>\n",
       "      <td>-0.001985</td>\n",
       "      <td>-0.013646</td>\n",
       "      <td>0.169653</td>\n",
       "      <td>0.068777</td>\n",
       "      <td>-0.003511</td>\n",
       "      <td>0.043950</td>\n",
       "      <td>-0.077856</td>\n",
       "    </tr>\n",
       "    <tr>\n",
       "      <th>YearBuilt</th>\n",
       "      <td>-0.012713</td>\n",
       "      <td>0.027850</td>\n",
       "      <td>0.116685</td>\n",
       "      <td>0.014228</td>\n",
       "      <td>0.572323</td>\n",
       "      <td>-0.375983</td>\n",
       "      <td>1.000000</td>\n",
       "      <td>0.592855</td>\n",
       "      <td>0.311600</td>\n",
       "      <td>0.598160</td>\n",
       "      <td>...</td>\n",
       "      <td>-0.387268</td>\n",
       "      <td>0.031355</td>\n",
       "      <td>-0.050364</td>\n",
       "      <td>0.004950</td>\n",
       "      <td>0.002113</td>\n",
       "      <td>-0.212545</td>\n",
       "      <td>-0.034383</td>\n",
       "      <td>0.012398</td>\n",
       "      <td>-0.013618</td>\n",
       "      <td>0.522897</td>\n",
       "    </tr>\n",
       "    <tr>\n",
       "      <th>YearRemodAdd</th>\n",
       "      <td>-0.021998</td>\n",
       "      <td>0.040581</td>\n",
       "      <td>0.083348</td>\n",
       "      <td>0.013788</td>\n",
       "      <td>0.550684</td>\n",
       "      <td>0.073741</td>\n",
       "      <td>0.592855</td>\n",
       "      <td>1.000000</td>\n",
       "      <td>0.176529</td>\n",
       "      <td>0.587318</td>\n",
       "      <td>...</td>\n",
       "      <td>-0.193919</td>\n",
       "      <td>0.045286</td>\n",
       "      <td>-0.038740</td>\n",
       "      <td>0.005829</td>\n",
       "      <td>0.010059</td>\n",
       "      <td>-0.141096</td>\n",
       "      <td>-0.010286</td>\n",
       "      <td>0.021490</td>\n",
       "      <td>0.035743</td>\n",
       "      <td>0.507101</td>\n",
       "    </tr>\n",
       "    <tr>\n",
       "      <th>MasVnrArea</th>\n",
       "      <td>-0.051071</td>\n",
       "      <td>0.023573</td>\n",
       "      <td>0.178469</td>\n",
       "      <td>0.103321</td>\n",
       "      <td>0.407252</td>\n",
       "      <td>-0.125694</td>\n",
       "      <td>0.311600</td>\n",
       "      <td>0.176529</td>\n",
       "      <td>1.000000</td>\n",
       "      <td>0.345329</td>\n",
       "      <td>...</td>\n",
       "      <td>-0.109907</td>\n",
       "      <td>0.019144</td>\n",
       "      <td>0.062248</td>\n",
       "      <td>0.011928</td>\n",
       "      <td>0.015073</td>\n",
       "      <td>-0.096786</td>\n",
       "      <td>-0.029512</td>\n",
       "      <td>-0.006723</td>\n",
       "      <td>-0.008317</td>\n",
       "      <td>0.472614</td>\n",
       "    </tr>\n",
       "    <tr>\n",
       "      <th>ExterQual</th>\n",
       "      <td>0.005039</td>\n",
       "      <td>0.016178</td>\n",
       "      <td>0.165567</td>\n",
       "      <td>0.055570</td>\n",
       "      <td>0.726278</td>\n",
       "      <td>-0.138942</td>\n",
       "      <td>0.598160</td>\n",
       "      <td>0.587318</td>\n",
       "      <td>0.345329</td>\n",
       "      <td>1.000000</td>\n",
       "      <td>...</td>\n",
       "      <td>-0.149589</td>\n",
       "      <td>0.036934</td>\n",
       "      <td>0.012688</td>\n",
       "      <td>0.034766</td>\n",
       "      <td>0.051950</td>\n",
       "      <td>-0.233852</td>\n",
       "      <td>-0.039310</td>\n",
       "      <td>0.042790</td>\n",
       "      <td>-0.006745</td>\n",
       "      <td>0.682639</td>\n",
       "    </tr>\n",
       "    <tr>\n",
       "      <th>ExterCond</th>\n",
       "      <td>0.029860</td>\n",
       "      <td>-0.064686</td>\n",
       "      <td>-0.016430</td>\n",
       "      <td>0.014732</td>\n",
       "      <td>0.013953</td>\n",
       "      <td>0.389163</td>\n",
       "      <td>-0.103925</td>\n",
       "      <td>0.074745</td>\n",
       "      <td>-0.018065</td>\n",
       "      <td>0.009184</td>\n",
       "      <td>...</td>\n",
       "      <td>0.035094</td>\n",
       "      <td>0.005196</td>\n",
       "      <td>0.028593</td>\n",
       "      <td>0.044387</td>\n",
       "      <td>0.049562</td>\n",
       "      <td>0.069665</td>\n",
       "      <td>0.051649</td>\n",
       "      <td>0.027244</td>\n",
       "      <td>0.008053</td>\n",
       "      <td>0.018899</td>\n",
       "    </tr>\n",
       "    <tr>\n",
       "      <th>BsmtQual</th>\n",
       "      <td>-0.028425</td>\n",
       "      <td>0.051122</td>\n",
       "      <td>0.141836</td>\n",
       "      <td>0.072336</td>\n",
       "      <td>0.629379</td>\n",
       "      <td>-0.164996</td>\n",
       "      <td>0.602797</td>\n",
       "      <td>0.515013</td>\n",
       "      <td>0.277490</td>\n",
       "      <td>0.565558</td>\n",
       "      <td>...</td>\n",
       "      <td>-0.181533</td>\n",
       "      <td>0.008097</td>\n",
       "      <td>0.034396</td>\n",
       "      <td>0.026415</td>\n",
       "      <td>0.032812</td>\n",
       "      <td>-0.148641</td>\n",
       "      <td>-0.044404</td>\n",
       "      <td>0.015662</td>\n",
       "      <td>-0.021461</td>\n",
       "      <td>0.585207</td>\n",
       "    </tr>\n",
       "    <tr>\n",
       "      <th>BsmtCond</th>\n",
       "      <td>0.010085</td>\n",
       "      <td>-0.015839</td>\n",
       "      <td>0.046888</td>\n",
       "      <td>0.031349</td>\n",
       "      <td>0.268759</td>\n",
       "      <td>0.132361</td>\n",
       "      <td>0.183115</td>\n",
       "      <td>0.188027</td>\n",
       "      <td>0.073210</td>\n",
       "      <td>0.185046</td>\n",
       "      <td>...</td>\n",
       "      <td>-0.041195</td>\n",
       "      <td>-0.009149</td>\n",
       "      <td>0.039311</td>\n",
       "      <td>0.008098</td>\n",
       "      <td>0.007808</td>\n",
       "      <td>0.017259</td>\n",
       "      <td>-0.023240</td>\n",
       "      <td>0.025060</td>\n",
       "      <td>-0.060289</td>\n",
       "      <td>0.212607</td>\n",
       "    </tr>\n",
       "    <tr>\n",
       "      <th>BsmtExposure</th>\n",
       "      <td>0.017320</td>\n",
       "      <td>0.051150</td>\n",
       "      <td>0.161479</td>\n",
       "      <td>0.228830</td>\n",
       "      <td>0.296517</td>\n",
       "      <td>-0.056732</td>\n",
       "      <td>0.289623</td>\n",
       "      <td>0.221405</td>\n",
       "      <td>0.175111</td>\n",
       "      <td>0.249101</td>\n",
       "      <td>...</td>\n",
       "      <td>-0.094532</td>\n",
       "      <td>-0.015854</td>\n",
       "      <td>0.042207</td>\n",
       "      <td>0.042190</td>\n",
       "      <td>0.051610</td>\n",
       "      <td>-0.071167</td>\n",
       "      <td>-0.017281</td>\n",
       "      <td>0.019911</td>\n",
       "      <td>-0.064060</td>\n",
       "      <td>0.374696</td>\n",
       "    </tr>\n",
       "    <tr>\n",
       "      <th>BsmtFinType1</th>\n",
       "      <td>-0.016882</td>\n",
       "      <td>0.027389</td>\n",
       "      <td>0.072566</td>\n",
       "      <td>0.058995</td>\n",
       "      <td>0.232503</td>\n",
       "      <td>-0.014479</td>\n",
       "      <td>0.351002</td>\n",
       "      <td>0.224383</td>\n",
       "      <td>0.184728</td>\n",
       "      <td>0.226197</td>\n",
       "      <td>...</td>\n",
       "      <td>-0.136997</td>\n",
       "      <td>0.040912</td>\n",
       "      <td>0.022252</td>\n",
       "      <td>0.031833</td>\n",
       "      <td>0.040874</td>\n",
       "      <td>-0.032641</td>\n",
       "      <td>0.012356</td>\n",
       "      <td>-0.034467</td>\n",
       "      <td>0.053093</td>\n",
       "      <td>0.304908</td>\n",
       "    </tr>\n",
       "    <tr>\n",
       "      <th>BsmtFinSF1</th>\n",
       "      <td>-0.005024</td>\n",
       "      <td>-0.069836</td>\n",
       "      <td>0.214367</td>\n",
       "      <td>0.214103</td>\n",
       "      <td>0.239666</td>\n",
       "      <td>-0.046231</td>\n",
       "      <td>0.249503</td>\n",
       "      <td>0.128451</td>\n",
       "      <td>0.261256</td>\n",
       "      <td>0.203777</td>\n",
       "      <td>...</td>\n",
       "      <td>-0.102303</td>\n",
       "      <td>0.026451</td>\n",
       "      <td>0.062021</td>\n",
       "      <td>0.140491</td>\n",
       "      <td>0.177096</td>\n",
       "      <td>-0.018120</td>\n",
       "      <td>0.003571</td>\n",
       "      <td>-0.015727</td>\n",
       "      <td>0.014359</td>\n",
       "      <td>0.386420</td>\n",
       "    </tr>\n",
       "    <tr>\n",
       "      <th>BsmtFinType2</th>\n",
       "      <td>-0.030615</td>\n",
       "      <td>-0.024330</td>\n",
       "      <td>0.018035</td>\n",
       "      <td>0.086629</td>\n",
       "      <td>-0.044349</td>\n",
       "      <td>0.101674</td>\n",
       "      <td>-0.039512</td>\n",
       "      <td>-0.039159</td>\n",
       "      <td>-0.044983</td>\n",
       "      <td>-0.062751</td>\n",
       "      <td>...</td>\n",
       "      <td>0.062316</td>\n",
       "      <td>-0.007620</td>\n",
       "      <td>0.050378</td>\n",
       "      <td>0.013058</td>\n",
       "      <td>0.007343</td>\n",
       "      <td>0.138230</td>\n",
       "      <td>0.014291</td>\n",
       "      <td>-0.021084</td>\n",
       "      <td>0.033263</td>\n",
       "      <td>-0.005323</td>\n",
       "    </tr>\n",
       "    <tr>\n",
       "      <th>BsmtFinSF2</th>\n",
       "      <td>-0.005968</td>\n",
       "      <td>-0.065649</td>\n",
       "      <td>0.042463</td>\n",
       "      <td>0.111170</td>\n",
       "      <td>-0.059119</td>\n",
       "      <td>0.040229</td>\n",
       "      <td>-0.049107</td>\n",
       "      <td>-0.067759</td>\n",
       "      <td>-0.071330</td>\n",
       "      <td>-0.076236</td>\n",
       "      <td>...</td>\n",
       "      <td>0.036543</td>\n",
       "      <td>-0.029993</td>\n",
       "      <td>0.088871</td>\n",
       "      <td>0.041709</td>\n",
       "      <td>0.022143</td>\n",
       "      <td>0.115274</td>\n",
       "      <td>0.004940</td>\n",
       "      <td>-0.015211</td>\n",
       "      <td>0.031706</td>\n",
       "      <td>-0.011378</td>\n",
       "    </tr>\n",
       "    <tr>\n",
       "      <th>BsmtUnfSF</th>\n",
       "      <td>-0.007940</td>\n",
       "      <td>-0.140759</td>\n",
       "      <td>0.124098</td>\n",
       "      <td>-0.002618</td>\n",
       "      <td>0.308159</td>\n",
       "      <td>-0.136841</td>\n",
       "      <td>0.149040</td>\n",
       "      <td>0.181133</td>\n",
       "      <td>0.113862</td>\n",
       "      <td>0.284705</td>\n",
       "      <td>...</td>\n",
       "      <td>-0.002538</td>\n",
       "      <td>0.020764</td>\n",
       "      <td>-0.012579</td>\n",
       "      <td>-0.035092</td>\n",
       "      <td>-0.030765</td>\n",
       "      <td>-0.132025</td>\n",
       "      <td>-0.023837</td>\n",
       "      <td>0.034888</td>\n",
       "      <td>-0.041258</td>\n",
       "      <td>0.214479</td>\n",
       "    </tr>\n",
       "    <tr>\n",
       "      <th>TotalBsmtSF</th>\n",
       "      <td>-0.015415</td>\n",
       "      <td>-0.238518</td>\n",
       "      <td>0.363472</td>\n",
       "      <td>0.260833</td>\n",
       "      <td>0.537808</td>\n",
       "      <td>-0.171098</td>\n",
       "      <td>0.391452</td>\n",
       "      <td>0.291066</td>\n",
       "      <td>0.360067</td>\n",
       "      <td>0.470580</td>\n",
       "      <td>...</td>\n",
       "      <td>-0.095478</td>\n",
       "      <td>0.037384</td>\n",
       "      <td>0.084489</td>\n",
       "      <td>0.126053</td>\n",
       "      <td>0.161273</td>\n",
       "      <td>-0.109426</td>\n",
       "      <td>-0.018479</td>\n",
       "      <td>0.013196</td>\n",
       "      <td>-0.014969</td>\n",
       "      <td>0.613581</td>\n",
       "    </tr>\n",
       "    <tr>\n",
       "      <th>HeatingQC</th>\n",
       "      <td>-0.015001</td>\n",
       "      <td>-0.019458</td>\n",
       "      <td>0.090051</td>\n",
       "      <td>0.003581</td>\n",
       "      <td>0.457083</td>\n",
       "      <td>-0.014105</td>\n",
       "      <td>0.448855</td>\n",
       "      <td>0.550017</td>\n",
       "      <td>0.157130</td>\n",
       "      <td>0.520027</td>\n",
       "      <td>...</td>\n",
       "      <td>-0.101743</td>\n",
       "      <td>0.059651</td>\n",
       "      <td>-0.034923</td>\n",
       "      <td>-0.047629</td>\n",
       "      <td>-0.023307</td>\n",
       "      <td>-0.180254</td>\n",
       "      <td>-0.026872</td>\n",
       "      <td>0.015523</td>\n",
       "      <td>-0.009649</td>\n",
       "      <td>0.427649</td>\n",
       "    </tr>\n",
       "    <tr>\n",
       "      <th>1stFlrSF</th>\n",
       "      <td>0.010496</td>\n",
       "      <td>-0.251758</td>\n",
       "      <td>0.413773</td>\n",
       "      <td>0.299475</td>\n",
       "      <td>0.476224</td>\n",
       "      <td>-0.144203</td>\n",
       "      <td>0.281986</td>\n",
       "      <td>0.240379</td>\n",
       "      <td>0.339850</td>\n",
       "      <td>0.397835</td>\n",
       "      <td>...</td>\n",
       "      <td>-0.065292</td>\n",
       "      <td>0.056104</td>\n",
       "      <td>0.088758</td>\n",
       "      <td>0.131525</td>\n",
       "      <td>0.155367</td>\n",
       "      <td>-0.070081</td>\n",
       "      <td>-0.021096</td>\n",
       "      <td>0.031372</td>\n",
       "      <td>-0.013604</td>\n",
       "      <td>0.605852</td>\n",
       "    </tr>\n",
       "    <tr>\n",
       "      <th>2ndFlrSF</th>\n",
       "      <td>0.005590</td>\n",
       "      <td>0.307886</td>\n",
       "      <td>0.072388</td>\n",
       "      <td>0.050986</td>\n",
       "      <td>0.295493</td>\n",
       "      <td>0.028942</td>\n",
       "      <td>0.010308</td>\n",
       "      <td>0.140024</td>\n",
       "      <td>0.173800</td>\n",
       "      <td>0.179530</td>\n",
       "      <td>...</td>\n",
       "      <td>0.061989</td>\n",
       "      <td>-0.024358</td>\n",
       "      <td>0.040606</td>\n",
       "      <td>0.081487</td>\n",
       "      <td>0.100361</td>\n",
       "      <td>-0.038554</td>\n",
       "      <td>0.016197</td>\n",
       "      <td>0.035164</td>\n",
       "      <td>-0.028700</td>\n",
       "      <td>0.319334</td>\n",
       "    </tr>\n",
       "    <tr>\n",
       "      <th>LowQualFinSF</th>\n",
       "      <td>-0.044230</td>\n",
       "      <td>0.046474</td>\n",
       "      <td>0.037469</td>\n",
       "      <td>0.004779</td>\n",
       "      <td>-0.030429</td>\n",
       "      <td>0.025494</td>\n",
       "      <td>-0.183784</td>\n",
       "      <td>-0.062419</td>\n",
       "      <td>-0.068628</td>\n",
       "      <td>-0.063062</td>\n",
       "      <td>...</td>\n",
       "      <td>0.061081</td>\n",
       "      <td>-0.004296</td>\n",
       "      <td>0.026799</td>\n",
       "      <td>0.062157</td>\n",
       "      <td>0.094762</td>\n",
       "      <td>0.055583</td>\n",
       "      <td>-0.003793</td>\n",
       "      <td>-0.022174</td>\n",
       "      <td>-0.028921</td>\n",
       "      <td>-0.025606</td>\n",
       "    </tr>\n",
       "    <tr>\n",
       "      <th>GrLivArea</th>\n",
       "      <td>0.008273</td>\n",
       "      <td>0.074853</td>\n",
       "      <td>0.368007</td>\n",
       "      <td>0.263116</td>\n",
       "      <td>0.593007</td>\n",
       "      <td>-0.079686</td>\n",
       "      <td>0.199010</td>\n",
       "      <td>0.287389</td>\n",
       "      <td>0.388052</td>\n",
       "      <td>0.435986</td>\n",
       "      <td>...</td>\n",
       "      <td>0.009113</td>\n",
       "      <td>0.020643</td>\n",
       "      <td>0.101510</td>\n",
       "      <td>0.170205</td>\n",
       "      <td>0.206441</td>\n",
       "      <td>-0.078442</td>\n",
       "      <td>-0.002416</td>\n",
       "      <td>0.050240</td>\n",
       "      <td>-0.036526</td>\n",
       "      <td>0.708624</td>\n",
       "    </tr>\n",
       "    <tr>\n",
       "      <th>BsmtFullBath</th>\n",
       "      <td>0.002289</td>\n",
       "      <td>0.003491</td>\n",
       "      <td>0.090343</td>\n",
       "      <td>0.158155</td>\n",
       "      <td>0.111098</td>\n",
       "      <td>-0.054942</td>\n",
       "      <td>0.187599</td>\n",
       "      <td>0.119470</td>\n",
       "      <td>0.083010</td>\n",
       "      <td>0.124550</td>\n",
       "      <td>...</td>\n",
       "      <td>-0.049911</td>\n",
       "      <td>-0.000106</td>\n",
       "      <td>0.023148</td>\n",
       "      <td>0.067616</td>\n",
       "      <td>0.073377</td>\n",
       "      <td>0.036920</td>\n",
       "      <td>-0.023047</td>\n",
       "      <td>-0.025361</td>\n",
       "      <td>0.067049</td>\n",
       "      <td>0.227122</td>\n",
       "    </tr>\n",
       "    <tr>\n",
       "      <th>BsmtHalfBath</th>\n",
       "      <td>-0.020155</td>\n",
       "      <td>-0.002333</td>\n",
       "      <td>-0.006979</td>\n",
       "      <td>0.048046</td>\n",
       "      <td>-0.040150</td>\n",
       "      <td>0.117821</td>\n",
       "      <td>-0.038162</td>\n",
       "      <td>-0.012337</td>\n",
       "      <td>0.027403</td>\n",
       "      <td>-0.056261</td>\n",
       "      <td>...</td>\n",
       "      <td>-0.008555</td>\n",
       "      <td>0.035114</td>\n",
       "      <td>0.032121</td>\n",
       "      <td>0.020025</td>\n",
       "      <td>0.037402</td>\n",
       "      <td>0.020203</td>\n",
       "      <td>-0.007367</td>\n",
       "      <td>0.032873</td>\n",
       "      <td>-0.046524</td>\n",
       "      <td>-0.016844</td>\n",
       "    </tr>\n",
       "    <tr>\n",
       "      <th>FullBath</th>\n",
       "      <td>0.005587</td>\n",
       "      <td>0.131608</td>\n",
       "      <td>0.180534</td>\n",
       "      <td>0.126031</td>\n",
       "      <td>0.550600</td>\n",
       "      <td>-0.194149</td>\n",
       "      <td>0.468271</td>\n",
       "      <td>0.439046</td>\n",
       "      <td>0.272999</td>\n",
       "      <td>0.483949</td>\n",
       "      <td>...</td>\n",
       "      <td>-0.115093</td>\n",
       "      <td>0.035353</td>\n",
       "      <td>-0.008106</td>\n",
       "      <td>0.049604</td>\n",
       "      <td>0.056935</td>\n",
       "      <td>-0.186693</td>\n",
       "      <td>-0.014290</td>\n",
       "      <td>0.055872</td>\n",
       "      <td>-0.019669</td>\n",
       "      <td>0.560664</td>\n",
       "    </tr>\n",
       "    <tr>\n",
       "      <th>HalfBath</th>\n",
       "      <td>0.006784</td>\n",
       "      <td>0.177354</td>\n",
       "      <td>0.047222</td>\n",
       "      <td>0.014259</td>\n",
       "      <td>0.273458</td>\n",
       "      <td>-0.060769</td>\n",
       "      <td>0.242656</td>\n",
       "      <td>0.183331</td>\n",
       "      <td>0.199108</td>\n",
       "      <td>0.193892</td>\n",
       "      <td>...</td>\n",
       "      <td>-0.095317</td>\n",
       "      <td>-0.004972</td>\n",
       "      <td>0.072426</td>\n",
       "      <td>0.022381</td>\n",
       "      <td>0.015432</td>\n",
       "      <td>-0.048947</td>\n",
       "      <td>0.001290</td>\n",
       "      <td>-0.009050</td>\n",
       "      <td>-0.010269</td>\n",
       "      <td>0.284108</td>\n",
       "    </tr>\n",
       "    <tr>\n",
       "      <th>BedroomAbvGr</th>\n",
       "      <td>0.037719</td>\n",
       "      <td>-0.023438</td>\n",
       "      <td>0.236840</td>\n",
       "      <td>0.119690</td>\n",
       "      <td>0.101676</td>\n",
       "      <td>0.012980</td>\n",
       "      <td>-0.070651</td>\n",
       "      <td>-0.040581</td>\n",
       "      <td>0.102775</td>\n",
       "      <td>-0.018729</td>\n",
       "      <td>...</td>\n",
       "      <td>0.041570</td>\n",
       "      <td>-0.024478</td>\n",
       "      <td>0.044300</td>\n",
       "      <td>0.070703</td>\n",
       "      <td>0.067078</td>\n",
       "      <td>0.044867</td>\n",
       "      <td>0.007767</td>\n",
       "      <td>0.046544</td>\n",
       "      <td>-0.036014</td>\n",
       "      <td>0.168213</td>\n",
       "    </tr>\n",
       "    <tr>\n",
       "      <th>KitchenAbvGr</th>\n",
       "      <td>0.002951</td>\n",
       "      <td>0.281721</td>\n",
       "      <td>-0.004905</td>\n",
       "      <td>-0.017784</td>\n",
       "      <td>-0.183882</td>\n",
       "      <td>-0.087001</td>\n",
       "      <td>-0.174800</td>\n",
       "      <td>-0.149598</td>\n",
       "      <td>-0.038450</td>\n",
       "      <td>-0.151236</td>\n",
       "      <td>...</td>\n",
       "      <td>0.037312</td>\n",
       "      <td>-0.024600</td>\n",
       "      <td>-0.051613</td>\n",
       "      <td>-0.014525</td>\n",
       "      <td>-0.014006</td>\n",
       "      <td>-0.047703</td>\n",
       "      <td>0.062341</td>\n",
       "      <td>0.026589</td>\n",
       "      <td>0.031687</td>\n",
       "      <td>-0.135907</td>\n",
       "    </tr>\n",
       "    <tr>\n",
       "      <th>KitchenQual</th>\n",
       "      <td>0.014973</td>\n",
       "      <td>-0.012383</td>\n",
       "      <td>0.169829</td>\n",
       "      <td>0.067864</td>\n",
       "      <td>0.673331</td>\n",
       "      <td>-0.026707</td>\n",
       "      <td>0.530165</td>\n",
       "      <td>0.625316</td>\n",
       "      <td>0.282620</td>\n",
       "      <td>0.716122</td>\n",
       "      <td>...</td>\n",
       "      <td>-0.105859</td>\n",
       "      <td>0.022332</td>\n",
       "      <td>0.030788</td>\n",
       "      <td>0.062354</td>\n",
       "      <td>0.067946</td>\n",
       "      <td>-0.131697</td>\n",
       "      <td>-0.054095</td>\n",
       "      <td>0.051762</td>\n",
       "      <td>0.002047</td>\n",
       "      <td>0.659600</td>\n",
       "    </tr>\n",
       "    <tr>\n",
       "      <th>TotRmsAbvGrd</th>\n",
       "      <td>0.027239</td>\n",
       "      <td>0.040380</td>\n",
       "      <td>0.320518</td>\n",
       "      <td>0.190015</td>\n",
       "      <td>0.427452</td>\n",
       "      <td>-0.057583</td>\n",
       "      <td>0.095589</td>\n",
       "      <td>0.191740</td>\n",
       "      <td>0.279568</td>\n",
       "      <td>0.297903</td>\n",
       "      <td>...</td>\n",
       "      <td>0.004151</td>\n",
       "      <td>-0.006683</td>\n",
       "      <td>0.059383</td>\n",
       "      <td>0.083757</td>\n",
       "      <td>0.091779</td>\n",
       "      <td>-0.041209</td>\n",
       "      <td>0.024763</td>\n",
       "      <td>0.036907</td>\n",
       "      <td>-0.034516</td>\n",
       "      <td>0.533723</td>\n",
       "    </tr>\n",
       "    <tr>\n",
       "      <th>Functional</th>\n",
       "      <td>-0.002701</td>\n",
       "      <td>-0.006716</td>\n",
       "      <td>0.023185</td>\n",
       "      <td>-0.025128</td>\n",
       "      <td>0.145436</td>\n",
       "      <td>0.118909</td>\n",
       "      <td>0.148792</td>\n",
       "      <td>0.072543</td>\n",
       "      <td>0.082664</td>\n",
       "      <td>0.088392</td>\n",
       "      <td>...</td>\n",
       "      <td>-0.045996</td>\n",
       "      <td>0.017774</td>\n",
       "      <td>-0.024926</td>\n",
       "      <td>0.016283</td>\n",
       "      <td>0.015701</td>\n",
       "      <td>-0.027537</td>\n",
       "      <td>-0.029948</td>\n",
       "      <td>0.024817</td>\n",
       "      <td>-0.029805</td>\n",
       "      <td>0.107619</td>\n",
       "    </tr>\n",
       "    <tr>\n",
       "      <th>Fireplaces</th>\n",
       "      <td>-0.019772</td>\n",
       "      <td>-0.045569</td>\n",
       "      <td>0.233221</td>\n",
       "      <td>0.271364</td>\n",
       "      <td>0.396765</td>\n",
       "      <td>-0.023820</td>\n",
       "      <td>0.147716</td>\n",
       "      <td>0.112581</td>\n",
       "      <td>0.247015</td>\n",
       "      <td>0.249335</td>\n",
       "      <td>...</td>\n",
       "      <td>-0.024822</td>\n",
       "      <td>0.011257</td>\n",
       "      <td>0.184530</td>\n",
       "      <td>0.095074</td>\n",
       "      <td>0.099071</td>\n",
       "      <td>-0.025024</td>\n",
       "      <td>0.001409</td>\n",
       "      <td>0.046357</td>\n",
       "      <td>-0.024096</td>\n",
       "      <td>0.466929</td>\n",
       "    </tr>\n",
       "    <tr>\n",
       "      <th>FireplaceQu</th>\n",
       "      <td>0.001760</td>\n",
       "      <td>-0.039201</td>\n",
       "      <td>0.224425</td>\n",
       "      <td>0.185332</td>\n",
       "      <td>0.490788</td>\n",
       "      <td>-0.056899</td>\n",
       "      <td>0.224545</td>\n",
       "      <td>0.196103</td>\n",
       "      <td>0.274950</td>\n",
       "      <td>0.361798</td>\n",
       "      <td>...</td>\n",
       "      <td>-0.042697</td>\n",
       "      <td>0.035793</td>\n",
       "      <td>0.150002</td>\n",
       "      <td>0.048737</td>\n",
       "      <td>0.054238</td>\n",
       "      <td>-0.073133</td>\n",
       "      <td>-0.020872</td>\n",
       "      <td>0.054470</td>\n",
       "      <td>-0.051293</td>\n",
       "      <td>0.520438</td>\n",
       "    </tr>\n",
       "    <tr>\n",
       "      <th>GarageFinish</th>\n",
       "      <td>0.013821</td>\n",
       "      <td>-0.033077</td>\n",
       "      <td>0.216575</td>\n",
       "      <td>0.124756</td>\n",
       "      <td>0.556863</td>\n",
       "      <td>-0.171245</td>\n",
       "      <td>0.595781</td>\n",
       "      <td>0.444541</td>\n",
       "      <td>0.275921</td>\n",
       "      <td>0.519054</td>\n",
       "      <td>...</td>\n",
       "      <td>-0.187663</td>\n",
       "      <td>0.034642</td>\n",
       "      <td>0.041074</td>\n",
       "      <td>0.028774</td>\n",
       "      <td>0.032512</td>\n",
       "      <td>-0.137802</td>\n",
       "      <td>-0.003352</td>\n",
       "      <td>-0.000683</td>\n",
       "      <td>0.001467</td>\n",
       "      <td>0.549247</td>\n",
       "    </tr>\n",
       "    <tr>\n",
       "      <th>GarageCars</th>\n",
       "      <td>0.016570</td>\n",
       "      <td>-0.040110</td>\n",
       "      <td>0.269539</td>\n",
       "      <td>0.154871</td>\n",
       "      <td>0.600671</td>\n",
       "      <td>-0.185758</td>\n",
       "      <td>0.537850</td>\n",
       "      <td>0.420622</td>\n",
       "      <td>0.361945</td>\n",
       "      <td>0.526390</td>\n",
       "      <td>...</td>\n",
       "      <td>-0.151434</td>\n",
       "      <td>0.035765</td>\n",
       "      <td>0.050494</td>\n",
       "      <td>0.020934</td>\n",
       "      <td>0.024058</td>\n",
       "      <td>-0.150496</td>\n",
       "      <td>-0.043080</td>\n",
       "      <td>0.040522</td>\n",
       "      <td>-0.039117</td>\n",
       "      <td>0.640409</td>\n",
       "    </tr>\n",
       "    <tr>\n",
       "      <th>GarageArea</th>\n",
       "      <td>0.017634</td>\n",
       "      <td>-0.098672</td>\n",
       "      <td>0.323511</td>\n",
       "      <td>0.180403</td>\n",
       "      <td>0.562022</td>\n",
       "      <td>-0.151521</td>\n",
       "      <td>0.478954</td>\n",
       "      <td>0.371600</td>\n",
       "      <td>0.370884</td>\n",
       "      <td>0.495778</td>\n",
       "      <td>...</td>\n",
       "      <td>-0.121777</td>\n",
       "      <td>0.035087</td>\n",
       "      <td>0.051412</td>\n",
       "      <td>0.061047</td>\n",
       "      <td>0.079508</td>\n",
       "      <td>-0.122774</td>\n",
       "      <td>-0.027400</td>\n",
       "      <td>0.027974</td>\n",
       "      <td>-0.027378</td>\n",
       "      <td>0.623431</td>\n",
       "    </tr>\n",
       "    <tr>\n",
       "      <th>GarageQual</th>\n",
       "      <td>0.013912</td>\n",
       "      <td>-0.072946</td>\n",
       "      <td>0.107230</td>\n",
       "      <td>0.079313</td>\n",
       "      <td>0.292399</td>\n",
       "      <td>0.019060</td>\n",
       "      <td>0.287054</td>\n",
       "      <td>0.148925</td>\n",
       "      <td>0.134947</td>\n",
       "      <td>0.219023</td>\n",
       "      <td>...</td>\n",
       "      <td>-0.094825</td>\n",
       "      <td>0.035395</td>\n",
       "      <td>0.069122</td>\n",
       "      <td>0.035450</td>\n",
       "      <td>0.031491</td>\n",
       "      <td>0.004498</td>\n",
       "      <td>-0.004784</td>\n",
       "      <td>0.014789</td>\n",
       "      <td>-0.006451</td>\n",
       "      <td>0.273839</td>\n",
       "    </tr>\n",
       "    <tr>\n",
       "      <th>GarageCond</th>\n",
       "      <td>0.008607</td>\n",
       "      <td>-0.089846</td>\n",
       "      <td>0.102552</td>\n",
       "      <td>0.076097</td>\n",
       "      <td>0.286955</td>\n",
       "      <td>0.016706</td>\n",
       "      <td>0.291096</td>\n",
       "      <td>0.144088</td>\n",
       "      <td>0.133749</td>\n",
       "      <td>0.214680</td>\n",
       "      <td>...</td>\n",
       "      <td>-0.097946</td>\n",
       "      <td>0.026354</td>\n",
       "      <td>0.071943</td>\n",
       "      <td>0.035739</td>\n",
       "      <td>0.031758</td>\n",
       "      <td>0.003040</td>\n",
       "      <td>-0.001663</td>\n",
       "      <td>0.012968</td>\n",
       "      <td>-0.008895</td>\n",
       "      <td>0.263191</td>\n",
       "    </tr>\n",
       "    <tr>\n",
       "      <th>WoodDeckSF</th>\n",
       "      <td>-0.029643</td>\n",
       "      <td>-0.012579</td>\n",
       "      <td>0.075542</td>\n",
       "      <td>0.171698</td>\n",
       "      <td>0.238923</td>\n",
       "      <td>-0.003334</td>\n",
       "      <td>0.224880</td>\n",
       "      <td>0.205726</td>\n",
       "      <td>0.159991</td>\n",
       "      <td>0.207932</td>\n",
       "      <td>...</td>\n",
       "      <td>-0.125989</td>\n",
       "      <td>-0.032771</td>\n",
       "      <td>-0.074181</td>\n",
       "      <td>0.073378</td>\n",
       "      <td>0.059912</td>\n",
       "      <td>0.047353</td>\n",
       "      <td>-0.009551</td>\n",
       "      <td>0.021011</td>\n",
       "      <td>0.022270</td>\n",
       "      <td>0.324413</td>\n",
       "    </tr>\n",
       "    <tr>\n",
       "      <th>OpenPorchSF</th>\n",
       "      <td>-0.000477</td>\n",
       "      <td>-0.006100</td>\n",
       "      <td>0.137014</td>\n",
       "      <td>0.084774</td>\n",
       "      <td>0.308819</td>\n",
       "      <td>-0.032589</td>\n",
       "      <td>0.188686</td>\n",
       "      <td>0.226298</td>\n",
       "      <td>0.122528</td>\n",
       "      <td>0.291553</td>\n",
       "      <td>...</td>\n",
       "      <td>-0.093079</td>\n",
       "      <td>-0.005842</td>\n",
       "      <td>0.074304</td>\n",
       "      <td>0.060762</td>\n",
       "      <td>0.061265</td>\n",
       "      <td>-0.050530</td>\n",
       "      <td>-0.018584</td>\n",
       "      <td>0.071255</td>\n",
       "      <td>-0.057619</td>\n",
       "      <td>0.315856</td>\n",
       "    </tr>\n",
       "    <tr>\n",
       "      <th>EnclosedPorch</th>\n",
       "      <td>0.002889</td>\n",
       "      <td>-0.012037</td>\n",
       "      <td>0.010287</td>\n",
       "      <td>-0.018340</td>\n",
       "      <td>-0.113937</td>\n",
       "      <td>0.070356</td>\n",
       "      <td>-0.387268</td>\n",
       "      <td>-0.193919</td>\n",
       "      <td>-0.109907</td>\n",
       "      <td>-0.149589</td>\n",
       "      <td>...</td>\n",
       "      <td>1.000000</td>\n",
       "      <td>-0.037305</td>\n",
       "      <td>-0.082864</td>\n",
       "      <td>0.054203</td>\n",
       "      <td>0.091280</td>\n",
       "      <td>0.069082</td>\n",
       "      <td>0.018361</td>\n",
       "      <td>-0.028887</td>\n",
       "      <td>-0.009916</td>\n",
       "      <td>-0.128578</td>\n",
       "    </tr>\n",
       "    <tr>\n",
       "      <th>3SsnPorch</th>\n",
       "      <td>-0.046635</td>\n",
       "      <td>-0.043825</td>\n",
       "      <td>0.061945</td>\n",
       "      <td>0.020423</td>\n",
       "      <td>0.030371</td>\n",
       "      <td>0.025504</td>\n",
       "      <td>0.031355</td>\n",
       "      <td>0.045286</td>\n",
       "      <td>0.019144</td>\n",
       "      <td>0.036934</td>\n",
       "      <td>...</td>\n",
       "      <td>-0.037305</td>\n",
       "      <td>1.000000</td>\n",
       "      <td>-0.031436</td>\n",
       "      <td>-0.007992</td>\n",
       "      <td>-0.007706</td>\n",
       "      <td>0.004730</td>\n",
       "      <td>0.000354</td>\n",
       "      <td>0.029474</td>\n",
       "      <td>0.018645</td>\n",
       "      <td>0.044584</td>\n",
       "    </tr>\n",
       "    <tr>\n",
       "      <th>ScreenPorch</th>\n",
       "      <td>0.001330</td>\n",
       "      <td>-0.026030</td>\n",
       "      <td>0.037655</td>\n",
       "      <td>0.043160</td>\n",
       "      <td>0.064886</td>\n",
       "      <td>0.054811</td>\n",
       "      <td>-0.050364</td>\n",
       "      <td>-0.038740</td>\n",
       "      <td>0.062248</td>\n",
       "      <td>0.012688</td>\n",
       "      <td>...</td>\n",
       "      <td>-0.082864</td>\n",
       "      <td>-0.031436</td>\n",
       "      <td>1.000000</td>\n",
       "      <td>0.051307</td>\n",
       "      <td>0.022323</td>\n",
       "      <td>0.010488</td>\n",
       "      <td>0.031946</td>\n",
       "      <td>0.023217</td>\n",
       "      <td>0.010694</td>\n",
       "      <td>0.111447</td>\n",
       "    </tr>\n",
       "    <tr>\n",
       "      <th>PoolArea</th>\n",
       "      <td>0.057044</td>\n",
       "      <td>0.008283</td>\n",
       "      <td>0.180819</td>\n",
       "      <td>0.077672</td>\n",
       "      <td>0.065166</td>\n",
       "      <td>-0.001985</td>\n",
       "      <td>0.004950</td>\n",
       "      <td>0.005829</td>\n",
       "      <td>0.011928</td>\n",
       "      <td>0.034766</td>\n",
       "      <td>...</td>\n",
       "      <td>0.054203</td>\n",
       "      <td>-0.007992</td>\n",
       "      <td>0.051307</td>\n",
       "      <td>1.000000</td>\n",
       "      <td>0.937057</td>\n",
       "      <td>0.153518</td>\n",
       "      <td>0.029669</td>\n",
       "      <td>-0.033737</td>\n",
       "      <td>-0.059689</td>\n",
       "      <td>0.092404</td>\n",
       "    </tr>\n",
       "    <tr>\n",
       "      <th>PoolQC</th>\n",
       "      <td>0.047655</td>\n",
       "      <td>0.014198</td>\n",
       "      <td>0.231562</td>\n",
       "      <td>0.091727</td>\n",
       "      <td>0.083690</td>\n",
       "      <td>-0.013646</td>\n",
       "      <td>0.002113</td>\n",
       "      <td>0.010059</td>\n",
       "      <td>0.015073</td>\n",
       "      <td>0.051950</td>\n",
       "      <td>...</td>\n",
       "      <td>0.091280</td>\n",
       "      <td>-0.007706</td>\n",
       "      <td>0.022323</td>\n",
       "      <td>0.937057</td>\n",
       "      <td>1.000000</td>\n",
       "      <td>0.140256</td>\n",
       "      <td>0.014739</td>\n",
       "      <td>-0.032397</td>\n",
       "      <td>-0.050292</td>\n",
       "      <td>0.111696</td>\n",
       "    </tr>\n",
       "    <tr>\n",
       "      <th>Fence</th>\n",
       "      <td>-0.006632</td>\n",
       "      <td>-0.084980</td>\n",
       "      <td>0.030550</td>\n",
       "      <td>-0.041423</td>\n",
       "      <td>-0.152253</td>\n",
       "      <td>0.169653</td>\n",
       "      <td>-0.212545</td>\n",
       "      <td>-0.141096</td>\n",
       "      <td>-0.096786</td>\n",
       "      <td>-0.233852</td>\n",
       "      <td>...</td>\n",
       "      <td>0.069082</td>\n",
       "      <td>0.004730</td>\n",
       "      <td>0.010488</td>\n",
       "      <td>0.153518</td>\n",
       "      <td>0.140256</td>\n",
       "      <td>1.000000</td>\n",
       "      <td>0.030416</td>\n",
       "      <td>-0.004400</td>\n",
       "      <td>0.048068</td>\n",
       "      <td>-0.146942</td>\n",
       "    </tr>\n",
       "    <tr>\n",
       "      <th>MiscVal</th>\n",
       "      <td>-0.006242</td>\n",
       "      <td>-0.007683</td>\n",
       "      <td>-0.000255</td>\n",
       "      <td>0.038068</td>\n",
       "      <td>-0.031406</td>\n",
       "      <td>0.068777</td>\n",
       "      <td>-0.034383</td>\n",
       "      <td>-0.010286</td>\n",
       "      <td>-0.029512</td>\n",
       "      <td>-0.039310</td>\n",
       "      <td>...</td>\n",
       "      <td>0.018361</td>\n",
       "      <td>0.000354</td>\n",
       "      <td>0.031946</td>\n",
       "      <td>0.029669</td>\n",
       "      <td>0.014739</td>\n",
       "      <td>0.030416</td>\n",
       "      <td>1.000000</td>\n",
       "      <td>-0.006495</td>\n",
       "      <td>0.004906</td>\n",
       "      <td>-0.021190</td>\n",
       "    </tr>\n",
       "    <tr>\n",
       "      <th>MoSold</th>\n",
       "      <td>0.021172</td>\n",
       "      <td>-0.013585</td>\n",
       "      <td>0.010451</td>\n",
       "      <td>0.001205</td>\n",
       "      <td>0.070815</td>\n",
       "      <td>-0.003511</td>\n",
       "      <td>0.012398</td>\n",
       "      <td>0.021490</td>\n",
       "      <td>-0.006723</td>\n",
       "      <td>0.042790</td>\n",
       "      <td>...</td>\n",
       "      <td>-0.028887</td>\n",
       "      <td>0.029474</td>\n",
       "      <td>0.023217</td>\n",
       "      <td>-0.033737</td>\n",
       "      <td>-0.032397</td>\n",
       "      <td>-0.004400</td>\n",
       "      <td>-0.006495</td>\n",
       "      <td>1.000000</td>\n",
       "      <td>-0.145721</td>\n",
       "      <td>0.046432</td>\n",
       "    </tr>\n",
       "    <tr>\n",
       "      <th>YrSold</th>\n",
       "      <td>0.000712</td>\n",
       "      <td>-0.021407</td>\n",
       "      <td>0.006380</td>\n",
       "      <td>-0.014261</td>\n",
       "      <td>-0.027347</td>\n",
       "      <td>0.043950</td>\n",
       "      <td>-0.013618</td>\n",
       "      <td>0.035743</td>\n",
       "      <td>-0.008317</td>\n",
       "      <td>-0.006745</td>\n",
       "      <td>...</td>\n",
       "      <td>-0.009916</td>\n",
       "      <td>0.018645</td>\n",
       "      <td>0.010694</td>\n",
       "      <td>-0.059689</td>\n",
       "      <td>-0.050292</td>\n",
       "      <td>0.048068</td>\n",
       "      <td>0.004906</td>\n",
       "      <td>-0.145721</td>\n",
       "      <td>1.000000</td>\n",
       "      <td>-0.028923</td>\n",
       "    </tr>\n",
       "    <tr>\n",
       "      <th>SalePrice</th>\n",
       "      <td>-0.021917</td>\n",
       "      <td>-0.084284</td>\n",
       "      <td>0.334771</td>\n",
       "      <td>0.263843</td>\n",
       "      <td>0.790982</td>\n",
       "      <td>-0.077856</td>\n",
       "      <td>0.522897</td>\n",
       "      <td>0.507101</td>\n",
       "      <td>0.472614</td>\n",
       "      <td>0.682639</td>\n",
       "      <td>...</td>\n",
       "      <td>-0.128578</td>\n",
       "      <td>0.044584</td>\n",
       "      <td>0.111447</td>\n",
       "      <td>0.092404</td>\n",
       "      <td>0.111696</td>\n",
       "      <td>-0.146942</td>\n",
       "      <td>-0.021190</td>\n",
       "      <td>0.046432</td>\n",
       "      <td>-0.028923</td>\n",
       "      <td>1.000000</td>\n",
       "    </tr>\n",
       "  </tbody>\n",
       "</table>\n",
       "<p>53 rows × 53 columns</p>\n",
       "</div>"
      ],
      "text/plain": [
       "                     Id  MSSubClass  LotFrontage   LotArea  OverallQual  \\\n",
       "Id             1.000000    0.011156    -0.009921 -0.033226    -0.028365   \n",
       "MSSubClass     0.011156    1.000000    -0.356718 -0.139781     0.032628   \n",
       "LotFrontage   -0.009921   -0.356718     1.000000  0.304522     0.234812   \n",
       "LotArea       -0.033226   -0.139781     0.304522  1.000000     0.105806   \n",
       "OverallQual   -0.028365    0.032628     0.234812  0.105806     1.000000   \n",
       "OverallCond    0.012609   -0.059316    -0.053281 -0.005636    -0.091932   \n",
       "YearBuilt     -0.012713    0.027850     0.116685  0.014228     0.572323   \n",
       "YearRemodAdd  -0.021998    0.040581     0.083348  0.013788     0.550684   \n",
       "MasVnrArea    -0.051071    0.023573     0.178469  0.103321     0.407252   \n",
       "ExterQual      0.005039    0.016178     0.165567  0.055570     0.726278   \n",
       "ExterCond      0.029860   -0.064686    -0.016430  0.014732     0.013953   \n",
       "BsmtQual      -0.028425    0.051122     0.141836  0.072336     0.629379   \n",
       "BsmtCond       0.010085   -0.015839     0.046888  0.031349     0.268759   \n",
       "BsmtExposure   0.017320    0.051150     0.161479  0.228830     0.296517   \n",
       "BsmtFinType1  -0.016882    0.027389     0.072566  0.058995     0.232503   \n",
       "BsmtFinSF1    -0.005024   -0.069836     0.214367  0.214103     0.239666   \n",
       "BsmtFinType2  -0.030615   -0.024330     0.018035  0.086629    -0.044349   \n",
       "BsmtFinSF2    -0.005968   -0.065649     0.042463  0.111170    -0.059119   \n",
       "BsmtUnfSF     -0.007940   -0.140759     0.124098 -0.002618     0.308159   \n",
       "TotalBsmtSF   -0.015415   -0.238518     0.363472  0.260833     0.537808   \n",
       "HeatingQC     -0.015001   -0.019458     0.090051  0.003581     0.457083   \n",
       "1stFlrSF       0.010496   -0.251758     0.413773  0.299475     0.476224   \n",
       "2ndFlrSF       0.005590    0.307886     0.072388  0.050986     0.295493   \n",
       "LowQualFinSF  -0.044230    0.046474     0.037469  0.004779    -0.030429   \n",
       "GrLivArea      0.008273    0.074853     0.368007  0.263116     0.593007   \n",
       "BsmtFullBath   0.002289    0.003491     0.090343  0.158155     0.111098   \n",
       "BsmtHalfBath  -0.020155   -0.002333    -0.006979  0.048046    -0.040150   \n",
       "FullBath       0.005587    0.131608     0.180534  0.126031     0.550600   \n",
       "HalfBath       0.006784    0.177354     0.047222  0.014259     0.273458   \n",
       "BedroomAbvGr   0.037719   -0.023438     0.236840  0.119690     0.101676   \n",
       "KitchenAbvGr   0.002951    0.281721    -0.004905 -0.017784    -0.183882   \n",
       "KitchenQual    0.014973   -0.012383     0.169829  0.067864     0.673331   \n",
       "TotRmsAbvGrd   0.027239    0.040380     0.320518  0.190015     0.427452   \n",
       "Functional    -0.002701   -0.006716     0.023185 -0.025128     0.145436   \n",
       "Fireplaces    -0.019772   -0.045569     0.233221  0.271364     0.396765   \n",
       "FireplaceQu    0.001760   -0.039201     0.224425  0.185332     0.490788   \n",
       "GarageFinish   0.013821   -0.033077     0.216575  0.124756     0.556863   \n",
       "GarageCars     0.016570   -0.040110     0.269539  0.154871     0.600671   \n",
       "GarageArea     0.017634   -0.098672     0.323511  0.180403     0.562022   \n",
       "GarageQual     0.013912   -0.072946     0.107230  0.079313     0.292399   \n",
       "GarageCond     0.008607   -0.089846     0.102552  0.076097     0.286955   \n",
       "WoodDeckSF    -0.029643   -0.012579     0.075542  0.171698     0.238923   \n",
       "OpenPorchSF   -0.000477   -0.006100     0.137014  0.084774     0.308819   \n",
       "EnclosedPorch  0.002889   -0.012037     0.010287 -0.018340    -0.113937   \n",
       "3SsnPorch     -0.046635   -0.043825     0.061945  0.020423     0.030371   \n",
       "ScreenPorch    0.001330   -0.026030     0.037655  0.043160     0.064886   \n",
       "PoolArea       0.057044    0.008283     0.180819  0.077672     0.065166   \n",
       "PoolQC         0.047655    0.014198     0.231562  0.091727     0.083690   \n",
       "Fence         -0.006632   -0.084980     0.030550 -0.041423    -0.152253   \n",
       "MiscVal       -0.006242   -0.007683    -0.000255  0.038068    -0.031406   \n",
       "MoSold         0.021172   -0.013585     0.010451  0.001205     0.070815   \n",
       "YrSold         0.000712   -0.021407     0.006380 -0.014261    -0.027347   \n",
       "SalePrice     -0.021917   -0.084284     0.334771  0.263843     0.790982   \n",
       "\n",
       "               OverallCond  YearBuilt  YearRemodAdd  MasVnrArea  ExterQual  \\\n",
       "Id                0.012609  -0.012713     -0.021998   -0.051071   0.005039   \n",
       "MSSubClass       -0.059316   0.027850      0.040581    0.023573   0.016178   \n",
       "LotFrontage      -0.053281   0.116685      0.083348    0.178469   0.165567   \n",
       "LotArea          -0.005636   0.014228      0.013788    0.103321   0.055570   \n",
       "OverallQual      -0.091932   0.572323      0.550684    0.407252   0.726278   \n",
       "OverallCond       1.000000  -0.375983      0.073741   -0.125694  -0.138942   \n",
       "YearBuilt        -0.375983   1.000000      0.592855    0.311600   0.598160   \n",
       "YearRemodAdd      0.073741   0.592855      1.000000    0.176529   0.587318   \n",
       "MasVnrArea       -0.125694   0.311600      0.176529    1.000000   0.345329   \n",
       "ExterQual        -0.138942   0.598160      0.587318    0.345329   1.000000   \n",
       "ExterCond         0.389163  -0.103925      0.074745   -0.018065   0.009184   \n",
       "BsmtQual         -0.164996   0.602797      0.515013    0.277490   0.565558   \n",
       "BsmtCond          0.132361   0.183115      0.188027    0.073210   0.185046   \n",
       "BsmtExposure     -0.056732   0.289623      0.221405    0.175111   0.249101   \n",
       "BsmtFinType1     -0.014479   0.351002      0.224383    0.184728   0.226197   \n",
       "BsmtFinSF1       -0.046231   0.249503      0.128451    0.261256   0.203777   \n",
       "BsmtFinType2      0.101674  -0.039512     -0.039159   -0.044983  -0.062751   \n",
       "BsmtFinSF2        0.040229  -0.049107     -0.067759   -0.071330  -0.076236   \n",
       "BsmtUnfSF        -0.136841   0.149040      0.181133    0.113862   0.284705   \n",
       "TotalBsmtSF      -0.171098   0.391452      0.291066    0.360067   0.470580   \n",
       "HeatingQC        -0.014105   0.448855      0.550017    0.157130   0.520027   \n",
       "1stFlrSF         -0.144203   0.281986      0.240379    0.339850   0.397835   \n",
       "2ndFlrSF          0.028942   0.010308      0.140024    0.173800   0.179530   \n",
       "LowQualFinSF      0.025494  -0.183784     -0.062419   -0.068628  -0.063062   \n",
       "GrLivArea        -0.079686   0.199010      0.287389    0.388052   0.435986   \n",
       "BsmtFullBath     -0.054942   0.187599      0.119470    0.083010   0.124550   \n",
       "BsmtHalfBath      0.117821  -0.038162     -0.012337    0.027403  -0.056261   \n",
       "FullBath         -0.194149   0.468271      0.439046    0.272999   0.483949   \n",
       "HalfBath         -0.060769   0.242656      0.183331    0.199108   0.193892   \n",
       "BedroomAbvGr      0.012980  -0.070651     -0.040581    0.102775  -0.018729   \n",
       "KitchenAbvGr     -0.087001  -0.174800     -0.149598   -0.038450  -0.151236   \n",
       "KitchenQual      -0.026707   0.530165      0.625316    0.282620   0.716122   \n",
       "TotRmsAbvGrd     -0.057583   0.095589      0.191740    0.279568   0.297903   \n",
       "Functional        0.118909   0.148792      0.072543    0.082664   0.088392   \n",
       "Fireplaces       -0.023820   0.147716      0.112581    0.247015   0.249335   \n",
       "FireplaceQu      -0.056899   0.224545      0.196103    0.274950   0.361798   \n",
       "GarageFinish     -0.171245   0.595781      0.444541    0.275921   0.519054   \n",
       "GarageCars       -0.185758   0.537850      0.420622    0.361945   0.526390   \n",
       "GarageArea       -0.151521   0.478954      0.371600    0.370884   0.495778   \n",
       "GarageQual        0.019060   0.287054      0.148925    0.134947   0.219023   \n",
       "GarageCond        0.016706   0.291096      0.144088    0.133749   0.214680   \n",
       "WoodDeckSF       -0.003334   0.224880      0.205726    0.159991   0.207932   \n",
       "OpenPorchSF      -0.032589   0.188686      0.226298    0.122528   0.291553   \n",
       "EnclosedPorch     0.070356  -0.387268     -0.193919   -0.109907  -0.149589   \n",
       "3SsnPorch         0.025504   0.031355      0.045286    0.019144   0.036934   \n",
       "ScreenPorch       0.054811  -0.050364     -0.038740    0.062248   0.012688   \n",
       "PoolArea         -0.001985   0.004950      0.005829    0.011928   0.034766   \n",
       "PoolQC           -0.013646   0.002113      0.010059    0.015073   0.051950   \n",
       "Fence             0.169653  -0.212545     -0.141096   -0.096786  -0.233852   \n",
       "MiscVal           0.068777  -0.034383     -0.010286   -0.029512  -0.039310   \n",
       "MoSold           -0.003511   0.012398      0.021490   -0.006723   0.042790   \n",
       "YrSold            0.043950  -0.013618      0.035743   -0.008317  -0.006745   \n",
       "SalePrice        -0.077856   0.522897      0.507101    0.472614   0.682639   \n",
       "\n",
       "                 ...      EnclosedPorch  3SsnPorch  ScreenPorch  PoolArea  \\\n",
       "Id               ...           0.002889  -0.046635     0.001330  0.057044   \n",
       "MSSubClass       ...          -0.012037  -0.043825    -0.026030  0.008283   \n",
       "LotFrontage      ...           0.010287   0.061945     0.037655  0.180819   \n",
       "LotArea          ...          -0.018340   0.020423     0.043160  0.077672   \n",
       "OverallQual      ...          -0.113937   0.030371     0.064886  0.065166   \n",
       "OverallCond      ...           0.070356   0.025504     0.054811 -0.001985   \n",
       "YearBuilt        ...          -0.387268   0.031355    -0.050364  0.004950   \n",
       "YearRemodAdd     ...          -0.193919   0.045286    -0.038740  0.005829   \n",
       "MasVnrArea       ...          -0.109907   0.019144     0.062248  0.011928   \n",
       "ExterQual        ...          -0.149589   0.036934     0.012688  0.034766   \n",
       "ExterCond        ...           0.035094   0.005196     0.028593  0.044387   \n",
       "BsmtQual         ...          -0.181533   0.008097     0.034396  0.026415   \n",
       "BsmtCond         ...          -0.041195  -0.009149     0.039311  0.008098   \n",
       "BsmtExposure     ...          -0.094532  -0.015854     0.042207  0.042190   \n",
       "BsmtFinType1     ...          -0.136997   0.040912     0.022252  0.031833   \n",
       "BsmtFinSF1       ...          -0.102303   0.026451     0.062021  0.140491   \n",
       "BsmtFinType2     ...           0.062316  -0.007620     0.050378  0.013058   \n",
       "BsmtFinSF2       ...           0.036543  -0.029993     0.088871  0.041709   \n",
       "BsmtUnfSF        ...          -0.002538   0.020764    -0.012579 -0.035092   \n",
       "TotalBsmtSF      ...          -0.095478   0.037384     0.084489  0.126053   \n",
       "HeatingQC        ...          -0.101743   0.059651    -0.034923 -0.047629   \n",
       "1stFlrSF         ...          -0.065292   0.056104     0.088758  0.131525   \n",
       "2ndFlrSF         ...           0.061989  -0.024358     0.040606  0.081487   \n",
       "LowQualFinSF     ...           0.061081  -0.004296     0.026799  0.062157   \n",
       "GrLivArea        ...           0.009113   0.020643     0.101510  0.170205   \n",
       "BsmtFullBath     ...          -0.049911  -0.000106     0.023148  0.067616   \n",
       "BsmtHalfBath     ...          -0.008555   0.035114     0.032121  0.020025   \n",
       "FullBath         ...          -0.115093   0.035353    -0.008106  0.049604   \n",
       "HalfBath         ...          -0.095317  -0.004972     0.072426  0.022381   \n",
       "BedroomAbvGr     ...           0.041570  -0.024478     0.044300  0.070703   \n",
       "KitchenAbvGr     ...           0.037312  -0.024600    -0.051613 -0.014525   \n",
       "KitchenQual      ...          -0.105859   0.022332     0.030788  0.062354   \n",
       "TotRmsAbvGrd     ...           0.004151  -0.006683     0.059383  0.083757   \n",
       "Functional       ...          -0.045996   0.017774    -0.024926  0.016283   \n",
       "Fireplaces       ...          -0.024822   0.011257     0.184530  0.095074   \n",
       "FireplaceQu      ...          -0.042697   0.035793     0.150002  0.048737   \n",
       "GarageFinish     ...          -0.187663   0.034642     0.041074  0.028774   \n",
       "GarageCars       ...          -0.151434   0.035765     0.050494  0.020934   \n",
       "GarageArea       ...          -0.121777   0.035087     0.051412  0.061047   \n",
       "GarageQual       ...          -0.094825   0.035395     0.069122  0.035450   \n",
       "GarageCond       ...          -0.097946   0.026354     0.071943  0.035739   \n",
       "WoodDeckSF       ...          -0.125989  -0.032771    -0.074181  0.073378   \n",
       "OpenPorchSF      ...          -0.093079  -0.005842     0.074304  0.060762   \n",
       "EnclosedPorch    ...           1.000000  -0.037305    -0.082864  0.054203   \n",
       "3SsnPorch        ...          -0.037305   1.000000    -0.031436 -0.007992   \n",
       "ScreenPorch      ...          -0.082864  -0.031436     1.000000  0.051307   \n",
       "PoolArea         ...           0.054203  -0.007992     0.051307  1.000000   \n",
       "PoolQC           ...           0.091280  -0.007706     0.022323  0.937057   \n",
       "Fence            ...           0.069082   0.004730     0.010488  0.153518   \n",
       "MiscVal          ...           0.018361   0.000354     0.031946  0.029669   \n",
       "MoSold           ...          -0.028887   0.029474     0.023217 -0.033737   \n",
       "YrSold           ...          -0.009916   0.018645     0.010694 -0.059689   \n",
       "SalePrice        ...          -0.128578   0.044584     0.111447  0.092404   \n",
       "\n",
       "                 PoolQC     Fence   MiscVal    MoSold    YrSold  SalePrice  \n",
       "Id             0.047655 -0.006632 -0.006242  0.021172  0.000712  -0.021917  \n",
       "MSSubClass     0.014198 -0.084980 -0.007683 -0.013585 -0.021407  -0.084284  \n",
       "LotFrontage    0.231562  0.030550 -0.000255  0.010451  0.006380   0.334771  \n",
       "LotArea        0.091727 -0.041423  0.038068  0.001205 -0.014261   0.263843  \n",
       "OverallQual    0.083690 -0.152253 -0.031406  0.070815 -0.027347   0.790982  \n",
       "OverallCond   -0.013646  0.169653  0.068777 -0.003511  0.043950  -0.077856  \n",
       "YearBuilt      0.002113 -0.212545 -0.034383  0.012398 -0.013618   0.522897  \n",
       "YearRemodAdd   0.010059 -0.141096 -0.010286  0.021490  0.035743   0.507101  \n",
       "MasVnrArea     0.015073 -0.096786 -0.029512 -0.006723 -0.008317   0.472614  \n",
       "ExterQual      0.051950 -0.233852 -0.039310  0.042790 -0.006745   0.682639  \n",
       "ExterCond      0.049562  0.069665  0.051649  0.027244  0.008053   0.018899  \n",
       "BsmtQual       0.032812 -0.148641 -0.044404  0.015662 -0.021461   0.585207  \n",
       "BsmtCond       0.007808  0.017259 -0.023240  0.025060 -0.060289   0.212607  \n",
       "BsmtExposure   0.051610 -0.071167 -0.017281  0.019911 -0.064060   0.374696  \n",
       "BsmtFinType1   0.040874 -0.032641  0.012356 -0.034467  0.053093   0.304908  \n",
       "BsmtFinSF1     0.177096 -0.018120  0.003571 -0.015727  0.014359   0.386420  \n",
       "BsmtFinType2   0.007343  0.138230  0.014291 -0.021084  0.033263  -0.005323  \n",
       "BsmtFinSF2     0.022143  0.115274  0.004940 -0.015211  0.031706  -0.011378  \n",
       "BsmtUnfSF     -0.030765 -0.132025 -0.023837  0.034888 -0.041258   0.214479  \n",
       "TotalBsmtSF    0.161273 -0.109426 -0.018479  0.013196 -0.014969   0.613581  \n",
       "HeatingQC     -0.023307 -0.180254 -0.026872  0.015523 -0.009649   0.427649  \n",
       "1stFlrSF       0.155367 -0.070081 -0.021096  0.031372 -0.013604   0.605852  \n",
       "2ndFlrSF       0.100361 -0.038554  0.016197  0.035164 -0.028700   0.319334  \n",
       "LowQualFinSF   0.094762  0.055583 -0.003793 -0.022174 -0.028921  -0.025606  \n",
       "GrLivArea      0.206441 -0.078442 -0.002416  0.050240 -0.036526   0.708624  \n",
       "BsmtFullBath   0.073377  0.036920 -0.023047 -0.025361  0.067049   0.227122  \n",
       "BsmtHalfBath   0.037402  0.020203 -0.007367  0.032873 -0.046524  -0.016844  \n",
       "FullBath       0.056935 -0.186693 -0.014290  0.055872 -0.019669   0.560664  \n",
       "HalfBath       0.015432 -0.048947  0.001290 -0.009050 -0.010269   0.284108  \n",
       "BedroomAbvGr   0.067078  0.044867  0.007767  0.046544 -0.036014   0.168213  \n",
       "KitchenAbvGr  -0.014006 -0.047703  0.062341  0.026589  0.031687  -0.135907  \n",
       "KitchenQual    0.067946 -0.131697 -0.054095  0.051762  0.002047   0.659600  \n",
       "TotRmsAbvGrd   0.091779 -0.041209  0.024763  0.036907 -0.034516   0.533723  \n",
       "Functional     0.015701 -0.027537 -0.029948  0.024817 -0.029805   0.107619  \n",
       "Fireplaces     0.099071 -0.025024  0.001409  0.046357 -0.024096   0.466929  \n",
       "FireplaceQu    0.054238 -0.073133 -0.020872  0.054470 -0.051293   0.520438  \n",
       "GarageFinish   0.032512 -0.137802 -0.003352 -0.000683  0.001467   0.549247  \n",
       "GarageCars     0.024058 -0.150496 -0.043080  0.040522 -0.039117   0.640409  \n",
       "GarageArea     0.079508 -0.122774 -0.027400  0.027974 -0.027378   0.623431  \n",
       "GarageQual     0.031491  0.004498 -0.004784  0.014789 -0.006451   0.273839  \n",
       "GarageCond     0.031758  0.003040 -0.001663  0.012968 -0.008895   0.263191  \n",
       "WoodDeckSF     0.059912  0.047353 -0.009551  0.021011  0.022270   0.324413  \n",
       "OpenPorchSF    0.061265 -0.050530 -0.018584  0.071255 -0.057619   0.315856  \n",
       "EnclosedPorch  0.091280  0.069082  0.018361 -0.028887 -0.009916  -0.128578  \n",
       "3SsnPorch     -0.007706  0.004730  0.000354  0.029474  0.018645   0.044584  \n",
       "ScreenPorch    0.022323  0.010488  0.031946  0.023217  0.010694   0.111447  \n",
       "PoolArea       0.937057  0.153518  0.029669 -0.033737 -0.059689   0.092404  \n",
       "PoolQC         1.000000  0.140256  0.014739 -0.032397 -0.050292   0.111696  \n",
       "Fence          0.140256  1.000000  0.030416 -0.004400  0.048068  -0.146942  \n",
       "MiscVal        0.014739  0.030416  1.000000 -0.006495  0.004906  -0.021190  \n",
       "MoSold        -0.032397 -0.004400 -0.006495  1.000000 -0.145721   0.046432  \n",
       "YrSold        -0.050292  0.048068  0.004906 -0.145721  1.000000  -0.028923  \n",
       "SalePrice      0.111696 -0.146942 -0.021190  0.046432 -0.028923   1.000000  \n",
       "\n",
       "[53 rows x 53 columns]"
      ]
     },
     "execution_count": 17,
     "metadata": {},
     "output_type": "execute_result"
    }
   ],
   "source": [
    "dfcorr = df.corr()\n",
    "dfcorr = dfcorr['SalePrice']\n",
    "\n",
    "def get_redundant_pairs(df):\n",
    "    '''Get diagonal and lower triangular pairs of correlation matrix'''\n",
    "    pairs_to_drop = set()\n",
    "    cols = df.columns\n",
    "    for i in range(0, df.shape[1]):\n",
    "        for j in range(0, i+1):\n",
    "            pairs_to_drop.add((cols[i], cols[j]))\n",
    "    return pairs_to_drop\n",
    "\n",
    "def get_top_abs_correlations(df, n=5):\n",
    "    au_corr = df.corr().abs().unstack()\n",
    "    labels_to_drop = get_redundant_pairs(df)\n",
    "    au_corr = au_corr.drop(labels=labels_to_drop).sort_values(ascending=False)\n",
    "    return au_corr[0:n]\n",
    "\n",
    "print(\"Top Absolute Correlations\")\n",
    "print(get_top_abs_correlations(df.corr(), 20))\n",
    "\n",
    "#print(dfcorr)\n",
    "df.corr()"
   ]
  },
  {
   "cell_type": "markdown",
   "metadata": {},
   "source": [
    "## Correlation of Sale Price for Linear Regression"
   ]
  },
  {
   "cell_type": "code",
   "execution_count": 18,
   "metadata": {},
   "outputs": [
    {
     "data": {
      "image/png": "[encoded data removed]",
      "text/plain": [
       "<matplotlib.figure.Figure at 0x11c5dc4a8>"
      ]
     },
     "metadata": {},
     "output_type": "display_data"
    }
   ],
   "source": [
    "corr_sale=df.corr()[\"SalePrice\"]\n",
    "\n",
    "fig, ax = plt.subplots(figsize = (6, 10))\n",
    "corr_sale[np.argsort(corr_sale, axis=0)[::-1]].plot(kind='barh')\n",
    "plt.tick_params(labelsize=12)\n",
    "plt.ylabel(\"Correlation\",size=12)\n",
    "plt.title('Correlated features with Sale Price', size=13)\n",
    "plt.tight_layout()\n",
    "\n",
    "del corr_sale"
   ]
  },
  {
   "cell_type": "markdown",
   "metadata": {},
   "source": [
    "Based on this, we should use Overall Quality, GrLivArea, ExterQual, KitchenQual, and GarageArea/GarageCars for the SalePrice linear model."
   ]
  },
  {
   "cell_type": "code",
   "execution_count": 19,
   "metadata": {},
   "outputs": [
    {
     "data": {
      "text/plain": [
       "<matplotlib.axes._subplots.AxesSubplot at 0x11cfb6a58>"
      ]
     },
     "execution_count": 19,
     "metadata": {},
     "output_type": "execute_result"
    },
    {
     "data": {
      "image/png": "[encoded data removed]",
      "text/plain": [
       "<matplotlib.figure.Figure at 0x11c5dc630>"
      ]
     },
     "metadata": {},
     "output_type": "display_data"
    }
   ],
   "source": [
    "corrmat = df.corr()\n",
    "indices = corrmat.loc['YearBuilt'].copy()\n",
    "a = pd.DataFrame(indices.sort_values(ascending=False))\n",
    "plt.figure(figsize=(1,10))\n",
    "sns.heatmap(a, annot=True)"
   ]
  },
  {
   "cell_type": "markdown",
   "metadata": {},
   "source": [
    "For the kNN model, we can use BsmtQual, ExterQual, GarageFinish, OverallQual, and YearRemodAdd against the YearBuilt"
   ]
  },
  {
   "cell_type": "markdown",
   "metadata": {},
   "source": [
    "# Linear Regression Model"
   ]
  },
  {
   "cell_type": "markdown",
   "metadata": {},
   "source": [
    "### Split 1"
   ]
  },
  {
   "cell_type": "code",
   "execution_count": 1,
   "metadata": {},
   "outputs": [
    {
     "ename": "NameError",
     "evalue": "name 'LinearRegression' is not defined",
     "output_type": "error",
     "traceback": [
      "\u001b[0;31m---------------------------------------------------------------------------\u001b[0m",
      "\u001b[0;31mNameError\u001b[0m                                 Traceback (most recent call last)",
      "\u001b[0;32m<ipython-input-1-f8bb181626af>\u001b[0m in \u001b[0;36m<module>\u001b[0;34m()\u001b[0m\n\u001b[0;32m----> 1\u001b[0;31m \u001b[0mmodel\u001b[0m \u001b[0;34m=\u001b[0m \u001b[0mLinearRegression\u001b[0m\u001b[0;34m(\u001b[0m\u001b[0;34m)\u001b[0m\u001b[0;34m\u001b[0m\u001b[0m\n\u001b[0m\u001b[1;32m      2\u001b[0m \u001b[0;34m\u001b[0m\u001b[0m\n\u001b[1;32m      3\u001b[0m \u001b[0mX\u001b[0m \u001b[0;34m=\u001b[0m \u001b[0mdf\u001b[0m\u001b[0;34m[\u001b[0m\u001b[0;34m[\u001b[0m\u001b[0;34m'OverallQual'\u001b[0m\u001b[0;34m,\u001b[0m \u001b[0;34m'GrLivArea'\u001b[0m\u001b[0;34m,\u001b[0m \u001b[0;34m'ExterQual'\u001b[0m\u001b[0;34m,\u001b[0m \u001b[0;34m'KitchenQual'\u001b[0m\u001b[0;34m,\u001b[0m \u001b[0;34m'GarageCars'\u001b[0m\u001b[0;34m,\u001b[0m \u001b[0;34m'GarageArea'\u001b[0m\u001b[0;34m]\u001b[0m\u001b[0;34m]\u001b[0m\u001b[0;34m\u001b[0m\u001b[0m\n\u001b[1;32m      4\u001b[0m \u001b[0my\u001b[0m \u001b[0;34m=\u001b[0m \u001b[0mdf\u001b[0m\u001b[0;34m[\u001b[0m\u001b[0;34m'SalePrice'\u001b[0m\u001b[0;34m]\u001b[0m\u001b[0;34m\u001b[0m\u001b[0m\n\u001b[1;32m      5\u001b[0m \u001b[0;34m\u001b[0m\u001b[0m\n",
      "\u001b[0;31mNameError\u001b[0m: name 'LinearRegression' is not defined"
     ]
    }
   ],
   "source": [
    "model = LinearRegression()\n",
    "\n",
    "X = df[['OverallQual', 'GrLivArea', 'ExterQual', 'KitchenQual', 'GarageCars', 'GarageArea']]\n",
    "y = df['SalePrice']\n",
    "\n",
    "X_train, X_test, y_train, y_test = train_test_split(X, y, test_size=0.33, random_state=100)\n",
    "\n",
    "model = model.fit(X=X_train, y=y_train)\n",
    "\n",
    "predictions = model.predict(X=X_test)\n",
    "\n",
    "RMSE = np.sqrt(mean_squared_error(y_true = y_test, y_pred=predictions))\n",
    "\n",
    "baseline = np.zeros(482)+180921.195890\n",
    "\n",
    "RMSE_Baseline = np.sqrt(mean_squared_error(y_true = y_test, y_pred=baseline))\n"
   ]
  },
  {
   "cell_type": "code",
   "execution_count": null,
   "metadata": {},
   "outputs": [],
   "source": [
    "if (0.6*RMSE_Baseline) > RMSE:\n",
    "    print(\"Relative Accuracy of our Model: {}\".format(1-(RMSE/RMSE_Baseline)))\n",
    "    print(RMSE)"
   ]
  },
  {
   "cell_type": "markdown",
   "metadata": {},
   "source": [
    "### Split 2"
   ]
  },
  {
   "cell_type": "code",
   "execution_count": 22,
   "metadata": {
    "collapsed": true
   },
   "outputs": [],
   "source": [
    "X_train, X_test, y_train, y_test = train_test_split(X, y, test_size=0.33, random_state=50)\n",
    "\n",
    "model = model.fit(X=X_train, y=y_train)\n",
    "\n",
    "predictions = model.predict(X=X_test)\n",
    "\n",
    "RMSE = np.sqrt(mean_squared_error(y_true = y_test, y_pred=predictions))\n",
    "\n",
    "baseline = np.zeros(482)+180921.195890\n",
    "\n",
    "RMSE_Baseline = np.sqrt(mean_squared_error(y_true = y_test, y_pred=baseline))"
   ]
  },
  {
   "cell_type": "code",
   "execution_count": 23,
   "metadata": {},
   "outputs": [
    {
     "name": "stdout",
     "output_type": "stream",
     "text": [
      "Relative Accuracy of our Model: 0.5336050029932292\n"
     ]
    }
   ],
   "source": [
    "if (0.6*RMSE_Baseline) > RMSE:\n",
    "    print(\"Relative Accuracy of our Model: {}\".format(1-(RMSE/RMSE_Baseline)))"
   ]
  },
  {
   "cell_type": "markdown",
   "metadata": {},
   "source": [
    "### Split 3"
   ]
  },
  {
   "cell_type": "code",
   "execution_count": 24,
   "metadata": {
    "collapsed": true
   },
   "outputs": [],
   "source": [
    "X_train, X_test, y_train, y_test = train_test_split(X, y, test_size=0.33, random_state=60)\n",
    "\n",
    "model = model.fit(X=X_train, y=y_train)\n",
    "\n",
    "predictions = model.predict(X=X_test)\n",
    "\n",
    "RMSE = np.sqrt(mean_squared_error(y_true = y_test, y_pred=predictions))\n",
    "\n",
    "baseline = np.zeros(482)+180921.195890\n",
    "\n",
    "RMSE_Baseline = np.sqrt(mean_squared_error(y_true = y_test, y_pred=baseline))"
   ]
  },
  {
   "cell_type": "code",
   "execution_count": 25,
   "metadata": {},
   "outputs": [
    {
     "name": "stdout",
     "output_type": "stream",
     "text": [
      "Relative Accuracy of our Model: 0.47150890996069283\n"
     ]
    }
   ],
   "source": [
    "if (0.6*RMSE_Baseline) > RMSE:\n",
    "    print(\"Relative Accuracy of our Model: {}\".format(1-(RMSE/RMSE_Baseline)))"
   ]
  },
  {
   "cell_type": "markdown",
   "metadata": {},
   "source": [
    "### Split 4"
   ]
  },
  {
   "cell_type": "code",
   "execution_count": 26,
   "metadata": {
    "collapsed": true
   },
   "outputs": [],
   "source": [
    "X_train, X_test, y_train, y_test = train_test_split(X, y, test_size=0.33, random_state=70)\n",
    "\n",
    "model = model.fit(X=X_train, y=y_train)\n",
    "\n",
    "predictions = model.predict(X=X_test)\n",
    "\n",
    "RMSE = np.sqrt(mean_squared_error(y_true = y_test, y_pred=predictions))\n",
    "\n",
    "baseline = np.zeros(482)+180921.195890\n",
    "\n",
    "RMSE_Baseline = np.sqrt(mean_squared_error(y_true = y_test, y_pred=baseline))"
   ]
  },
  {
   "cell_type": "code",
   "execution_count": 27,
   "metadata": {},
   "outputs": [
    {
     "name": "stdout",
     "output_type": "stream",
     "text": [
      "Relative Accuracy of our Model: 0.46344713492432255\n"
     ]
    }
   ],
   "source": [
    "if (0.6*RMSE_Baseline) > RMSE:\n",
    "    print(\"Relative Accuracy of our Model: {}\".format(1-(RMSE/RMSE_Baseline)))"
   ]
  },
  {
   "cell_type": "markdown",
   "metadata": {},
   "source": [
    "### Split 5"
   ]
  },
  {
   "cell_type": "code",
   "execution_count": 43,
   "metadata": {
    "collapsed": true
   },
   "outputs": [],
   "source": [
    "X_train, X_test, y_train, y_test = train_test_split(X, y, test_size=0.33, random_state=42)\n",
    "\n",
    "model = model.fit(X=X_train, y=y_train)\n",
    "\n",
    "predictions = model.predict(X=X_test)\n",
    "\n",
    "RMSE = np.sqrt(mean_squared_error(y_true = y_test, y_pred=predictions))\n",
    "\n",
    "baseline = np.zeros(482)+180921.195890\n",
    "\n",
    "RMSE_Baseline = np.sqrt(mean_squared_error(y_true = y_test, y_pred=baseline))"
   ]
  },
  {
   "cell_type": "code",
   "execution_count": 44,
   "metadata": {},
   "outputs": [
    {
     "name": "stdout",
     "output_type": "stream",
     "text": [
      "Relative Accuracy of our Model: 0.535326174237118\n"
     ]
    }
   ],
   "source": [
    "if (0.6*RMSE_Baseline) > RMSE:\n",
    "    print(\"Relative Accuracy of our Model: {}\".format(1-(RMSE/RMSE_Baseline)))"
   ]
  },
  {
   "cell_type": "markdown",
   "metadata": {},
   "source": [
    "### For loop to test 5000 seeds"
   ]
  },
  {
   "cell_type": "code",
   "execution_count": 48,
   "metadata": {},
   "outputs": [
    {
     "name": "stdout",
     "output_type": "stream",
     "text": [
      "All 5000 seeds passed.\n"
     ]
    }
   ],
   "source": [
    "loopres = []\n",
    "for i in range(5000):\n",
    "    X_train, X_test, y_train, y_test = train_test_split(X, y, test_size=0.33, random_state=i)\n",
    "    model = model.fit(X=X_train, y=y_train)\n",
    "    predictions = model.predict(X=X_test)\n",
    "    Si_RMSE = np.sqrt(mean_squared_error(y_true = y_test, y_pred=predictions))\n",
    "    loopres.append(Si_RMSE)\n",
    "    \n",
    "if (0.6*RMSE_Baseline) > max(loopres):\n",
    "    print(\"All 5000 seeds passed.\")\n",
    "else:\n",
    "    print(1 - (max(loopres)/RMSE_Baseline), loopres.index(max(loopres)))"
   ]
  },
  {
   "cell_type": "code",
   "execution_count": 46,
   "metadata": {
    "collapsed": true
   },
   "outputs": [],
   "source": [
    "for n in loopres:\n",
    "     if 0.6 <= n/RMSE_Baseline:\n",
    "         print(\"Hello\")"
   ]
  },
  {
   "cell_type": "markdown",
   "metadata": {},
   "source": [
    "# kNN "
   ]
  },
  {
   "cell_type": "markdown",
   "metadata": {},
   "source": [
    "### Split 1"
   ]
  },
  {
   "cell_type": "code",
   "execution_count": 32,
   "metadata": {
    "collapsed": true
   },
   "outputs": [],
   "source": [
    "df['1970'] = df['YearBuilt']\n",
    "\n",
    "for i in range(df['YearBuilt'].count()):\n",
    "    #print(df['YearBuilt'][i],type(df['YearBuilt'][i]))\n",
    "    if df['1970'][i] >= 1970:\n",
    "        df['1970'][i] = 1\n",
    "    else:\n",
    "        df['1970'][i] = 0"
   ]
  },
  {
   "cell_type": "code",
   "execution_count": 33,
   "metadata": {
    "collapsed": true
   },
   "outputs": [],
   "source": [
    "X = df[['ExterQual', 'BsmtQual', 'GarageFinish', 'OverallQual', 'YearRemodAdd']]\n",
    "y = df['1970']\n",
    "\n",
    "X_train, X_test, y_train, y_test = train_test_split(X, y, test_size=0.33, random_state=90)\n",
    "#type(X_train)"
   ]
  },
  {
   "cell_type": "code",
   "execution_count": 34,
   "metadata": {},
   "outputs": [
    {
     "name": "stdout",
     "output_type": "stream",
     "text": [
      "[   3    3    2    5 2002]\n",
      "[0]\n",
      "0\n",
      "[0 0 1 0 1 0 0 0 1 1 1 0 1 1 0 1 1 1 1 0 1 1 0 1 1 1 1 1 0 0 0 1 1 0 1 0 1\n",
      " 0 1 0 0 1 0 1 0 1 1 1 0 0 1 0 1 0 0 0 1 0 0 1 1 0 0 0 0 1 1 1 0 0 0 0 1 1\n",
      " 1 1 0 0 1 1 1 0 1 1 0 1 0 1 0 1 1 0 0 1 0 1 0 1 0 0 1 1 1 1 0 1 1 1 0 1 0\n",
      " 1 0 1 0 0 0 1 1 1 0 1 1 1 0 1 0 0 1 0 0 1 1 1 1 0 1 1 1 1 0 1 1 1 0 1 0 0\n",
      " 1 0 0 1 1 1 0 0 1 0 1 0 1 0 0 1 1 1 1 1 1 0 1 1 1 0 0 0 0 0 0 1 0 1 1 1 1\n",
      " 1 0 1 1 0 1 0 0 1 1 0 1 0 0 1 0 1 1 1 1 1 0 0 1 0 0 1 1 1 0 0 1 0 0 1 1 1\n",
      " 1 0 1 0 1 1 1 1 0 1 0 1 0 0 1 1 1 1 1 1 1 1 0 0 0 1 1 0 0 1 1 1 0 0 0 1 1\n",
      " 1 1 0 1 0 0 1 0 0 0 1 0 0 1 0 1 1 0 1 1 1 1 1 1 0 1 1 0 0 1 0 1 0 0 1 1 0\n",
      " 1 0 0 0 0 0 1 1 1 0 0 1 0 0 1 0 1 0 0 1 0 1 1 1 0 0 1 1 0 0 0 0 0 0 1 1 1\n",
      " 0 0 0 0 0 0 1 0 1 0 0 0 1 0 0 1 1 0 1 0 0 1 1 0 0 0 0 0 1 1 1 0 0 0 1 1 1\n",
      " 1 1 1 0 1 0 1 0 1 1 1 0 1 1 1 0 1 0 1 1 0 0 0 1 1 0 0 0 1 0 0 0 1 1 0 0 1\n",
      " 1 0 1 0 0 1 1 1 0 0 1 0 1 0 0 1 1 0 1 1 0 1 0 0 0 0 1 0 1 1 1 1 1 1 1 0 1\n",
      " 0 0 0 0 0 1 1 0 0 0 1 0 1 1 1 1 1 1 1 1 1 0 0 0 1 1 1 0 0 0 0 0 0 0 0 0 1\n",
      " 0]\n"
     ]
    }
   ],
   "source": [
    "cols = ['ExterQual', 'BsmtQual', 'GarageFinish', 'OverallQual', 'YearRemodAdd']\n",
    "cols2 = ['1970']\n",
    "trainArr = X_train.as_matrix(cols)\n",
    "trainRes = y_train.as_matrix()\n",
    "testArr = X_test.as_matrix(cols)\n",
    "testRes = y_test.as_matrix()\n",
    "knn = KNeighborsClassifier(n_neighbors=3, weights='distance')\n",
    "knn.fit(trainArr, trainRes)\n",
    "output = knn.predict(testArr)\n",
    "# or predict on a specific example!\n",
    "print(testArr[0])\n",
    "print(knn.predict(testArr[0]))\n",
    "print(testRes[0])\n",
    "print(testRes)"
   ]
  },
  {
   "cell_type": "code",
   "execution_count": 35,
   "metadata": {},
   "outputs": [
    {
     "name": "stdout",
     "output_type": "stream",
     "text": [
      "K with Highest Accuracy: 3\n"
     ]
    },
    {
     "data": {
      "image/png": "[encoded data removed]",
      "text/plain": [
       "<matplotlib.figure.Figure at 0x112f428d0>"
      ]
     },
     "metadata": {},
     "output_type": "display_data"
    }
   ],
   "source": [
    "results = []\n",
    "for n in range(1, 51, 2):\n",
    "    clf = KNeighborsClassifier(n_neighbors=n)\n",
    "    clf.fit(trainArr, trainRes)\n",
    "    preds = clf.predict(testArr)\n",
    "    accuracy = np.where(preds==testRes, 1, 0).sum() / float(len(testRes))\n",
    "    #print(\"Neighbors: %d, Accuracy: %3f\" % (n, accuracy))\n",
    "\n",
    "    results.append([n, accuracy])\n",
    "print(\"K with Highest Accuracy: {}\".format(max(results[1])))\n",
    "results = pd.DataFrame(results, columns=[\"n\", \"accuracy\"])\n",
    "\n",
    "plt.plot(results.n, results.accuracy)\n",
    "plt.title(\"Accuracy with Increasing K\")\n",
    "plt.show()"
   ]
  },
  {
   "cell_type": "markdown",
   "metadata": {},
   "source": [
    "Baseline Accuracy"
   ]
  },
  {
   "cell_type": "code",
   "execution_count": 36,
   "metadata": {},
   "outputs": [
    {
     "data": {
      "text/plain": [
       "0.5352697095435685"
      ]
     },
     "execution_count": 36,
     "metadata": {},
     "output_type": "execute_result"
    }
   ],
   "source": [
    "correct2 = 0.0\n",
    "for i in range(len(output)): \n",
    "    if 1 == output[i]: \n",
    "        correct2 += 1\n",
    "correct2 / len(output)"
   ]
  },
  {
   "cell_type": "markdown",
   "metadata": {},
   "source": [
    "Model Accuracy"
   ]
  },
  {
   "cell_type": "code",
   "execution_count": 37,
   "metadata": {},
   "outputs": [
    {
     "data": {
      "text/plain": [
       "0.91701244813278"
      ]
     },
     "execution_count": 37,
     "metadata": {},
     "output_type": "execute_result"
    }
   ],
   "source": [
    "correct = 0.0\n",
    "for i in range(len(output)): \n",
    "    if testRes[i] == output[i]: \n",
    "        correct += 1\n",
    "correct / len(output)"
   ]
  },
  {
   "cell_type": "markdown",
   "metadata": {},
   "source": [
    "### Split 2"
   ]
  },
  {
   "cell_type": "code",
   "execution_count": 38,
   "metadata": {
    "collapsed": true
   },
   "outputs": [],
   "source": [
    "df['1970'] = df['YearBuilt']\n",
    "\n",
    "for i in range(df['YearBuilt'].count()):\n",
    "    #print(df['YearBuilt'][i],type(df['YearBuilt'][i]))\n",
    "    if df['1970'][i] >= 1970:\n",
    "        df['1970'][i] = 1\n",
    "    else:\n",
    "        df['1970'][i] = 0"
   ]
  },
  {
   "cell_type": "code",
   "execution_count": 39,
   "metadata": {
    "collapsed": true
   },
   "outputs": [],
   "source": [
    "X = df[['ExterQual', 'BsmtQual', 'GarageFinish', 'OverallQual', 'YearRemodAdd']]\n",
    "y = df['1970']\n",
    "\n",
    "X_train, X_test, y_train, y_test = train_test_split(X, y, test_size=0.33, random_state=73)\n",
    "#type(X_train)"
   ]
  },
  {
   "cell_type": "code",
   "execution_count": 40,
   "metadata": {},
   "outputs": [
    {
     "name": "stdout",
     "output_type": "stream",
     "text": [
      "[   3    4    0    5 1974]\n",
      "[1]\n",
      "1\n",
      "[1 1 0 1 1 0 1 1 0 1 1 1 0 0 1 0 1 0 1 0 1 0 0 0 0 0 1 0 0 1 0 1 0 1 1 0 0\n",
      " 0 1 0 0 1 1 1 1 1 1 1 0 1 1 1 1 1 0 0 1 1 0 1 1 0 0 1 0 1 1 0 0 1 1 0 0 1\n",
      " 0 0 0 0 1 1 1 0 0 1 0 0 0 1 0 0 1 1 1 0 1 0 0 1 1 0 1 1 1 0 1 1 0 1 0 0 1\n",
      " 0 1 1 1 0 0 1 0 0 0 1 1 1 1 0 0 1 1 1 0 1 0 0 1 0 0 0 0 0 1 1 0 1 1 1 0 1\n",
      " 1 1 1 0 0 0 0 0 0 0 0 0 1 1 0 0 0 0 1 1 1 1 1 1 1 0 0 1 1 0 1 0 0 1 0 0 1\n",
      " 0 0 0 1 1 0 1 1 0 1 1 1 1 0 1 1 1 1 0 1 0 1 0 1 1 1 1 0 1 1 1 0 1 1 1 1 1\n",
      " 1 1 1 0 1 1 1 0 0 1 0 1 0 1 1 0 0 0 0 0 1 1 1 0 0 0 0 1 1 0 0 1 1 1 0 1 0\n",
      " 1 1 0 1 0 1 0 1 0 0 1 0 0 0 0 1 0 1 1 0 0 1 1 0 1 0 0 0 0 0 0 1 0 0 0 1 0\n",
      " 1 0 1 0 0 0 0 0 0 1 1 1 0 0 0 1 1 1 0 0 0 0 1 0 0 1 1 0 0 0 0 0 1 1 1 0 1\n",
      " 1 1 1 0 0 1 1 1 1 1 1 1 1 0 1 1 0 1 1 0 1 1 1 1 1 1 1 1 1 0 1 0 1 0 0 0 1\n",
      " 1 1 0 0 1 0 0 1 1 0 1 0 1 0 1 1 0 1 1 0 0 0 0 1 1 0 0 0 0 1 1 0 1 1 0 1 1\n",
      " 1 0 1 1 1 1 1 0 1 1 1 1 0 1 0 0 0 0 1 1 0 1 1 1 1 1 1 0 1 0 1 1 1 1 0 0 0\n",
      " 1 1 1 0 1 0 1 0 0 0 1 1 0 0 1 0 1 0 1 1 0 0 0 1 0 1 1 0 1 1 0 0 1 0 1 0 0\n",
      " 0]\n"
     ]
    }
   ],
   "source": [
    "cols = ['ExterQual', 'BsmtQual', 'GarageFinish', 'OverallQual', 'YearRemodAdd']\n",
    "cols2 = ['1970']\n",
    "trainArr = X_train.as_matrix(cols)\n",
    "trainRes = y_train.as_matrix()\n",
    "testArr = X_test.as_matrix(cols)\n",
    "testRes = y_test.as_matrix()\n",
    "knn = KNeighborsClassifier(n_neighbors=3, weights='distance')\n",
    "knn.fit(trainArr, trainRes)\n",
    "output = knn.predict(testArr)\n",
    "# or predict on a specific example!\n",
    "print(testArr[0])\n",
    "print(knn.predict(testArr[0]))\n",
    "print(testRes[0])\n",
    "print(testRes)"
   ]
  },
  {
   "cell_type": "code",
   "execution_count": 41,
   "metadata": {},
   "outputs": [
    {
     "name": "stdout",
     "output_type": "stream",
     "text": [
      "K with Highest Accuracy: 3\n"
     ]
    },
    {
     "data": {
      "image/png": "[encoded data removed]",
      "text/plain": [
       "<matplotlib.figure.Figure at 0x1134d8278>"
      ]
     },
     "metadata": {},
     "output_type": "display_data"
    }
   ],
   "source": [
    "results = []\n",
    "for n in range(1, 51, 2):\n",
    "    clf = KNeighborsClassifier(n_neighbors=n)\n",
    "    clf.fit(trainArr, trainRes)\n",
    "    preds = clf.predict(testArr)\n",
    "    accuracy = np.where(preds==testRes, 1, 0).sum() / float(len(testRes))\n",
    "    #print(\"Neighbors: %d, Accuracy: %3f\" % (n, accuracy))\n",
    "\n",
    "    results.append([n, accuracy])\n",
    "print(\"K with Highest Accuracy: {}\".format(max(results[1])))\n",
    "results = pd.DataFrame(results, columns=[\"n\", \"accuracy\"])\n",
    "\n",
    "plt.plot(results.n, results.accuracy)\n",
    "plt.title(\"Accuracy with Increasing K\")\n",
    "plt.show()"
   ]
  },
  {
   "cell_type": "markdown",
   "metadata": {},
   "source": [
    "Baseline Accuracy"
   ]
  },
  {
   "cell_type": "code",
   "execution_count": 42,
   "metadata": {},
   "outputs": [
    {
     "data": {
      "text/plain": [
       "0.5622406639004149"
      ]
     },
     "execution_count": 42,
     "metadata": {},
     "output_type": "execute_result"
    }
   ],
   "source": [
    "correct2 = 0.0\n",
    "for i in range(len(output)): \n",
    "    if 1 == output[i]: \n",
    "        correct2 += 1\n",
    "correct2 / len(output)"
   ]
  },
  {
   "cell_type": "markdown",
   "metadata": {},
   "source": [
    "Model Accuracy"
   ]
  },
  {
   "cell_type": "code",
   "execution_count": 43,
   "metadata": {},
   "outputs": [
    {
     "data": {
      "text/plain": [
       "0.91701244813278"
      ]
     },
     "execution_count": 43,
     "metadata": {},
     "output_type": "execute_result"
    }
   ],
   "source": [
    "correct = 0.0\n",
    "for i in range(len(output)): \n",
    "    if testRes[i] == output[i]: \n",
    "        correct += 1\n",
    "correct / len(output)"
   ]
  },
  {
   "cell_type": "markdown",
   "metadata": {},
   "source": [
    "### Split 3"
   ]
  },
  {
   "cell_type": "code",
   "execution_count": 44,
   "metadata": {
    "collapsed": true
   },
   "outputs": [],
   "source": [
    "df['1970'] = df['YearBuilt']\n",
    "\n",
    "for i in range(df['YearBuilt'].count()):\n",
    "    #print(df['YearBuilt'][i],type(df['YearBuilt'][i]))\n",
    "    if df['1970'][i] >= 1970:\n",
    "        df['1970'][i] = 1\n",
    "    else:\n",
    "        df['1970'][i] = 0"
   ]
  },
  {
   "cell_type": "code",
   "execution_count": 45,
   "metadata": {
    "collapsed": true
   },
   "outputs": [],
   "source": [
    "X = df[['ExterQual', 'BsmtQual', 'GarageFinish', 'OverallQual', 'YearRemodAdd']]\n",
    "y = df['1970']\n",
    "\n",
    "X_train, X_test, y_train, y_test = train_test_split(X, y, test_size=0.33, random_state=28)\n",
    "#type(X_train)"
   ]
  },
  {
   "cell_type": "code",
   "execution_count": 46,
   "metadata": {},
   "outputs": [
    {
     "name": "stdout",
     "output_type": "stream",
     "text": [
      "[   5    4    3    9 2006]\n",
      "[1]\n",
      "1\n",
      "[1 1 0 1 0 0 1 0 1 0 0 1 1 1 1 1 0 1 1 1 0 1 1 1 1 0 1 1 1 1 0 0 0 0 1 1 0\n",
      " 0 0 0 1 1 1 1 0 1 0 0 0 0 1 0 0 0 1 0 1 0 1 0 1 1 0 1 1 0 0 1 0 0 1 1 0 0\n",
      " 1 1 1 1 0 1 1 1 0 0 0 0 0 1 0 1 0 0 1 0 0 0 0 0 0 1 0 1 1 1 1 1 0 0 0 0 0\n",
      " 0 0 1 1 0 0 1 0 1 0 0 0 1 1 1 0 0 1 0 1 1 0 1 0 1 0 0 1 1 1 1 0 1 1 1 1 0\n",
      " 1 1 0 0 1 1 0 1 0 1 1 1 0 1 1 0 0 1 0 1 1 1 1 1 0 0 0 1 1 1 0 0 0 1 1 1 0\n",
      " 1 0 0 0 1 1 1 0 1 1 0 1 0 0 1 1 0 1 1 1 1 0 0 0 0 0 1 1 0 1 1 1 0 1 0 1 1\n",
      " 0 1 1 1 0 0 0 0 1 1 1 1 0 0 0 0 1 0 0 1 0 0 1 0 1 1 0 1 0 1 1 0 0 1 0 0 1\n",
      " 1 1 1 1 1 1 0 1 0 0 0 0 1 1 0 0 1 0 0 0 1 1 1 0 1 1 1 0 1 1 0 0 0 1 0 0 0\n",
      " 1 0 0 0 1 0 1 0 1 1 0 1 0 1 0 0 1 1 1 1 0 0 1 1 0 0 0 1 0 0 1 0 1 1 1 0 1\n",
      " 1 1 1 1 0 1 1 0 1 1 1 1 1 0 1 0 1 0 0 1 0 1 1 1 1 1 0 1 1 1 0 1 0 1 1 0 0\n",
      " 1 0 0 1 1 1 1 1 0 0 0 0 0 1 0 0 0 1 0 1 0 1 1 0 1 1 1 1 1 0 1 0 1 1 0 1 1\n",
      " 0 0 1 1 1 0 0 0 0 1 0 0 1 1 0 1 1 0 1 1 1 1 1 1 1 1 1 1 0 1 1 1 0 0 1 1 0\n",
      " 1 1 0 0 0 1 0 1 0 1 1 1 0 0 0 1 1 0 1 1 0 1 0 1 1 0 1 1 0 1 1 1 1 1 1 1 1\n",
      " 1]\n"
     ]
    }
   ],
   "source": [
    "cols = ['ExterQual', 'BsmtQual', 'GarageFinish', 'OverallQual', 'YearRemodAdd']\n",
    "cols2 = ['1970']\n",
    "trainArr = X_train.as_matrix(cols)\n",
    "trainRes = y_train.as_matrix()\n",
    "testArr = X_test.as_matrix(cols)\n",
    "testRes = y_test.as_matrix()\n",
    "knn = KNeighborsClassifier(n_neighbors=3, weights='distance')\n",
    "knn.fit(trainArr, trainRes)\n",
    "output = knn.predict(testArr)\n",
    "# or predict on a specific example!\n",
    "print(testArr[0])\n",
    "print(knn.predict(testArr[0]))\n",
    "print(testRes[0])\n",
    "print(testRes)"
   ]
  },
  {
   "cell_type": "code",
   "execution_count": 47,
   "metadata": {},
   "outputs": [
    {
     "name": "stdout",
     "output_type": "stream",
     "text": [
      "K with Highest Accuracy: 3\n"
     ]
    },
    {
     "data": {
      "image/png": "[encoded data removed]",
      "text/plain": [
       "<matplotlib.figure.Figure at 0x112e52ba8>"
      ]
     },
     "metadata": {},
     "output_type": "display_data"
    }
   ],
   "source": [
    "results = []\n",
    "for n in range(1, 51, 2):\n",
    "    clf = KNeighborsClassifier(n_neighbors=n)\n",
    "    clf.fit(trainArr, trainRes)\n",
    "    preds = clf.predict(testArr)\n",
    "    accuracy = np.where(preds==testRes, 1, 0).sum() / float(len(testRes))\n",
    "    #print(\"Neighbors: %d, Accuracy: %3f\" % (n, accuracy))\n",
    "\n",
    "    results.append([n, accuracy])\n",
    "print(\"K with Highest Accuracy: {}\".format(max(results[1])))\n",
    "results = pd.DataFrame(results, columns=[\"n\", \"accuracy\"])\n",
    "\n",
    "plt.plot(results.n, results.accuracy)\n",
    "plt.title(\"Accuracy with Increasing K\")\n",
    "plt.show()"
   ]
  },
  {
   "cell_type": "markdown",
   "metadata": {},
   "source": [
    "Baseline Accuracy"
   ]
  },
  {
   "cell_type": "code",
   "execution_count": 48,
   "metadata": {},
   "outputs": [
    {
     "data": {
      "text/plain": [
       "0.5726141078838174"
      ]
     },
     "execution_count": 48,
     "metadata": {},
     "output_type": "execute_result"
    }
   ],
   "source": [
    "correct2 = 0.0\n",
    "for i in range(len(output)): \n",
    "    if 1 == output[i]: \n",
    "        correct2 += 1\n",
    "correct2 / len(output)"
   ]
  },
  {
   "cell_type": "markdown",
   "metadata": {},
   "source": [
    "Model Accuracy"
   ]
  },
  {
   "cell_type": "code",
   "execution_count": null,
   "metadata": {},
   "outputs": [
    {
     "data": {
      "text/plain": [
       "0.9232365145228216"
      ]
     },
     "execution_count": 49,
     "metadata": {},
     "output_type": "execute_result"
    }
   ],
   "source": [
    "correct = 0.0\n",
    "for i in range(len(output)): \n",
    "    if testRes[i] == output[i]: \n",
    "        correct += 1\n",
    "correct / len(output)"
   ]
  },
  {
   "cell_type": "markdown",
   "metadata": {},
   "source": [
    "### Split 4"
   ]
  },
  {
   "cell_type": "code",
   "execution_count": null,
   "metadata": {
    "collapsed": true
   },
   "outputs": [],
   "source": [
    "df['1970'] = df['YearBuilt']\n",
    "\n",
    "for i in range(df['YearBuilt'].count()):\n",
    "    #print(df['YearBuilt'][i],type(df['YearBuilt'][i]))\n",
    "    if df['1970'][i] >= 1970:\n",
    "        df['1970'][i] = 1\n",
    "    else:\n",
    "        df['1970'][i] = 0"
   ]
  },
  {
   "cell_type": "code",
   "execution_count": null,
   "metadata": {
    "collapsed": true
   },
   "outputs": [],
   "source": [
    "X = df[['ExterQual', 'BsmtQual', 'GarageFinish', 'OverallQual', 'YearRemodAdd']]\n",
    "y = df['1970']\n",
    "\n",
    "X_train, X_test, y_train, y_test = train_test_split(X, y, test_size=0.33, random_state=47)\n",
    "#type(X_train)"
   ]
  },
  {
   "cell_type": "code",
   "execution_count": null,
   "metadata": {
    "collapsed": true
   },
   "outputs": [],
   "source": [
    "cols = ['ExterQual', 'BsmtQual', 'GarageFinish', 'OverallQual', 'YearRemodAdd']\n",
    "cols2 = ['1970']\n",
    "trainArr = X_train.as_matrix(cols)\n",
    "trainRes = y_train.as_matrix()\n",
    "testArr = X_test.as_matrix(cols)\n",
    "testRes = y_test.as_matrix()\n",
    "knn = KNeighborsClassifier(n_neighbors=3, weights='distance')\n",
    "knn.fit(trainArr, trainRes)\n",
    "output = knn.predict(testArr)\n",
    "# or predict on a specific example!\n",
    "print(testArr[0])\n",
    "print(knn.predict(testArr[0]))\n",
    "print(testRes[0])\n",
    "print(testRes)"
   ]
  },
  {
   "cell_type": "code",
   "execution_count": null,
   "metadata": {
    "collapsed": true
   },
   "outputs": [],
   "source": [
    "results = []\n",
    "for n in range(1, 51, 2):\n",
    "    clf = KNeighborsClassifier(n_neighbors=n)\n",
    "    clf.fit(trainArr, trainRes)\n",
    "    preds = clf.predict(testArr)\n",
    "    accuracy = np.where(preds==testRes, 1, 0).sum() / float(len(testRes))\n",
    "    #print(\"Neighbors: %d, Accuracy: %3f\" % (n, accuracy))\n",
    "\n",
    "    results.append([n, accuracy])\n",
    "print(\"K with Highest Accuracy: {}\".format(max(results[1])))\n",
    "results = pd.DataFrame(results, columns=[\"n\", \"accuracy\"])\n",
    "\n",
    "plt.plot(results.n, results.accuracy)\n",
    "plt.title(\"Accuracy with Increasing K\")\n",
    "plt.show()"
   ]
  },
  {
   "cell_type": "markdown",
   "metadata": {},
   "source": [
    "Baseline Accuracy"
   ]
  },
  {
   "cell_type": "code",
   "execution_count": null,
   "metadata": {
    "collapsed": true
   },
   "outputs": [],
   "source": [
    "correct2 = 0.0\n",
    "for i in range(len(output)): \n",
    "    if 1 == output[i]: \n",
    "        correct2 += 1\n",
    "correct2 / len(output)"
   ]
  },
  {
   "cell_type": "markdown",
   "metadata": {},
   "source": [
    "Model Accuracy"
   ]
  },
  {
   "cell_type": "code",
   "execution_count": null,
   "metadata": {
    "collapsed": true
   },
   "outputs": [],
   "source": [
    "correct = 0.0\n",
    "for i in range(len(output)): \n",
    "    if testRes[i] == output[i]: \n",
    "        correct += 1\n",
    "correct / len(output)"
   ]
  },
  {
   "cell_type": "markdown",
   "metadata": {},
   "source": [
    "### Split 5"
   ]
  },
  {
   "cell_type": "code",
   "execution_count": null,
   "metadata": {
    "collapsed": true
   },
   "outputs": [],
   "source": [
    "df['1970'] = df['YearBuilt']\n",
    "\n",
    "for i in range(df['YearBuilt'].count()):\n",
    "    #print(df['YearBuilt'][i],type(df['YearBuilt'][i]))\n",
    "    if df['1970'][i] >= 1970:\n",
    "        df['1970'][i] = 1\n",
    "    else:\n",
    "        df['1970'][i] = 0"
   ]
  },
  {
   "cell_type": "code",
   "execution_count": null,
   "metadata": {
    "collapsed": true
   },
   "outputs": [],
   "source": [
    "X = df[['ExterQual', 'BsmtQual', 'GarageFinish', 'OverallQual', 'YearRemodAdd']]\n",
    "y = df['1970']\n",
    "\n",
    "X_train, X_test, y_train, y_test = train_test_split(X, y, test_size=0.33, random_state=42)\n",
    "#type(X_train)"
   ]
  },
  {
   "cell_type": "code",
   "execution_count": null,
   "metadata": {
    "collapsed": true
   },
   "outputs": [],
   "source": [
    "cols = ['ExterQual', 'BsmtQual', 'GarageFinish', 'OverallQual', 'YearRemodAdd']\n",
    "cols2 = ['1970']\n",
    "trainArr = X_train.as_matrix(cols)\n",
    "trainRes = y_train.as_matrix()\n",
    "testArr = X_test.as_matrix(cols)\n",
    "testRes = y_test.as_matrix()\n",
    "knn = KNeighborsClassifier(n_neighbors=3, weights='distance')\n",
    "knn.fit(trainArr, trainRes)\n",
    "output = knn.predict(testArr)\n",
    "# or predict on a specific example!\n",
    "print(testArr[0])\n",
    "print(knn.predict(testArr[0]))\n",
    "print(testRes[0])\n",
    "print(testRes)"
   ]
  },
  {
   "cell_type": "code",
   "execution_count": null,
   "metadata": {
    "collapsed": true
   },
   "outputs": [],
   "source": [
    "results = []\n",
    "for n in range(1, 51, 2):\n",
    "    clf = KNeighborsClassifier(n_neighbors=n)\n",
    "    clf.fit(trainArr, trainRes)\n",
    "    preds = clf.predict(testArr)\n",
    "    accuracy = np.where(preds==testRes, 1, 0).sum() / float(len(testRes))\n",
    "    #print(\"Neighbors: %d, Accuracy: %3f\" % (n, accuracy))\n",
    "\n",
    "    results.append([n, accuracy])\n",
    "print(\"K with Highest Accuracy: {}\".format(max(results[1])))\n",
    "results = pd.DataFrame(results, columns=[\"n\", \"accuracy\"])\n",
    "\n",
    "plt.plot(results.n, results.accuracy)\n",
    "plt.title(\"Accuracy with Increasing K\")\n",
    "plt.show()"
   ]
  },
  {
   "cell_type": "markdown",
   "metadata": {},
   "source": [
    "Baseline Accuracy"
   ]
  },
  {
   "cell_type": "code",
   "execution_count": null,
   "metadata": {
    "collapsed": true
   },
   "outputs": [],
   "source": [
    "correct2 = 0.0\n",
    "for i in range(len(output)): \n",
    "    if 1 == output[i]: \n",
    "        correct2 += 1\n",
    "correct2 / len(output)"
   ]
  },
  {
   "cell_type": "markdown",
   "metadata": {},
   "source": [
    "Model Accuracy"
   ]
  },
  {
   "cell_type": "code",
   "execution_count": null,
   "metadata": {
    "collapsed": true
   },
   "outputs": [],
   "source": [
    "correct = 0.0\n",
    "for i in range(len(output)): \n",
    "    if testRes[i] == output[i]: \n",
    "        correct += 1\n",
    "correct / len(output)"
   ]
  },
  {
   "cell_type": "markdown",
   "metadata": {},
   "source": [
    "### Confusion Matrix, Precisison, Recall (Optional) "
   ]
  },
  {
   "cell_type": "code",
   "execution_count": null,
   "metadata": {
    "collapsed": true
   },
   "outputs": [],
   "source": [
    "def plot_confusion_matrix(cm, classes,\n",
    "                          normalize=False,\n",
    "                          title='Confusion matrix',\n",
    "                          cmap=plt.cm.Blues):\n",
    "    \"\"\"\n",
    "    This function prints and plots the confusion matrix.\n",
    "    Normalization can be applied by setting `normalize=True`.\n",
    "    \"\"\"\n",
    "    if normalize:\n",
    "        cm = cm.astype('float') / cm.sum(axis=1)[:, np.newaxis]\n",
    "        print(\"Normalized confusion matrix\")\n",
    "    else:\n",
    "        print('Confusion matrix, without normalization')\n",
    "\n",
    "    print(cm)\n",
    "\n",
    "    plt.imshow(cm, interpolation='nearest', cmap=cmap)\n",
    "    plt.title(title)\n",
    "    plt.colorbar()\n",
    "    tick_marks = np.arange(len(classes))\n",
    "    plt.xticks(tick_marks, classes, rotation=45)\n",
    "    plt.yticks(tick_marks, classes)\n",
    "\n",
    "    fmt = '.2f' if normalize else 'd'\n",
    "    thresh = cm.max() / 2.\n",
    "    for i, j in itertools.product(range(cm.shape[0]), range(cm.shape[1])):\n",
    "        plt.text(j, i, format(cm[i, j], fmt),\n",
    "                 horizontalalignment=\"center\",\n",
    "                 color=\"white\" if cm[i, j] > thresh else \"black\")\n",
    "\n",
    "    plt.tight_layout()\n",
    "    plt.ylabel('True label')\n",
    "    plt.xlabel('Predicted label')\n",
    "\n",
    "# Compute confusion matrix\n",
    "cnf_matrix = confusion_matrix(testRes, output)\n",
    "np.set_printoptions(precision=2)\n",
    "\n",
    "# Plot non-normalized confusion matrix\n",
    "plt.figure()\n",
    "plot_confusion_matrix(cnf_matrix, classes=[0,1],\n",
    "                      title='Confusion matrix, without normalization')\n",
    "\n",
    "# Plot normalized confusion matrix\n",
    "plt.figure()\n",
    "plot_confusion_matrix(cnf_matrix, classes=[0,1], normalize=True,\n",
    "                      title='Normalized confusion matrix')\n",
    "\n",
    "plt.show()"
   ]
  },
  {
   "cell_type": "code",
   "execution_count": null,
   "metadata": {
    "collapsed": true
   },
   "outputs": [],
   "source": [
    "precision1, recall1, f11, support1 = precision_recall_fscore_support(testRes, output)#, average='macro')\n",
    "\n",
    "print('precision: {}'.format(precision1))\n",
    "print('recall: {}'.format(recall1))\n",
    "print('fscore: {}'.format(f11))\n",
    "print('support: {}'.format(support1))"
   ]
  },
  {
   "cell_type": "code",
   "execution_count": null,
   "metadata": {
    "collapsed": true
   },
   "outputs": [],
   "source": []
  },
  {
   "cell_type": "code",
   "execution_count": null,
   "metadata": {
    "collapsed": true
   },
   "outputs": [],
   "source": []
  }
 ],
 "metadata": {
  "kernelspec": {
   "display_name": "Python 3",
   "language": "python",
   "name": "python3"
  },
  "language_info": {
   "codemirror_mode": {
    "name": "ipython",
    "version": 3
   },
   "file_extension": ".py",
   "mimetype": "text/x-python",
   "name": "python",
   "nbconvert_exporter": "python",
   "pygments_lexer": "ipython3",
   "version": "3.6.1"
  }
 },
 "nbformat": 4,
 "nbformat_minor": 2
}
