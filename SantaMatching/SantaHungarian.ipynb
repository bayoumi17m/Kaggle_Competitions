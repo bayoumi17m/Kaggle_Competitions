{
 "cells": [
  {
   "cell_type": "markdown",
   "metadata": {},
   "source": [
    "# What Gifts will Santa be giving to the Kids?"
   ]
  },
  {
   "cell_type": "markdown",
   "metadata": {},
   "source": [
    "Looking at the problem, it seems to be a combinatorics problem similar to the knapsack problem. Thus I will use Google's OR-Tools to solve this system. Afterwards, I will use the Hungarian algorithm (also called Hungarian Method) to improve the solution. I could simply use the Hungarian Method, however it is O(n<sup>3</sup>). This would take absurdly long so we get closer to an optimal solution with the OR-tools then improve with the hunagian algorithm"
   ]
  },
  {
   "cell_type": "code",
   "execution_count": null,
   "metadata": {
    "collapsed": true
   },
   "outputs": [],
   "source": [
    "import numpy as np\n",
    "import pandas as pd\n",
    "from ortools.graph import pywrapgraph\n",
    "\n",
    "INPUT_PATH = '../input/'"
   ]
  },
  {
   "cell_type": "code",
   "execution_count": null,
   "metadata": {
    "collapsed": true
   },
   "outputs": [],
   "source": [
    "def avg_normalized_happiness(pred, gift, wish):\n",
    "    n_children = 1000000  # n children to give\n",
    "    n_gift_type = 1000  # n types of gifts available\n",
    "    twins = int(0.004 * n_children)  # 0.4% of all population, rounded to the closest even number\n",
    "\n",
    "    # check if twins have the same gift\n",
    "    for t1 in range(0, twins, 2):\n",
    "        twin1 = pred[t1]\n",
    "        twin2 = pred[t1 + 1]\n",
    "        assert twin1 == twin2\n",
    "\n",
    "    total_child_happiness = 0\n",
    "    total_gift_happiness = 0\n",
    "\n",
    "    for i in range(len(pred)):\n",
    "        child_id = i\n",
    "        gift_id = pred[i]\n",
    "\n",
    "        # check if child_id and gift_id exist\n",
    "        assert 0 <= child_id < n_children\n",
    "        assert 0 <= gift_id < n_gift_type\n",
    "        child_happiness = 20 - 2 * np.where(wish[child_id] == gift_id)[0]\n",
    "        if not child_happiness:\n",
    "            child_happiness = -1\n",
    "\n",
    "        gift_happiness = 2000 - 2 * np.where(gift[gift_id] == child_id)[0]\n",
    "        if not gift_happiness:\n",
    "            gift_happiness = -1\n",
    "\n",
    "        total_child_happiness += child_happiness\n",
    "        total_gift_happiness += gift_happiness\n",
    "\n",
    "    # print(max_child_happiness, max_gift_happiness\n",
    "    child_h = float(total_child_happiness) / 20000000\n",
    "    santa_h = float(total_gift_happiness) / 2000000000\n",
    "    print('Normalized child happiness: ', child_h)\n",
    "    print('Normalized santa happiness: ', santa_h)\n",
    "    return child_h + santa_h"
   ]
  },
  {
   "cell_type": "code",
   "execution_count": null,
   "metadata": {
    "collapsed": true
   },
   "outputs": [],
   "source": [
    "def get_overall_hapiness(wish, gift):\n",
    "\n",
    "    res_child = dict()\n",
    "    for i in range(0, 4000, 2):\n",
    "        for j in range(wish.shape[1]):\n",
    "            res_child[(i, wish[i][j])] = 50*(1 + (wish.shape[1] - j) * 2)\n",
    "            res_child[(i + 1, wish[i][j])] = 50*(1 + (wish.shape[1] - j) * 2)\n",
    "        for j in range(wish.shape[1]):\n",
    "            if (i, wish[i+1][j]) in res_child:\n",
    "                res_child[(i, wish[i+1][j])] += 50*(1 + (wish.shape[1] - j) * 2)\n",
    "            else:\n",
    "                res_child[(i, wish[i + 1][j])] = 50*(1 + (wish.shape[1] - j) * 2)\n",
    "            if (i+1, wish[i + 1][j]) in res_child:\n",
    "                res_child[(i + 1, wish[i+1][j])] += 50*(1 + (wish.shape[1] - j) * 2)\n",
    "            else:\n",
    "                res_child[(i + 1, wish[i + 1][j])] = 50*(1 + (wish.shape[1] - j) * 2)\n",
    "\n",
    "    for i in range(4000, wish.shape[0]):\n",
    "        for j in range(wish.shape[1]):\n",
    "            res_child[(i, wish[i][j])] = 100*(1 + (wish.shape[1] - j)*2)\n",
    "\n",
    "    res_santa = dict()\n",
    "    for i in range(gift.shape[0]):\n",
    "        for j in range(gift.shape[1]):\n",
    "            res_santa[(gift[i][j], i)] = (1 + (gift.shape[1] - j)*2)\n",
    "\n",
    "    positive_cases = list(set(res_santa.keys()) | set(res_child.keys()))\n",
    "    print('Positive case tuples (child, gift): {}'.format(len(positive_cases)))\n",
    "\n",
    "    res = dict()\n",
    "    for p in positive_cases:\n",
    "        res[p] = 0\n",
    "        if p in res_child:\n",
    "            res[p] += res_child[p]\n",
    "        if p in res_santa:\n",
    "            res[p] += res_santa[p]\n",
    "    return res"
   ]
  },
  {
   "cell_type": "code",
   "execution_count": null,
   "metadata": {
    "collapsed": true
   },
   "outputs": [],
   "source": [
    "def solve():\n",
    "    wish = pd.read_csv(INPUT_PATH + 'child_wishlist.csv', header=None).as_matrix()[:, 1:]\n",
    "    gift_init = pd.read_csv(INPUT_PATH + 'gift_goodkids.csv', header=None).as_matrix()[:, 1:]\n",
    "    gift = gift_init.copy()\n",
    "    answ = np.zeros(len(wish), dtype=np.int32)\n",
    "    answ[:] = -1\n",
    "    gift_count = np.zeros(len(gift), dtype=np.int32)\n",
    "    happiness = get_overall_hapiness(wish, gift)\n",
    "\n",
    "    start_nodes = []\n",
    "    end_nodes = []\n",
    "    capacities = []\n",
    "    unit_costs = []\n",
    "    supplies = []\n",
    "\n",
    "    for h in happiness:\n",
    "        c, g = h\n",
    "        # print(c, g, happiness[h])\n",
    "        start_nodes.append(int(c))\n",
    "        end_nodes.append(int(1000000 + g))\n",
    "        capacities.append(1)\n",
    "        unit_costs.append(-happiness[h])\n",
    "\n",
    "    for i in range(1000000):\n",
    "        supplies.append(1)\n",
    "    for j in range(1000000, 1001000):\n",
    "        supplies.append(-1000)\n",
    "\n",
    "    # Instantiate a SimpleMinCostFlow solver.\n",
    "    min_cost_flow = pywrapgraph.SimpleMinCostFlow()\n",
    "\n",
    "    # Add each arc.\n",
    "    for i in range(0, len(start_nodes)):\n",
    "        min_cost_flow.AddArcWithCapacityAndUnitCost(start_nodes[i], end_nodes[i], capacities[i], unit_costs[i])\n",
    "\n",
    "    # Add node supplies.\n",
    "    for i in range(0, len(supplies)):\n",
    "        min_cost_flow.SetNodeSupply(i, supplies[i])\n",
    "\n",
    "    # Find the minimum cost flow\n",
    "    print('Start solve....')\n",
    "    min_cost_flow.SolveMaxFlowWithMinCost()\n",
    "    res1 = min_cost_flow.MaximumFlow()\n",
    "    print('Maximum flow:', res1)\n",
    "    res2 = min_cost_flow.OptimalCost()\n",
    "    print('Optimal cost:', -res2 / 2000000000)\n",
    "    print('Num arcs:', min_cost_flow.NumArcs())\n",
    "\n",
    "    total = 0\n",
    "    for i in range(min_cost_flow.NumArcs()):\n",
    "        cost = min_cost_flow.Flow(i) * min_cost_flow.UnitCost(i)\n",
    "        if cost != 0:\n",
    "            answ[min_cost_flow.Tail(i)] = min_cost_flow.Head(i) - 1000000\n",
    "    print('Assigned: {}'.format(total))\n",
    "\n",
    "    # instead of improving twins only by checking the first one, check both and \n",
    "    # compare the happiness score\n",
    "    for i in range(0, 4000, 2):\n",
    "        print('Improve twin {}'.format(i))\n",
    "        if answ[i] != answ[i+1]:\n",
    "            less_hapiness = 1000000000\n",
    "            worst_child = [-1,-1]\n",
    "            for k in [i, i+1]:\n",
    "                for j in range(4000, 1000000):\n",
    "                    if answ[j] == answ[k]:\n",
    "                        if (j, answ[k]) in happiness:\n",
    "                            score = happiness[(j, answ[k])]\n",
    "                            if score < less_hapiness:\n",
    "                                less_hapiness = score\n",
    "                                if k == i:\n",
    "                                    worst_child[0] = j\n",
    "                                else:\n",
    "                                    worst_child[1] = j\n",
    "                        else:\n",
    "                            if k == i:\n",
    "                                worst_child[0] = j\n",
    "                            else:\n",
    "                                worst_child[1] = j\n",
    "                            break\n",
    "            if   0 < worst_child[0] and (worst_child[1] == -1 or worst_child[0] < worst_child[1]):\n",
    "                    answ[worst_child[0]] = answ[i+1]\n",
    "                    answ[i+1] = answ[i]\n",
    "            elif 0 < worst_child[1] and (worst_child[0] == -1 or worst_child[1] < worst_child[0]):\n",
    "                    answ[worst_child[1]] = answ[i]\n",
    "                    answ[i] = answ[i+1]\n",
    "    \n",
    "    if answ.min() == -1:\n",
    "        print('Some children without present')\n",
    "        exit()\n",
    "\n",
    "    if gift_count.max() > 1000:\n",
    "        print('Some error in kernel: {}'.format(gift_count.max()))\n",
    "        exit()\n",
    "\n",
    "    print('Start score calculation...')\n",
    "    score = avg_normalized_happiness(answ, gift_init, wish)\n",
    "    print('Predicted score: {:.8f}'.format(score))\n",
    "\n",
    "    out = open('FinalSub.csv', 'w')\n",
    "    out.write('ChildId,GiftId\\n')\n",
    "    for i in range(len(answ)):\n",
    "        out.write(str(i) + ',' + str(answ[i]) + '\\n')\n",
    "    out.close()"
   ]
  },
  {
   "cell_type": "code",
   "execution_count": null,
   "metadata": {
    "collapsed": true
   },
   "outputs": [],
   "source": [
    "solve()"
   ]
  },
  {
   "cell_type": "markdown",
   "metadata": {},
   "source": [
    "# Improving the Solution with Hungarian Algorithm"
   ]
  },
  {
   "cell_type": "code",
   "execution_count": null,
   "metadata": {
    "collapsed": true
   },
   "outputs": [],
   "source": [
    "import os\n",
    "import pandas as pd\n",
    "import numpy as np\n",
    "from scipy.optimize import linear_sum_assignment\n",
    "import datetime as dt\n",
    "from collections import defaultdict, Counter\n",
    "from tqdm import tqdm\n",
    "import matplotlib.pyplot as plt\n",
    "import datetime as dt\n",
    "plt.rcParams['figure.figsize'] = [16, 10]\n",
    "plt.rcParams['font.size'] = 16\n",
    "import seaborn as sns"
   ]
  },
  {
   "cell_type": "code",
   "execution_count": null,
   "metadata": {
    "collapsed": true
   },
   "outputs": [],
   "source": [
    "N_CHILDREN = 1000000\n",
    "N_GIFT_TYPE = 1000\n",
    "N_GIFT_QUANTITY = 1000\n",
    "N_GIFT_PREF = 1000\n",
    "N_CHILD_PREF = 10\n",
    "TWINS = int(0.004 * N_CHILDREN)\n",
    "\n",
    "CHILD_PREF = pd.read_csv('../input/santa-gift-matching/child_wishlist.csv', header=None).drop(0, 1).values\n",
    "GIFT_PREF = pd.read_csv('../input/santa-gift-matching/gift_goodkids.csv', header=None).drop(0, 1).values"
   ]
  },
  {
   "cell_type": "code",
   "execution_count": null,
   "metadata": {
    "collapsed": true
   },
   "outputs": [],
   "source": [
    "GIFT_HAPPINESS = {}\n",
    "for g in range(N_GIFT_TYPE):\n",
    "    GIFT_HAPPINESS[g] = defaultdict(lambda: 1. / (2 * N_GIFT_PREF))\n",
    "    for i, c in enumerate(GIFT_PREF[g]):\n",
    "        GIFT_HAPPINESS[g][c] = -1. * (N_GIFT_PREF - i) / N_GIFT_PREF\n",
    "\n",
    "CHILD_HAPPINESS = {}\n",
    "for c in range(N_CHILDREN):\n",
    "    CHILD_HAPPINESS[c] = defaultdict(lambda: 1. / (2 * N_CHILD_PREF))\n",
    "    for i, g in enumerate(CHILD_PREF[c]):\n",
    "        CHILD_HAPPINESS[c][g] = -1. * (N_CHILD_PREF - i) / N_CHILD_PREF\n",
    "\n",
    "GIFT_IDS = np.array([[g] * N_GIFT_QUANTITY for g in range(N_GIFT_TYPE)]).flatten()"
   ]
  },
  {
   "cell_type": "code",
   "execution_count": null,
   "metadata": {
    "collapsed": true
   },
   "outputs": [],
   "source": [
    "def my_avg_normalized_happiness(pred):\n",
    "    total_child_happiness = 0\n",
    "    total_gift_happiness = np.zeros(1000)\n",
    "    for c, g in pred:\n",
    "        total_child_happiness +=  -CHILD_HAPPINESS[c][g]\n",
    "        total_gift_happiness[g] += -GIFT_HAPPINESS[g][c]\n",
    "    nch = total_child_happiness / N_CHILDREN\n",
    "    ngh = np.mean(total_gift_happiness) / 1000\n",
    "    print('normalized child happiness', nch)\n",
    "    print('normalized gift happiness', ngh)\n",
    "    return nch + ngh"
   ]
  },
  {
   "cell_type": "code",
   "execution_count": null,
   "metadata": {
    "collapsed": true
   },
   "outputs": [],
   "source": [
    "def optimize_block(child_block, current_gift_ids):\n",
    "    gift_block = current_gift_ids[child_block]\n",
    "    C = np.zeros((BLOCK_SIZE, BLOCK_SIZE))\n",
    "    for i in range(BLOCK_SIZE):\n",
    "        c = child_block[i]\n",
    "        for j in range(BLOCK_SIZE):\n",
    "            g = GIFT_IDS[gift_block[j]]\n",
    "            C[i, j] = CHILD_HAPPINESS[c][g] + GIFT_HAPPINESS[g][c]\n",
    "    row_ind, col_ind = linear_sum_assignment(C)\n",
    "    return (child_block[row_ind], gift_block[col_ind])"
   ]
  },
  {
   "cell_type": "code",
   "execution_count": null,
   "metadata": {
    "collapsed": true
   },
   "outputs": [],
   "source": [
    "BLOCK_SIZE = 400\n",
    "INITIAL_SUBMISSION = './FinalSub.csv'\n",
    "N_BLOCKS = (N_CHILDREN - TWINS) / BLOCK_SIZE\n",
    "print('Block size: {}, n_blocks {}'.format(BLOCK_SIZE, N_BLOCKS))"
   ]
  },
  {
   "cell_type": "code",
   "execution_count": null,
   "metadata": {
    "collapsed": true
   },
   "outputs": [],
   "source": [
    "subm = pd.read_csv(INITIAL_SUBMISSION)\n",
    "initial_anh = my_avg_normalized_happiness(subm[['ChildId', 'GiftId']].values.tolist())\n",
    "print(initial_anh)\n",
    "subm['gift_rank'] = subm.groupby('GiftId').rank() - 1\n",
    "subm['gift_id'] = subm['GiftId'] * 1000 + subm['gift_rank']\n",
    "subm['gift_id'] = subm['gift_id'].astype(np.int64)\n",
    "current_gift_ids = subm['gift_id'].values"
   ]
  },
  {
   "cell_type": "code",
   "execution_count": null,
   "metadata": {
    "collapsed": true
   },
   "outputs": [],
   "source": [
    "start_time = dt.datetime.now()\n",
    "for i in range(1):\n",
    "    child_blocks = np.split(np.random.permutation(range(TWINS, N_CHILDREN)), N_BLOCKS)\n",
    "    for child_block in tqdm(child_blocks[:500]):\n",
    "        cids, gids = optimize_block(child_block, current_gift_ids=current_gift_ids)\n",
    "        current_gift_ids[cids] = gids\n",
    "    subm['GiftId'] = GIFT_IDS[current_gift_ids]\n",
    "    anh = my_avg_normalized_happiness(subm[['ChildId', 'GiftId']].values.tolist())\n",
    "    end_time = dt.datetime.now()\n",
    "    print(i, anh, (end_time-start_time).total_seconds())\n",
    "subm[['ChildId', 'GiftId']].to_csv('./submission_%i.csv' % int(anh * 10 ** 6), index=False)"
   ]
  },
  {
   "cell_type": "code",
   "execution_count": null,
   "metadata": {
    "collapsed": true
   },
   "outputs": [],
   "source": [
    "print('Improvement {}'.format(anh - initial_anh))"
   ]
  },
  {
   "cell_type": "code",
   "execution_count": null,
   "metadata": {
    "collapsed": true
   },
   "outputs": [],
   "source": [
    "'{:.1f} hours required to reach the top.'.format(((0.94253901 - 0.93421513) / (0.93421513 - initial_anh)) * 8)"
   ]
  },
  {
   "cell_type": "markdown",
   "metadata": {},
   "source": [
    "# Happiness Distribution"
   ]
  },
  {
   "cell_type": "code",
   "execution_count": null,
   "metadata": {
    "collapsed": true
   },
   "outputs": [],
   "source": [
    "child_happiness = np.zeros(N_CHILDREN)\n",
    "gift_happiness = np.zeros(N_CHILDREN)\n",
    "for (c, g) in subm[['ChildId', 'GiftId']].values.tolist():\n",
    "    child_happiness[c] += -CHILD_HAPPINESS[c][g]\n",
    "    gift_happiness[c] += -GIFT_HAPPINESS[g][c]"
   ]
  },
  {
   "cell_type": "code",
   "execution_count": null,
   "metadata": {
    "collapsed": true
   },
   "outputs": [],
   "source": [
    "plt.hist(gift_happiness, bins=20, color='r', normed=True, alpha=0.5, label='Santa happiness')\n",
    "plt.hist(child_happiness, bins=20, color='g', normed=True, alpha=0.5, label='Child happiness')\n",
    "plt.legend(loc=0)\n",
    "plt.grid()\n",
    "plt.xlabel('Happiness')\n",
    "plt.title('The children will be happier than Santa!')\n",
    "plt.show();"
   ]
  },
  {
   "cell_type": "markdown",
   "metadata": {},
   "source": [
    "# Time Complexity"
   ]
  },
  {
   "cell_type": "code",
   "execution_count": null,
   "metadata": {
    "collapsed": true
   },
   "outputs": [],
   "source": [
    "result = []\n",
    "for n in np.arange(100, 1600, 100):\n",
    "    C = np.random.random((n, n))\n",
    "    st = dt.datetime.now()\n",
    "    linear_sum_assignment(C)\n",
    "    et = dt.datetime.now()\n",
    "    result.append([n, (et - st).total_seconds()])"
   ]
  },
  {
   "cell_type": "code",
   "execution_count": null,
   "metadata": {
    "collapsed": true
   },
   "outputs": [],
   "source": [
    "result = np.array(result)\n",
    "poly_estimate = np.polyfit(result[:, 0], result[:, 1], 3)"
   ]
  },
  {
   "cell_type": "code",
   "execution_count": null,
   "metadata": {
    "collapsed": true
   },
   "outputs": [],
   "source": [
    "plt.scatter(result[:, 0], result[:, 1], c='y', s=500, marker='*', label='Run time')\n",
    "plt.plot(result[:, 0], np.poly1d(poly_estimate)(result[:, 0]), c='g', lw=3, label='Polynomial Estimate')\n",
    "plt.xlabel('Number of vertices')\n",
    "plt.ylabel('Run time (s)')\n",
    "plt.grid()\n",
    "plt.title('Hungarian method - O(n^3) time complexity')\n",
    "plt.legend(loc=0)\n",
    "plt.show()"
   ]
  }
 ],
 "metadata": {
  "kernelspec": {
   "display_name": "Python 3",
   "language": "python",
   "name": "python3"
  },
  "language_info": {
   "codemirror_mode": {
    "name": "ipython",
    "version": 3
   },
   "file_extension": ".py",
   "mimetype": "text/x-python",
   "name": "python",
   "nbconvert_exporter": "python",
   "pygments_lexer": "ipython3",
   "version": "3.6.1"
  }
 },
 "nbformat": 4,
 "nbformat_minor": 2
}
